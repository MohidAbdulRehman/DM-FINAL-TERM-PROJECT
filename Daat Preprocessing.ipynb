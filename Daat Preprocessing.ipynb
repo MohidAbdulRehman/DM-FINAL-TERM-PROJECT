{
 "cells": [
  {
   "cell_type": "markdown",
   "id": "1809a14f",
   "metadata": {},
   "source": [
    "# Report\n",
    "* Objective\n",
    "* Intro and background of the problem\n",
    "* Data Collection\n",
    "* Data Preprocessing\n",
    "* Modelling and evaluation\n",
    "* Results\n",
    "* Conclusion"
   ]
  },
  {
   "cell_type": "markdown",
   "id": "7fa7e3c0",
   "metadata": {},
   "source": [
    "\n",
    "\n",
    "<div style=\"background-color: #007BFF; color: #ffffff; padding: 20px; text-align: center; font-family: 'Verdana', sans-serif; border-radius: 10px; box-shadow: 0px 0px 10px rgba(0, 0, 0, 0.3);\">\n",
    "    <h1 style=\"font-size: 40px; font-weight: bold; margin: 0; \">🧹 Data preprocessing & visualization 📊</h1>\n",
    "</div>\n"
   ]
  },
  {
   "cell_type": "code",
   "execution_count": 17,
   "id": "e94e8f48",
   "metadata": {},
   "outputs": [],
   "source": [
    "# Importing Libraries\n",
    "import pandas as pd\n",
    "import numpy as np\n",
    "import matplotlib.pyplot as plt\n",
    "import seaborn as sns\n",
    "import plotly.express as px"
   ]
  },
  {
   "cell_type": "code",
   "execution_count": 2,
   "id": "68e0c156",
   "metadata": {},
   "outputs": [],
   "source": [
    "# Loading dataset\n",
    "df = pd.read_csv(r'C:\\Users\\hbc\\OneDrive\\Desktop\\DM term project\\Islamabad climate dataset.csv.csv')"
   ]
  },
  {
   "cell_type": "code",
   "execution_count": 3,
   "id": "f1d074bf",
   "metadata": {},
   "outputs": [
    {
     "data": {
      "text/plain": [
       "(988, 15)"
      ]
     },
     "execution_count": 3,
     "metadata": {},
     "output_type": "execute_result"
    }
   ],
   "source": [
    "df.shape"
   ]
  },
  {
   "cell_type": "code",
   "execution_count": 4,
   "id": "b13391e6",
   "metadata": {},
   "outputs": [
    {
     "data": {
      "text/html": [
       "<div>\n",
       "<style scoped>\n",
       "    .dataframe tbody tr th:only-of-type {\n",
       "        vertical-align: middle;\n",
       "    }\n",
       "\n",
       "    .dataframe tbody tr th {\n",
       "        vertical-align: top;\n",
       "    }\n",
       "\n",
       "    .dataframe thead th {\n",
       "        text-align: right;\n",
       "    }\n",
       "</style>\n",
       "<table border=\"1\" class=\"dataframe\">\n",
       "  <thead>\n",
       "    <tr style=\"text-align: right;\">\n",
       "      <th></th>\n",
       "      <th>[[</th>\n",
       "      <th>Unnamed: 0</th>\n",
       "      <th>daymonth_category</th>\n",
       "      <th>daymonth</th>\n",
       "      <th>weather</th>\n",
       "      <th>max_temp</th>\n",
       "      <th>min_temp</th>\n",
       "      <th>wind</th>\n",
       "      <th>rain</th>\n",
       "      <th>humidity</th>\n",
       "      <th>cloud</th>\n",
       "      <th>pressure</th>\n",
       "      <th>year</th>\n",
       "      <th>weathervalue</th>\n",
       "      <th>avg_temp</th>\n",
       "    </tr>\n",
       "  </thead>\n",
       "  <tbody>\n",
       "    <tr>\n",
       "      <th>0</th>\n",
       "      <td>0</td>\n",
       "      <td>11/17/2020 11:29:59</td>\n",
       "      <td>01/01/2020</td>\n",
       "      <td>01/01/2020</td>\n",
       "      <td>Sunny</td>\n",
       "      <td>18.0</td>\n",
       "      <td>6.0</td>\n",
       "      <td>7.0</td>\n",
       "      <td>0.0</td>\n",
       "      <td>41.0</td>\n",
       "      <td>12.0</td>\n",
       "      <td>1024.0</td>\n",
       "      <td>2009.0</td>\n",
       "      <td>1.0</td>\n",
       "      <td>12.0</td>\n",
       "    </tr>\n",
       "    <tr>\n",
       "      <th>1</th>\n",
       "      <td>1</td>\n",
       "      <td>11/17/2020 11:30:39</td>\n",
       "      <td>01/01/2020</td>\n",
       "      <td>01/01/2020</td>\n",
       "      <td>Sunny</td>\n",
       "      <td>19.0</td>\n",
       "      <td>4.0</td>\n",
       "      <td>8.0</td>\n",
       "      <td>0.0</td>\n",
       "      <td>23.0</td>\n",
       "      <td>3.0</td>\n",
       "      <td>1019.0</td>\n",
       "      <td>2010.0</td>\n",
       "      <td>1.0</td>\n",
       "      <td>11.5</td>\n",
       "    </tr>\n",
       "  </tbody>\n",
       "</table>\n",
       "</div>"
      ],
      "text/plain": [
       "   [[           Unnamed: 0 daymonth_category    daymonth weather  max_temp  \\\n",
       "0   0  11/17/2020 11:29:59        01/01/2020  01/01/2020   Sunny      18.0   \n",
       "1   1  11/17/2020 11:30:39        01/01/2020  01/01/2020   Sunny      19.0   \n",
       "\n",
       "   min_temp  wind  rain  humidity  cloud  pressure    year  weathervalue  \\\n",
       "0       6.0   7.0   0.0      41.0   12.0    1024.0  2009.0           1.0   \n",
       "1       4.0   8.0   0.0      23.0    3.0    1019.0  2010.0           1.0   \n",
       "\n",
       "   avg_temp  \n",
       "0      12.0  \n",
       "1      11.5  "
      ]
     },
     "execution_count": 4,
     "metadata": {},
     "output_type": "execute_result"
    }
   ],
   "source": [
    "df.head(2)"
   ]
  },
  {
   "cell_type": "markdown",
   "id": "8ac18a70",
   "metadata": {},
   "source": [
    "\n",
    "<div style=\"background-color: #007BFF; color: #ffffff; padding: 10px; font-family: 'Verdana', sans-serif; border-radius: 5px; box-shadow: 0px 0px 5px rgba(0, 0, 0, 0.3);\">\n",
    "    <h2 style=\"font-size: 24px; font-weight: bold; margin: 0;\"> Data Preprocessing 🛠️</h2>\n",
    "</div>\n"
   ]
  },
  {
   "cell_type": "markdown",
   "id": "7f882818",
   "metadata": {},
   "source": [
    "<div style=\"background: #FF8C00; color: #ffffff; padding: 8px 10px; font-family: 'Verdana', sans-serif; border-radius: 3px; box-shadow: 0px 2px 4px rgba(0, 0, 0, 0.2);\">\n",
    "    <h4 style=\"font-size: 18px; font-weight: bold; margin: 0; text-transform: uppercase; letter-spacing: 1px;\"> 1. Data Cleaning🧹</h4>\n",
    "</div>\n"
   ]
  },
  {
   "cell_type": "markdown",
   "id": "3d98a337",
   "metadata": {},
   "source": [
    "<div style=\"text-align: left;\">\n",
    "    <span style=\"font-family: arial; padding: 5px; display: inline-block; border-radius: 20px 20px; background-color:#FFA500; font-size: 150%; font-weight: 150%; color: white; overflow: hidden; margin-left: 20px;\">&nbsp; 1.1. Dropping irrelevant columns &nbsp;</span>\n",
    "</div>\n"
   ]
  },
  {
   "cell_type": "code",
   "execution_count": 5,
   "id": "88d40374",
   "metadata": {},
   "outputs": [
    {
     "data": {
      "text/plain": [
       "Index(['[[', 'Unnamed: 0', 'daymonth_category', 'daymonth', 'weather',\n",
       "       'max_temp', 'min_temp', 'wind', 'rain', 'humidity', 'cloud', 'pressure',\n",
       "       'year', 'weathervalue', 'avg_temp'],\n",
       "      dtype='object')"
      ]
     },
     "execution_count": 5,
     "metadata": {},
     "output_type": "execute_result"
    }
   ],
   "source": [
    "df.columns"
   ]
  },
  {
   "cell_type": "code",
   "execution_count": 6,
   "id": "0c2981fc",
   "metadata": {},
   "outputs": [],
   "source": [
    "# Droping unnecessary columns:\n",
    "df.drop(columns = ['[[', 'Unnamed: 0', 'daymonth_category', 'weathervalue'], inplace = True)"
   ]
  },
  {
   "cell_type": "markdown",
   "id": "b2f390ed",
   "metadata": {},
   "source": [
    "<div style=\"text-align: left;\">\n",
    "    <span style=\"font-family: arial; padding: 5px; display: inline-block; border-radius: 20px 20px; background-color:#FFA500; font-size: 150%; font-weight: 150%; color: white; overflow: hidden; margin-left: 20px;\">&nbsp; 1.2. Correcting inconsistent data &nbsp;</span>\n",
    "</div>"
   ]
  },
  {
   "cell_type": "code",
   "execution_count": 7,
   "id": "befef87e",
   "metadata": {},
   "outputs": [
    {
     "name": "stdout",
     "output_type": "stream",
     "text": [
      "<class 'pandas.core.frame.DataFrame'>\n",
      "RangeIndex: 988 entries, 0 to 987\n",
      "Data columns (total 11 columns):\n",
      " #   Column    Non-Null Count  Dtype  \n",
      "---  ------    --------------  -----  \n",
      " 0   daymonth  987 non-null    object \n",
      " 1   weather   986 non-null    object \n",
      " 2   max_temp  985 non-null    float64\n",
      " 3   min_temp  986 non-null    float64\n",
      " 4   wind      987 non-null    float64\n",
      " 5   rain      986 non-null    float64\n",
      " 6   humidity  987 non-null    float64\n",
      " 7   cloud     985 non-null    float64\n",
      " 8   pressure  986 non-null    float64\n",
      " 9   year      987 non-null    float64\n",
      " 10  avg_temp  985 non-null    float64\n",
      "dtypes: float64(9), object(2)\n",
      "memory usage: 85.0+ KB\n"
     ]
    }
   ],
   "source": [
    "df.info()"
   ]
  },
  {
   "cell_type": "code",
   "execution_count": 8,
   "id": "9d7b5050",
   "metadata": {},
   "outputs": [],
   "source": [
    "# Converting year datatype from float to category\n",
    "df['year'] = df['year'].astype('category')"
   ]
  },
  {
   "cell_type": "code",
   "execution_count": 9,
   "id": "dcb4ef4b",
   "metadata": {},
   "outputs": [],
   "source": [
    "# Converting rain values from float to int/boolean\n",
    "# If value is greater than 0 its 1 or raining else 0 or not raining\n",
    "df['rain'] = df['rain'].apply(lambda x:1 if x > 0 else 0)"
   ]
  },
  {
   "cell_type": "code",
   "execution_count": 10,
   "id": "f43ecd9e",
   "metadata": {},
   "outputs": [],
   "source": [
    "# Converting daymonth column to date datatype\n",
    "df['daymonth'] = pd.to_datetime(df['daymonth']).dt.date"
   ]
  },
  {
   "cell_type": "markdown",
   "id": "4a7c3b20",
   "metadata": {},
   "source": [
    "<div style=\"text-align: left;\">\n",
    "    <span style=\"font-family: arial; padding: 5px; display: inline-block; border-radius: 20px 20px; background-color:#FFA500; font-size: 150%; font-weight: 150%; color: white; overflow: hidden; margin-left: 20px;\">&nbsp; 1.3. Handling Duplicates values &nbsp;</span>\n",
    "</div>"
   ]
  },
  {
   "cell_type": "code",
   "execution_count": 11,
   "id": "4ac85abf",
   "metadata": {},
   "outputs": [
    {
     "data": {
      "text/plain": [
       "136"
      ]
     },
     "execution_count": 11,
     "metadata": {},
     "output_type": "execute_result"
    }
   ],
   "source": [
    "df.duplicated().sum()"
   ]
  },
  {
   "cell_type": "code",
   "execution_count": 12,
   "id": "a1f97b0a",
   "metadata": {},
   "outputs": [],
   "source": [
    "# Droping duplicates values\n",
    "df.drop_duplicates(inplace = True)"
   ]
  },
  {
   "cell_type": "markdown",
   "id": "09cb3a75",
   "metadata": {},
   "source": [
    "<br>"
   ]
  },
  {
   "cell_type": "markdown",
   "id": "91c206c7",
   "metadata": {},
   "source": [
    "<div style=\"background: #FF8C00; color: #ffffff; padding: 8px 10px; font-family: 'Verdana', sans-serif; border-radius: 3px; box-shadow: 0px 2px 4px rgba(0, 0, 0, 0.2);\">\n",
    "    <h4 style=\"font-size: 18px; font-weight: bold; margin: 0; text-transform: uppercase; letter-spacing: 1px;\"> 2. Handling Missing Values</h4>\n",
    "</div>\n"
   ]
  },
  {
   "cell_type": "markdown",
   "id": "779fe9b1",
   "metadata": {},
   "source": [
    "<div style=\"text-align: left;\">\n",
    "    <span style=\"font-family: arial; padding: 5px; display: inline-block; border-radius: 20px 20px; background-color:#FFA500; font-size: 150%; font-weight: 150%; color: white; overflow: hidden; margin-left: 20px;\">&nbsp; 2.1 Identifying missing values &nbsp;</span>\n",
    "</div>"
   ]
  },
  {
   "cell_type": "code",
   "execution_count": 13,
   "id": "2814031f",
   "metadata": {},
   "outputs": [
    {
     "data": {
      "text/plain": [
       "daymonth    1\n",
       "weather     2\n",
       "max_temp    3\n",
       "min_temp    2\n",
       "wind        1\n",
       "rain        0\n",
       "humidity    1\n",
       "cloud       3\n",
       "pressure    2\n",
       "year        1\n",
       "avg_temp    3\n",
       "dtype: int64"
      ]
     },
     "execution_count": 13,
     "metadata": {},
     "output_type": "execute_result"
    }
   ],
   "source": [
    "# Identifying missing values in evry columns\n",
    "df.isnull().sum()"
   ]
  },
  {
   "cell_type": "markdown",
   "id": "482a0cee",
   "metadata": {},
   "source": [
    "<div style=\"text-align: left;\">\n",
    "    <span style=\"font-family: arial; padding: 5px; display: inline-block; border-radius: 20px 20px; background-color:#FFA500; font-size: 150%; font-weight: 150%; color: white; overflow: hidden; margin-left: 20px;\">&nbsp; 2.2 Droping missing values &nbsp;</span>\n",
    "</div>"
   ]
  },
  {
   "cell_type": "code",
   "execution_count": 14,
   "id": "5fe27ea2",
   "metadata": {},
   "outputs": [],
   "source": [
    "# Droping missing values \n",
    "df.dropna(inplace = True)"
   ]
  },
  {
   "cell_type": "markdown",
   "id": "dfab38c2",
   "metadata": {},
   "source": [
    "<br>"
   ]
  },
  {
   "cell_type": "markdown",
   "id": "524cd3d8",
   "metadata": {},
   "source": [
    "<div style=\"background: #FF8C00; color: #ffffff; padding: 8px 10px; font-family: 'Verdana', sans-serif; border-radius: 3px; box-shadow: 0px 2px 4px rgba(0, 0, 0, 0.2);\">\n",
    "    <h4 style=\"font-size: 18px; font-weight: bold; margin: 0; text-transform: uppercase; letter-spacing: 1px;\"> 3. Handling Outliers</h4>\n",
    "</div>\n"
   ]
  },
  {
   "cell_type": "markdown",
   "id": "5d21a3b6",
   "metadata": {},
   "source": [
    "<div style=\"text-align: left;\">\n",
    "    <span style=\"font-family: arial; padding: 5px; display: inline-block; border-radius: 20px 20px; background-color:#FFA500; font-size: 150%; font-weight: 150%; color: white; overflow: hidden; margin-left: 20px;\">&nbsp; 3.1 Outliers detecion using Box Plot &nbsp;</span>\n",
    "</div>"
   ]
  },
  {
   "cell_type": "code",
   "execution_count": 24,
   "id": "db4e29bd",
   "metadata": {
    "scrolled": false
   },
   "outputs": [
    {
     "data": {
      "application/vnd.plotly.v1+json": {
       "config": {
        "plotlyServerURL": "https://plot.ly"
       },
       "data": [
        {
         "alignmentgroup": "True",
         "hovertemplate": "max_temp=%{x}<extra></extra>",
         "legendgroup": "",
         "marker": {
          "color": "skyblue",
          "line": {
           "color": "darkblue",
           "width": 1
          }
         },
         "name": "",
         "notched": false,
         "offsetgroup": "",
         "orientation": "h",
         "showlegend": false,
         "type": "box",
         "x": [
          18,
          19,
          18,
          14,
          17,
          18,
          20,
          18,
          16,
          15,
          18,
          18,
          16,
          15,
          18,
          17,
          16,
          15,
          16,
          21,
          17,
          15,
          15,
          16,
          21,
          17,
          15,
          15,
          17,
          19,
          14,
          15,
          17,
          21,
          18,
          17,
          19,
          17,
          13,
          14,
          18,
          19,
          17,
          17,
          23,
          26,
          25,
          23,
          18,
          20,
          19,
          19,
          18,
          16,
          18,
          17,
          19,
          16,
          18,
          19,
          19,
          17,
          16,
          18,
          21,
          21,
          13,
          19,
          22,
          15,
          14,
          22,
          15,
          15,
          15,
          21,
          16,
          14,
          12,
          16,
          20,
          17,
          13,
          14,
          19,
          21,
          17,
          13,
          16,
          20,
          22,
          19,
          14,
          17,
          21,
          19,
          19,
          14,
          18,
          21,
          22,
          19,
          15,
          16,
          22,
          18,
          16,
          18,
          22,
          18,
          16,
          19,
          19,
          22,
          18,
          16,
          19,
          18,
          21,
          19,
          16,
          20,
          20,
          19,
          19,
          17,
          20,
          20,
          15,
          17,
          21,
          19,
          19,
          19,
          18,
          20,
          20,
          19,
          20,
          17,
          21,
          21,
          19,
          22,
          18,
          21,
          20,
          19,
          25,
          19,
          19,
          21,
          19,
          21,
          21,
          18,
          20,
          14,
          16,
          18,
          20,
          16,
          15,
          19,
          15,
          17,
          21,
          17,
          14,
          19,
          19,
          15,
          20,
          17,
          15,
          18,
          17,
          20,
          15,
          15,
          18,
          18,
          21,
          18,
          19,
          18,
          18,
          14,
          20,
          19,
          12,
          18,
          15,
          20,
          17,
          17,
          16,
          13,
          21,
          19,
          18,
          17,
          18,
          22,
          20,
          17,
          15,
          19,
          15,
          22,
          22,
          17,
          19,
          23,
          13,
          21,
          21,
          25,
          20,
          16,
          19,
          19,
          24,
          20,
          16,
          24,
          16,
          19,
          22,
          21,
          17,
          16,
          21,
          20,
          19,
          18,
          21,
          22,
          21,
          17,
          21,
          27,
          24,
          21,
          25,
          27,
          23,
          26,
          27,
          21,
          26,
          26,
          22,
          22,
          26,
          26,
          14,
          22,
          22,
          27,
          25,
          23,
          21,
          28,
          23,
          26,
          22,
          19,
          28,
          24,
          26,
          23,
          19,
          26,
          27,
          24,
          20,
          28,
          25,
          27,
          29,
          28,
          26,
          27,
          30,
          29,
          28,
          19,
          30,
          30,
          21,
          19,
          30,
          31,
          32,
          24,
          23,
          29,
          33,
          32,
          25,
          25,
          29,
          32,
          31,
          26,
          23,
          24,
          33,
          29,
          29,
          25,
          28,
          34,
          28,
          21,
          35,
          25,
          25,
          25,
          34,
          26,
          22,
          27,
          27,
          34,
          28,
          25,
          28,
          28,
          34,
          30,
          27,
          24,
          34,
          30,
          28,
          24,
          31,
          27,
          24,
          26,
          33,
          31,
          24,
          26,
          25,
          33,
          28,
          26,
          28,
          23,
          33,
          27,
          27,
          23,
          33,
          25,
          29,
          27,
          26,
          31,
          25,
          32,
          28,
          28,
          31,
          24,
          30,
          28,
          29,
          31,
          24,
          31,
          27,
          27,
          30,
          24,
          30,
          27,
          30,
          32,
          23,
          32,
          26,
          28,
          31,
          24,
          32,
          27,
          18,
          34,
          25,
          30,
          29,
          25,
          35,
          27,
          30,
          30,
          18,
          36,
          28,
          31,
          30,
          24,
          34,
          27,
          30,
          32,
          27,
          36,
          27,
          27,
          28,
          28,
          37,
          27,
          25,
          30,
          32,
          34,
          28,
          26,
          31,
          29,
          36,
          30,
          27,
          32,
          33,
          38,
          31,
          23,
          31,
          23,
          39,
          30,
          26,
          32,
          30,
          39,
          29,
          27,
          29,
          31,
          39,
          27,
          30,
          33,
          37,
          25,
          31,
          35,
          37,
          28,
          27,
          32,
          34,
          37,
          28,
          26,
          30,
          31,
          29,
          28,
          28,
          32,
          32,
          32,
          27,
          29,
          32,
          33,
          33,
          28,
          30,
          32,
          34,
          36,
          29,
          31,
          34,
          36,
          38,
          29,
          31,
          35,
          37,
          38,
          27,
          31,
          35,
          35,
          37,
          28,
          30,
          36,
          35,
          36,
          24,
          30,
          37,
          37,
          33,
          26,
          31,
          38,
          28,
          32,
          28,
          33,
          39,
          34,
          35,
          27,
          38,
          38,
          38,
          37,
          29,
          33,
          39,
          34,
          32,
          37,
          39,
          32,
          33,
          26,
          25,
          34,
          34,
          32,
          34,
          32,
          30,
          34,
          34,
          33,
          33,
          32,
          35,
          33,
          36,
          34,
          35,
          36,
          35,
          35,
          35,
          33,
          35,
          36,
          34,
          36,
          35,
          36,
          34,
          33,
          36,
          37,
          31,
          30,
          39,
          36,
          35,
          32,
          32,
          39,
          36,
          38,
          33,
          39,
          38,
          39,
          34,
          34,
          39,
          39,
          40,
          36,
          35,
          40,
          41,
          33,
          38,
          42,
          35,
          39,
          33,
          40,
          42,
          36,
          40,
          35,
          41,
          38,
          39,
          36,
          31,
          40,
          42,
          35,
          33,
          40,
          40,
          37,
          39,
          41,
          41,
          35,
          42,
          37,
          39,
          40,
          34,
          42,
          37,
          34,
          41,
          35,
          42,
          38,
          36,
          40,
          36,
          42,
          39,
          38,
          40,
          37,
          41,
          39,
          41,
          39,
          37,
          41,
          39,
          43,
          39,
          36,
          38,
          37,
          43,
          41,
          35,
          37,
          37,
          42,
          42,
          34,
          37,
          36,
          41,
          43,
          35,
          38,
          34,
          42,
          43,
          35,
          38,
          36,
          42,
          42,
          37,
          38,
          41,
          39,
          37,
          37,
          39,
          41,
          39,
          36,
          36,
          39,
          42,
          41,
          35,
          35,
          39,
          41,
          43,
          32,
          37,
          39,
          43,
          43,
          35,
          39,
          36,
          42,
          43,
          35,
          40,
          37,
          42,
          44,
          36,
          39,
          38,
          43,
          38,
          39,
          33,
          41,
          34,
          37,
          37,
          34,
          42,
          37,
          38,
          42,
          33,
          36,
          37,
          34,
          43,
          34,
          35,
          35,
          43,
          35,
          34,
          34,
          36,
          43,
          35,
          35,
          33,
          41,
          35,
          37,
          32,
          41,
          32,
          34,
          42,
          33,
          37,
          34,
          41,
          33,
          33,
          35,
          35,
          42,
          35,
          33,
          35,
          34,
          42,
          34,
          32,
          35,
          33,
          42
         ],
         "x0": " ",
         "xaxis": "x",
         "y0": " ",
         "yaxis": "y"
        }
       ],
       "layout": {
        "boxmode": "group",
        "legend": {
         "tracegroupgap": 0
        },
        "template": {
         "data": {
          "bar": [
           {
            "error_x": {
             "color": "#2a3f5f"
            },
            "error_y": {
             "color": "#2a3f5f"
            },
            "marker": {
             "line": {
              "color": "#E5ECF6",
              "width": 0.5
             },
             "pattern": {
              "fillmode": "overlay",
              "size": 10,
              "solidity": 0.2
             }
            },
            "type": "bar"
           }
          ],
          "barpolar": [
           {
            "marker": {
             "line": {
              "color": "#E5ECF6",
              "width": 0.5
             },
             "pattern": {
              "fillmode": "overlay",
              "size": 10,
              "solidity": 0.2
             }
            },
            "type": "barpolar"
           }
          ],
          "carpet": [
           {
            "aaxis": {
             "endlinecolor": "#2a3f5f",
             "gridcolor": "white",
             "linecolor": "white",
             "minorgridcolor": "white",
             "startlinecolor": "#2a3f5f"
            },
            "baxis": {
             "endlinecolor": "#2a3f5f",
             "gridcolor": "white",
             "linecolor": "white",
             "minorgridcolor": "white",
             "startlinecolor": "#2a3f5f"
            },
            "type": "carpet"
           }
          ],
          "choropleth": [
           {
            "colorbar": {
             "outlinewidth": 0,
             "ticks": ""
            },
            "type": "choropleth"
           }
          ],
          "contour": [
           {
            "colorbar": {
             "outlinewidth": 0,
             "ticks": ""
            },
            "colorscale": [
             [
              0,
              "#0d0887"
             ],
             [
              0.1111111111111111,
              "#46039f"
             ],
             [
              0.2222222222222222,
              "#7201a8"
             ],
             [
              0.3333333333333333,
              "#9c179e"
             ],
             [
              0.4444444444444444,
              "#bd3786"
             ],
             [
              0.5555555555555556,
              "#d8576b"
             ],
             [
              0.6666666666666666,
              "#ed7953"
             ],
             [
              0.7777777777777778,
              "#fb9f3a"
             ],
             [
              0.8888888888888888,
              "#fdca26"
             ],
             [
              1,
              "#f0f921"
             ]
            ],
            "type": "contour"
           }
          ],
          "contourcarpet": [
           {
            "colorbar": {
             "outlinewidth": 0,
             "ticks": ""
            },
            "type": "contourcarpet"
           }
          ],
          "heatmap": [
           {
            "colorbar": {
             "outlinewidth": 0,
             "ticks": ""
            },
            "colorscale": [
             [
              0,
              "#0d0887"
             ],
             [
              0.1111111111111111,
              "#46039f"
             ],
             [
              0.2222222222222222,
              "#7201a8"
             ],
             [
              0.3333333333333333,
              "#9c179e"
             ],
             [
              0.4444444444444444,
              "#bd3786"
             ],
             [
              0.5555555555555556,
              "#d8576b"
             ],
             [
              0.6666666666666666,
              "#ed7953"
             ],
             [
              0.7777777777777778,
              "#fb9f3a"
             ],
             [
              0.8888888888888888,
              "#fdca26"
             ],
             [
              1,
              "#f0f921"
             ]
            ],
            "type": "heatmap"
           }
          ],
          "heatmapgl": [
           {
            "colorbar": {
             "outlinewidth": 0,
             "ticks": ""
            },
            "colorscale": [
             [
              0,
              "#0d0887"
             ],
             [
              0.1111111111111111,
              "#46039f"
             ],
             [
              0.2222222222222222,
              "#7201a8"
             ],
             [
              0.3333333333333333,
              "#9c179e"
             ],
             [
              0.4444444444444444,
              "#bd3786"
             ],
             [
              0.5555555555555556,
              "#d8576b"
             ],
             [
              0.6666666666666666,
              "#ed7953"
             ],
             [
              0.7777777777777778,
              "#fb9f3a"
             ],
             [
              0.8888888888888888,
              "#fdca26"
             ],
             [
              1,
              "#f0f921"
             ]
            ],
            "type": "heatmapgl"
           }
          ],
          "histogram": [
           {
            "marker": {
             "pattern": {
              "fillmode": "overlay",
              "size": 10,
              "solidity": 0.2
             }
            },
            "type": "histogram"
           }
          ],
          "histogram2d": [
           {
            "colorbar": {
             "outlinewidth": 0,
             "ticks": ""
            },
            "colorscale": [
             [
              0,
              "#0d0887"
             ],
             [
              0.1111111111111111,
              "#46039f"
             ],
             [
              0.2222222222222222,
              "#7201a8"
             ],
             [
              0.3333333333333333,
              "#9c179e"
             ],
             [
              0.4444444444444444,
              "#bd3786"
             ],
             [
              0.5555555555555556,
              "#d8576b"
             ],
             [
              0.6666666666666666,
              "#ed7953"
             ],
             [
              0.7777777777777778,
              "#fb9f3a"
             ],
             [
              0.8888888888888888,
              "#fdca26"
             ],
             [
              1,
              "#f0f921"
             ]
            ],
            "type": "histogram2d"
           }
          ],
          "histogram2dcontour": [
           {
            "colorbar": {
             "outlinewidth": 0,
             "ticks": ""
            },
            "colorscale": [
             [
              0,
              "#0d0887"
             ],
             [
              0.1111111111111111,
              "#46039f"
             ],
             [
              0.2222222222222222,
              "#7201a8"
             ],
             [
              0.3333333333333333,
              "#9c179e"
             ],
             [
              0.4444444444444444,
              "#bd3786"
             ],
             [
              0.5555555555555556,
              "#d8576b"
             ],
             [
              0.6666666666666666,
              "#ed7953"
             ],
             [
              0.7777777777777778,
              "#fb9f3a"
             ],
             [
              0.8888888888888888,
              "#fdca26"
             ],
             [
              1,
              "#f0f921"
             ]
            ],
            "type": "histogram2dcontour"
           }
          ],
          "mesh3d": [
           {
            "colorbar": {
             "outlinewidth": 0,
             "ticks": ""
            },
            "type": "mesh3d"
           }
          ],
          "parcoords": [
           {
            "line": {
             "colorbar": {
              "outlinewidth": 0,
              "ticks": ""
             }
            },
            "type": "parcoords"
           }
          ],
          "pie": [
           {
            "automargin": true,
            "type": "pie"
           }
          ],
          "scatter": [
           {
            "fillpattern": {
             "fillmode": "overlay",
             "size": 10,
             "solidity": 0.2
            },
            "type": "scatter"
           }
          ],
          "scatter3d": [
           {
            "line": {
             "colorbar": {
              "outlinewidth": 0,
              "ticks": ""
             }
            },
            "marker": {
             "colorbar": {
              "outlinewidth": 0,
              "ticks": ""
             }
            },
            "type": "scatter3d"
           }
          ],
          "scattercarpet": [
           {
            "marker": {
             "colorbar": {
              "outlinewidth": 0,
              "ticks": ""
             }
            },
            "type": "scattercarpet"
           }
          ],
          "scattergeo": [
           {
            "marker": {
             "colorbar": {
              "outlinewidth": 0,
              "ticks": ""
             }
            },
            "type": "scattergeo"
           }
          ],
          "scattergl": [
           {
            "marker": {
             "colorbar": {
              "outlinewidth": 0,
              "ticks": ""
             }
            },
            "type": "scattergl"
           }
          ],
          "scattermapbox": [
           {
            "marker": {
             "colorbar": {
              "outlinewidth": 0,
              "ticks": ""
             }
            },
            "type": "scattermapbox"
           }
          ],
          "scatterpolar": [
           {
            "marker": {
             "colorbar": {
              "outlinewidth": 0,
              "ticks": ""
             }
            },
            "type": "scatterpolar"
           }
          ],
          "scatterpolargl": [
           {
            "marker": {
             "colorbar": {
              "outlinewidth": 0,
              "ticks": ""
             }
            },
            "type": "scatterpolargl"
           }
          ],
          "scatterternary": [
           {
            "marker": {
             "colorbar": {
              "outlinewidth": 0,
              "ticks": ""
             }
            },
            "type": "scatterternary"
           }
          ],
          "surface": [
           {
            "colorbar": {
             "outlinewidth": 0,
             "ticks": ""
            },
            "colorscale": [
             [
              0,
              "#0d0887"
             ],
             [
              0.1111111111111111,
              "#46039f"
             ],
             [
              0.2222222222222222,
              "#7201a8"
             ],
             [
              0.3333333333333333,
              "#9c179e"
             ],
             [
              0.4444444444444444,
              "#bd3786"
             ],
             [
              0.5555555555555556,
              "#d8576b"
             ],
             [
              0.6666666666666666,
              "#ed7953"
             ],
             [
              0.7777777777777778,
              "#fb9f3a"
             ],
             [
              0.8888888888888888,
              "#fdca26"
             ],
             [
              1,
              "#f0f921"
             ]
            ],
            "type": "surface"
           }
          ],
          "table": [
           {
            "cells": {
             "fill": {
              "color": "#EBF0F8"
             },
             "line": {
              "color": "white"
             }
            },
            "header": {
             "fill": {
              "color": "#C8D4E3"
             },
             "line": {
              "color": "white"
             }
            },
            "type": "table"
           }
          ]
         },
         "layout": {
          "annotationdefaults": {
           "arrowcolor": "#2a3f5f",
           "arrowhead": 0,
           "arrowwidth": 1
          },
          "autotypenumbers": "strict",
          "coloraxis": {
           "colorbar": {
            "outlinewidth": 0,
            "ticks": ""
           }
          },
          "colorscale": {
           "diverging": [
            [
             0,
             "#8e0152"
            ],
            [
             0.1,
             "#c51b7d"
            ],
            [
             0.2,
             "#de77ae"
            ],
            [
             0.3,
             "#f1b6da"
            ],
            [
             0.4,
             "#fde0ef"
            ],
            [
             0.5,
             "#f7f7f7"
            ],
            [
             0.6,
             "#e6f5d0"
            ],
            [
             0.7,
             "#b8e186"
            ],
            [
             0.8,
             "#7fbc41"
            ],
            [
             0.9,
             "#4d9221"
            ],
            [
             1,
             "#276419"
            ]
           ],
           "sequential": [
            [
             0,
             "#0d0887"
            ],
            [
             0.1111111111111111,
             "#46039f"
            ],
            [
             0.2222222222222222,
             "#7201a8"
            ],
            [
             0.3333333333333333,
             "#9c179e"
            ],
            [
             0.4444444444444444,
             "#bd3786"
            ],
            [
             0.5555555555555556,
             "#d8576b"
            ],
            [
             0.6666666666666666,
             "#ed7953"
            ],
            [
             0.7777777777777778,
             "#fb9f3a"
            ],
            [
             0.8888888888888888,
             "#fdca26"
            ],
            [
             1,
             "#f0f921"
            ]
           ],
           "sequentialminus": [
            [
             0,
             "#0d0887"
            ],
            [
             0.1111111111111111,
             "#46039f"
            ],
            [
             0.2222222222222222,
             "#7201a8"
            ],
            [
             0.3333333333333333,
             "#9c179e"
            ],
            [
             0.4444444444444444,
             "#bd3786"
            ],
            [
             0.5555555555555556,
             "#d8576b"
            ],
            [
             0.6666666666666666,
             "#ed7953"
            ],
            [
             0.7777777777777778,
             "#fb9f3a"
            ],
            [
             0.8888888888888888,
             "#fdca26"
            ],
            [
             1,
             "#f0f921"
            ]
           ]
          },
          "colorway": [
           "#636efa",
           "#EF553B",
           "#00cc96",
           "#ab63fa",
           "#FFA15A",
           "#19d3f3",
           "#FF6692",
           "#B6E880",
           "#FF97FF",
           "#FECB52"
          ],
          "font": {
           "color": "#2a3f5f"
          },
          "geo": {
           "bgcolor": "white",
           "lakecolor": "white",
           "landcolor": "#E5ECF6",
           "showlakes": true,
           "showland": true,
           "subunitcolor": "white"
          },
          "hoverlabel": {
           "align": "left"
          },
          "hovermode": "closest",
          "mapbox": {
           "style": "light"
          },
          "paper_bgcolor": "white",
          "plot_bgcolor": "#E5ECF6",
          "polar": {
           "angularaxis": {
            "gridcolor": "white",
            "linecolor": "white",
            "ticks": ""
           },
           "bgcolor": "#E5ECF6",
           "radialaxis": {
            "gridcolor": "white",
            "linecolor": "white",
            "ticks": ""
           }
          },
          "scene": {
           "xaxis": {
            "backgroundcolor": "#E5ECF6",
            "gridcolor": "white",
            "gridwidth": 2,
            "linecolor": "white",
            "showbackground": true,
            "ticks": "",
            "zerolinecolor": "white"
           },
           "yaxis": {
            "backgroundcolor": "#E5ECF6",
            "gridcolor": "white",
            "gridwidth": 2,
            "linecolor": "white",
            "showbackground": true,
            "ticks": "",
            "zerolinecolor": "white"
           },
           "zaxis": {
            "backgroundcolor": "#E5ECF6",
            "gridcolor": "white",
            "gridwidth": 2,
            "linecolor": "white",
            "showbackground": true,
            "ticks": "",
            "zerolinecolor": "white"
           }
          },
          "shapedefaults": {
           "line": {
            "color": "#2a3f5f"
           }
          },
          "ternary": {
           "aaxis": {
            "gridcolor": "white",
            "linecolor": "white",
            "ticks": ""
           },
           "baxis": {
            "gridcolor": "white",
            "linecolor": "white",
            "ticks": ""
           },
           "bgcolor": "#E5ECF6",
           "caxis": {
            "gridcolor": "white",
            "linecolor": "white",
            "ticks": ""
           }
          },
          "title": {
           "x": 0.05
          },
          "xaxis": {
           "automargin": true,
           "gridcolor": "white",
           "linecolor": "white",
           "ticks": "",
           "title": {
            "standoff": 15
           },
           "zerolinecolor": "white",
           "zerolinewidth": 2
          },
          "yaxis": {
           "automargin": true,
           "gridcolor": "white",
           "linecolor": "white",
           "ticks": "",
           "title": {
            "standoff": 15
           },
           "zerolinecolor": "white",
           "zerolinewidth": 2
          }
         }
        },
        "title": {
         "font": {
          "size": 18
         },
         "text": "<b>MAX_TEMP</b>",
         "x": 0.5
        },
        "xaxis": {
         "anchor": "y",
         "domain": [
          0,
          1
         ],
         "showgrid": false,
         "title": {
          "text": "max_temp"
         }
        },
        "yaxis": {
         "anchor": "x",
         "domain": [
          0,
          1
         ],
         "showgrid": false,
         "title": {
          "text": "Values"
         }
        }
       }
      },
      "text/html": [
       "<div>                            <div id=\"cb5a0800-2475-4d34-9757-ce5765667cfa\" class=\"plotly-graph-div\" style=\"height:525px; width:100%;\"></div>            <script type=\"text/javascript\">                require([\"plotly\"], function(Plotly) {                    window.PLOTLYENV=window.PLOTLYENV || {};                                    if (document.getElementById(\"cb5a0800-2475-4d34-9757-ce5765667cfa\")) {                    Plotly.newPlot(                        \"cb5a0800-2475-4d34-9757-ce5765667cfa\",                        [{\"alignmentgroup\":\"True\",\"hovertemplate\":\"max_temp=%{x}<extra></extra>\",\"legendgroup\":\"\",\"marker\":{\"color\":\"skyblue\",\"line\":{\"color\":\"darkblue\",\"width\":1}},\"name\":\"\",\"notched\":false,\"offsetgroup\":\"\",\"orientation\":\"h\",\"showlegend\":false,\"x\":[18.0,19.0,18.0,14.0,17.0,18.0,20.0,18.0,16.0,15.0,18.0,18.0,16.0,15.0,18.0,17.0,16.0,15.0,16.0,21.0,17.0,15.0,15.0,16.0,21.0,17.0,15.0,15.0,17.0,19.0,14.0,15.0,17.0,21.0,18.0,17.0,19.0,17.0,13.0,14.0,18.0,19.0,17.0,17.0,23.0,26.0,25.0,23.0,18.0,20.0,19.0,19.0,18.0,16.0,18.0,17.0,19.0,16.0,18.0,19.0,19.0,17.0,16.0,18.0,21.0,21.0,13.0,19.0,22.0,15.0,14.0,22.0,15.0,15.0,15.0,21.0,16.0,14.0,12.0,16.0,20.0,17.0,13.0,14.0,19.0,21.0,17.0,13.0,16.0,20.0,22.0,19.0,14.0,17.0,21.0,19.0,19.0,14.0,18.0,21.0,22.0,19.0,15.0,16.0,22.0,18.0,16.0,18.0,22.0,18.0,16.0,19.0,19.0,22.0,18.0,16.0,19.0,18.0,21.0,19.0,16.0,20.0,20.0,19.0,19.0,17.0,20.0,20.0,15.0,17.0,21.0,19.0,19.0,19.0,18.0,20.0,20.0,19.0,20.0,17.0,21.0,21.0,19.0,22.0,18.0,21.0,20.0,19.0,25.0,19.0,19.0,21.0,19.0,21.0,21.0,18.0,20.0,14.0,16.0,18.0,20.0,16.0,15.0,19.0,15.0,17.0,21.0,17.0,14.0,19.0,19.0,15.0,20.0,17.0,15.0,18.0,17.0,20.0,15.0,15.0,18.0,18.0,21.0,18.0,19.0,18.0,18.0,14.0,20.0,19.0,12.0,18.0,15.0,20.0,17.0,17.0,16.0,13.0,21.0,19.0,18.0,17.0,18.0,22.0,20.0,17.0,15.0,19.0,15.0,22.0,22.0,17.0,19.0,23.0,13.0,21.0,21.0,25.0,20.0,16.0,19.0,19.0,24.0,20.0,16.0,24.0,16.0,19.0,22.0,21.0,17.0,16.0,21.0,20.0,19.0,18.0,21.0,22.0,21.0,17.0,21.0,27.0,24.0,21.0,25.0,27.0,23.0,26.0,27.0,21.0,26.0,26.0,22.0,22.0,26.0,26.0,14.0,22.0,22.0,27.0,25.0,23.0,21.0,28.0,23.0,26.0,22.0,19.0,28.0,24.0,26.0,23.0,19.0,26.0,27.0,24.0,20.0,28.0,25.0,27.0,29.0,28.0,26.0,27.0,30.0,29.0,28.0,19.0,30.0,30.0,21.0,19.0,30.0,31.0,32.0,24.0,23.0,29.0,33.0,32.0,25.0,25.0,29.0,32.0,31.0,26.0,23.0,24.0,33.0,29.0,29.0,25.0,28.0,34.0,28.0,21.0,35.0,25.0,25.0,25.0,34.0,26.0,22.0,27.0,27.0,34.0,28.0,25.0,28.0,28.0,34.0,30.0,27.0,24.0,34.0,30.0,28.0,24.0,31.0,27.0,24.0,26.0,33.0,31.0,24.0,26.0,25.0,33.0,28.0,26.0,28.0,23.0,33.0,27.0,27.0,23.0,33.0,25.0,29.0,27.0,26.0,31.0,25.0,32.0,28.0,28.0,31.0,24.0,30.0,28.0,29.0,31.0,24.0,31.0,27.0,27.0,30.0,24.0,30.0,27.0,30.0,32.0,23.0,32.0,26.0,28.0,31.0,24.0,32.0,27.0,18.0,34.0,25.0,30.0,29.0,25.0,35.0,27.0,30.0,30.0,18.0,36.0,28.0,31.0,30.0,24.0,34.0,27.0,30.0,32.0,27.0,36.0,27.0,27.0,28.0,28.0,37.0,27.0,25.0,30.0,32.0,34.0,28.0,26.0,31.0,29.0,36.0,30.0,27.0,32.0,33.0,38.0,31.0,23.0,31.0,23.0,39.0,30.0,26.0,32.0,30.0,39.0,29.0,27.0,29.0,31.0,39.0,27.0,30.0,33.0,37.0,25.0,31.0,35.0,37.0,28.0,27.0,32.0,34.0,37.0,28.0,26.0,30.0,31.0,29.0,28.0,28.0,32.0,32.0,32.0,27.0,29.0,32.0,33.0,33.0,28.0,30.0,32.0,34.0,36.0,29.0,31.0,34.0,36.0,38.0,29.0,31.0,35.0,37.0,38.0,27.0,31.0,35.0,35.0,37.0,28.0,30.0,36.0,35.0,36.0,24.0,30.0,37.0,37.0,33.0,26.0,31.0,38.0,28.0,32.0,28.0,33.0,39.0,34.0,35.0,27.0,38.0,38.0,38.0,37.0,29.0,33.0,39.0,34.0,32.0,37.0,39.0,32.0,33.0,26.0,25.0,34.0,34.0,32.0,34.0,32.0,30.0,34.0,34.0,33.0,33.0,32.0,35.0,33.0,36.0,34.0,35.0,36.0,35.0,35.0,35.0,33.0,35.0,36.0,34.0,36.0,35.0,36.0,34.0,33.0,36.0,37.0,31.0,30.0,39.0,36.0,35.0,32.0,32.0,39.0,36.0,38.0,33.0,39.0,38.0,39.0,34.0,34.0,39.0,39.0,40.0,36.0,35.0,40.0,41.0,33.0,38.0,42.0,35.0,39.0,33.0,40.0,42.0,36.0,40.0,35.0,41.0,38.0,39.0,36.0,31.0,40.0,42.0,35.0,33.0,40.0,40.0,37.0,39.0,41.0,41.0,35.0,42.0,37.0,39.0,40.0,34.0,42.0,37.0,34.0,41.0,35.0,42.0,38.0,36.0,40.0,36.0,42.0,39.0,38.0,40.0,37.0,41.0,39.0,41.0,39.0,37.0,41.0,39.0,43.0,39.0,36.0,38.0,37.0,43.0,41.0,35.0,37.0,37.0,42.0,42.0,34.0,37.0,36.0,41.0,43.0,35.0,38.0,34.0,42.0,43.0,35.0,38.0,36.0,42.0,42.0,37.0,38.0,41.0,39.0,37.0,37.0,39.0,41.0,39.0,36.0,36.0,39.0,42.0,41.0,35.0,35.0,39.0,41.0,43.0,32.0,37.0,39.0,43.0,43.0,35.0,39.0,36.0,42.0,43.0,35.0,40.0,37.0,42.0,44.0,36.0,39.0,38.0,43.0,38.0,39.0,33.0,41.0,34.0,37.0,37.0,34.0,42.0,37.0,38.0,42.0,33.0,36.0,37.0,34.0,43.0,34.0,35.0,35.0,43.0,35.0,34.0,34.0,36.0,43.0,35.0,35.0,33.0,41.0,35.0,37.0,32.0,41.0,32.0,34.0,42.0,33.0,37.0,34.0,41.0,33.0,33.0,35.0,35.0,42.0,35.0,33.0,35.0,34.0,42.0,34.0,32.0,35.0,33.0,42.0],\"x0\":\" \",\"xaxis\":\"x\",\"y0\":\" \",\"yaxis\":\"y\",\"type\":\"box\"}],                        {\"template\":{\"data\":{\"histogram2dcontour\":[{\"type\":\"histogram2dcontour\",\"colorbar\":{\"outlinewidth\":0,\"ticks\":\"\"},\"colorscale\":[[0.0,\"#0d0887\"],[0.1111111111111111,\"#46039f\"],[0.2222222222222222,\"#7201a8\"],[0.3333333333333333,\"#9c179e\"],[0.4444444444444444,\"#bd3786\"],[0.5555555555555556,\"#d8576b\"],[0.6666666666666666,\"#ed7953\"],[0.7777777777777778,\"#fb9f3a\"],[0.8888888888888888,\"#fdca26\"],[1.0,\"#f0f921\"]]}],\"choropleth\":[{\"type\":\"choropleth\",\"colorbar\":{\"outlinewidth\":0,\"ticks\":\"\"}}],\"histogram2d\":[{\"type\":\"histogram2d\",\"colorbar\":{\"outlinewidth\":0,\"ticks\":\"\"},\"colorscale\":[[0.0,\"#0d0887\"],[0.1111111111111111,\"#46039f\"],[0.2222222222222222,\"#7201a8\"],[0.3333333333333333,\"#9c179e\"],[0.4444444444444444,\"#bd3786\"],[0.5555555555555556,\"#d8576b\"],[0.6666666666666666,\"#ed7953\"],[0.7777777777777778,\"#fb9f3a\"],[0.8888888888888888,\"#fdca26\"],[1.0,\"#f0f921\"]]}],\"heatmap\":[{\"type\":\"heatmap\",\"colorbar\":{\"outlinewidth\":0,\"ticks\":\"\"},\"colorscale\":[[0.0,\"#0d0887\"],[0.1111111111111111,\"#46039f\"],[0.2222222222222222,\"#7201a8\"],[0.3333333333333333,\"#9c179e\"],[0.4444444444444444,\"#bd3786\"],[0.5555555555555556,\"#d8576b\"],[0.6666666666666666,\"#ed7953\"],[0.7777777777777778,\"#fb9f3a\"],[0.8888888888888888,\"#fdca26\"],[1.0,\"#f0f921\"]]}],\"heatmapgl\":[{\"type\":\"heatmapgl\",\"colorbar\":{\"outlinewidth\":0,\"ticks\":\"\"},\"colorscale\":[[0.0,\"#0d0887\"],[0.1111111111111111,\"#46039f\"],[0.2222222222222222,\"#7201a8\"],[0.3333333333333333,\"#9c179e\"],[0.4444444444444444,\"#bd3786\"],[0.5555555555555556,\"#d8576b\"],[0.6666666666666666,\"#ed7953\"],[0.7777777777777778,\"#fb9f3a\"],[0.8888888888888888,\"#fdca26\"],[1.0,\"#f0f921\"]]}],\"contourcarpet\":[{\"type\":\"contourcarpet\",\"colorbar\":{\"outlinewidth\":0,\"ticks\":\"\"}}],\"contour\":[{\"type\":\"contour\",\"colorbar\":{\"outlinewidth\":0,\"ticks\":\"\"},\"colorscale\":[[0.0,\"#0d0887\"],[0.1111111111111111,\"#46039f\"],[0.2222222222222222,\"#7201a8\"],[0.3333333333333333,\"#9c179e\"],[0.4444444444444444,\"#bd3786\"],[0.5555555555555556,\"#d8576b\"],[0.6666666666666666,\"#ed7953\"],[0.7777777777777778,\"#fb9f3a\"],[0.8888888888888888,\"#fdca26\"],[1.0,\"#f0f921\"]]}],\"surface\":[{\"type\":\"surface\",\"colorbar\":{\"outlinewidth\":0,\"ticks\":\"\"},\"colorscale\":[[0.0,\"#0d0887\"],[0.1111111111111111,\"#46039f\"],[0.2222222222222222,\"#7201a8\"],[0.3333333333333333,\"#9c179e\"],[0.4444444444444444,\"#bd3786\"],[0.5555555555555556,\"#d8576b\"],[0.6666666666666666,\"#ed7953\"],[0.7777777777777778,\"#fb9f3a\"],[0.8888888888888888,\"#fdca26\"],[1.0,\"#f0f921\"]]}],\"mesh3d\":[{\"type\":\"mesh3d\",\"colorbar\":{\"outlinewidth\":0,\"ticks\":\"\"}}],\"scatter\":[{\"fillpattern\":{\"fillmode\":\"overlay\",\"size\":10,\"solidity\":0.2},\"type\":\"scatter\"}],\"parcoords\":[{\"type\":\"parcoords\",\"line\":{\"colorbar\":{\"outlinewidth\":0,\"ticks\":\"\"}}}],\"scatterpolargl\":[{\"type\":\"scatterpolargl\",\"marker\":{\"colorbar\":{\"outlinewidth\":0,\"ticks\":\"\"}}}],\"bar\":[{\"error_x\":{\"color\":\"#2a3f5f\"},\"error_y\":{\"color\":\"#2a3f5f\"},\"marker\":{\"line\":{\"color\":\"#E5ECF6\",\"width\":0.5},\"pattern\":{\"fillmode\":\"overlay\",\"size\":10,\"solidity\":0.2}},\"type\":\"bar\"}],\"scattergeo\":[{\"type\":\"scattergeo\",\"marker\":{\"colorbar\":{\"outlinewidth\":0,\"ticks\":\"\"}}}],\"scatterpolar\":[{\"type\":\"scatterpolar\",\"marker\":{\"colorbar\":{\"outlinewidth\":0,\"ticks\":\"\"}}}],\"histogram\":[{\"marker\":{\"pattern\":{\"fillmode\":\"overlay\",\"size\":10,\"solidity\":0.2}},\"type\":\"histogram\"}],\"scattergl\":[{\"type\":\"scattergl\",\"marker\":{\"colorbar\":{\"outlinewidth\":0,\"ticks\":\"\"}}}],\"scatter3d\":[{\"type\":\"scatter3d\",\"line\":{\"colorbar\":{\"outlinewidth\":0,\"ticks\":\"\"}},\"marker\":{\"colorbar\":{\"outlinewidth\":0,\"ticks\":\"\"}}}],\"scattermapbox\":[{\"type\":\"scattermapbox\",\"marker\":{\"colorbar\":{\"outlinewidth\":0,\"ticks\":\"\"}}}],\"scatterternary\":[{\"type\":\"scatterternary\",\"marker\":{\"colorbar\":{\"outlinewidth\":0,\"ticks\":\"\"}}}],\"scattercarpet\":[{\"type\":\"scattercarpet\",\"marker\":{\"colorbar\":{\"outlinewidth\":0,\"ticks\":\"\"}}}],\"carpet\":[{\"aaxis\":{\"endlinecolor\":\"#2a3f5f\",\"gridcolor\":\"white\",\"linecolor\":\"white\",\"minorgridcolor\":\"white\",\"startlinecolor\":\"#2a3f5f\"},\"baxis\":{\"endlinecolor\":\"#2a3f5f\",\"gridcolor\":\"white\",\"linecolor\":\"white\",\"minorgridcolor\":\"white\",\"startlinecolor\":\"#2a3f5f\"},\"type\":\"carpet\"}],\"table\":[{\"cells\":{\"fill\":{\"color\":\"#EBF0F8\"},\"line\":{\"color\":\"white\"}},\"header\":{\"fill\":{\"color\":\"#C8D4E3\"},\"line\":{\"color\":\"white\"}},\"type\":\"table\"}],\"barpolar\":[{\"marker\":{\"line\":{\"color\":\"#E5ECF6\",\"width\":0.5},\"pattern\":{\"fillmode\":\"overlay\",\"size\":10,\"solidity\":0.2}},\"type\":\"barpolar\"}],\"pie\":[{\"automargin\":true,\"type\":\"pie\"}]},\"layout\":{\"autotypenumbers\":\"strict\",\"colorway\":[\"#636efa\",\"#EF553B\",\"#00cc96\",\"#ab63fa\",\"#FFA15A\",\"#19d3f3\",\"#FF6692\",\"#B6E880\",\"#FF97FF\",\"#FECB52\"],\"font\":{\"color\":\"#2a3f5f\"},\"hovermode\":\"closest\",\"hoverlabel\":{\"align\":\"left\"},\"paper_bgcolor\":\"white\",\"plot_bgcolor\":\"#E5ECF6\",\"polar\":{\"bgcolor\":\"#E5ECF6\",\"angularaxis\":{\"gridcolor\":\"white\",\"linecolor\":\"white\",\"ticks\":\"\"},\"radialaxis\":{\"gridcolor\":\"white\",\"linecolor\":\"white\",\"ticks\":\"\"}},\"ternary\":{\"bgcolor\":\"#E5ECF6\",\"aaxis\":{\"gridcolor\":\"white\",\"linecolor\":\"white\",\"ticks\":\"\"},\"baxis\":{\"gridcolor\":\"white\",\"linecolor\":\"white\",\"ticks\":\"\"},\"caxis\":{\"gridcolor\":\"white\",\"linecolor\":\"white\",\"ticks\":\"\"}},\"coloraxis\":{\"colorbar\":{\"outlinewidth\":0,\"ticks\":\"\"}},\"colorscale\":{\"sequential\":[[0.0,\"#0d0887\"],[0.1111111111111111,\"#46039f\"],[0.2222222222222222,\"#7201a8\"],[0.3333333333333333,\"#9c179e\"],[0.4444444444444444,\"#bd3786\"],[0.5555555555555556,\"#d8576b\"],[0.6666666666666666,\"#ed7953\"],[0.7777777777777778,\"#fb9f3a\"],[0.8888888888888888,\"#fdca26\"],[1.0,\"#f0f921\"]],\"sequentialminus\":[[0.0,\"#0d0887\"],[0.1111111111111111,\"#46039f\"],[0.2222222222222222,\"#7201a8\"],[0.3333333333333333,\"#9c179e\"],[0.4444444444444444,\"#bd3786\"],[0.5555555555555556,\"#d8576b\"],[0.6666666666666666,\"#ed7953\"],[0.7777777777777778,\"#fb9f3a\"],[0.8888888888888888,\"#fdca26\"],[1.0,\"#f0f921\"]],\"diverging\":[[0,\"#8e0152\"],[0.1,\"#c51b7d\"],[0.2,\"#de77ae\"],[0.3,\"#f1b6da\"],[0.4,\"#fde0ef\"],[0.5,\"#f7f7f7\"],[0.6,\"#e6f5d0\"],[0.7,\"#b8e186\"],[0.8,\"#7fbc41\"],[0.9,\"#4d9221\"],[1,\"#276419\"]]},\"xaxis\":{\"gridcolor\":\"white\",\"linecolor\":\"white\",\"ticks\":\"\",\"title\":{\"standoff\":15},\"zerolinecolor\":\"white\",\"automargin\":true,\"zerolinewidth\":2},\"yaxis\":{\"gridcolor\":\"white\",\"linecolor\":\"white\",\"ticks\":\"\",\"title\":{\"standoff\":15},\"zerolinecolor\":\"white\",\"automargin\":true,\"zerolinewidth\":2},\"scene\":{\"xaxis\":{\"backgroundcolor\":\"#E5ECF6\",\"gridcolor\":\"white\",\"linecolor\":\"white\",\"showbackground\":true,\"ticks\":\"\",\"zerolinecolor\":\"white\",\"gridwidth\":2},\"yaxis\":{\"backgroundcolor\":\"#E5ECF6\",\"gridcolor\":\"white\",\"linecolor\":\"white\",\"showbackground\":true,\"ticks\":\"\",\"zerolinecolor\":\"white\",\"gridwidth\":2},\"zaxis\":{\"backgroundcolor\":\"#E5ECF6\",\"gridcolor\":\"white\",\"linecolor\":\"white\",\"showbackground\":true,\"ticks\":\"\",\"zerolinecolor\":\"white\",\"gridwidth\":2}},\"shapedefaults\":{\"line\":{\"color\":\"#2a3f5f\"}},\"annotationdefaults\":{\"arrowcolor\":\"#2a3f5f\",\"arrowhead\":0,\"arrowwidth\":1},\"geo\":{\"bgcolor\":\"white\",\"landcolor\":\"#E5ECF6\",\"subunitcolor\":\"white\",\"showland\":true,\"showlakes\":true,\"lakecolor\":\"white\"},\"title\":{\"x\":0.05},\"mapbox\":{\"style\":\"light\"}}},\"xaxis\":{\"anchor\":\"y\",\"domain\":[0.0,1.0],\"title\":{\"text\":\"max_temp\"},\"showgrid\":false},\"yaxis\":{\"anchor\":\"x\",\"domain\":[0.0,1.0],\"title\":{\"text\":\"Values\"},\"showgrid\":false},\"legend\":{\"tracegroupgap\":0},\"title\":{\"text\":\"<b>MAX_TEMP</b>\",\"font\":{\"size\":18},\"x\":0.5},\"boxmode\":\"group\"},                        {\"responsive\": true}                    ).then(function(){\n",
       "                            \n",
       "var gd = document.getElementById('cb5a0800-2475-4d34-9757-ce5765667cfa');\n",
       "var x = new MutationObserver(function (mutations, observer) {{\n",
       "        var display = window.getComputedStyle(gd).display;\n",
       "        if (!display || display === 'none') {{\n",
       "            console.log([gd, 'removed!']);\n",
       "            Plotly.purge(gd);\n",
       "            observer.disconnect();\n",
       "        }}\n",
       "}});\n",
       "\n",
       "// Listen for the removal of the full notebook cells\n",
       "var notebookContainer = gd.closest('#notebook-container');\n",
       "if (notebookContainer) {{\n",
       "    x.observe(notebookContainer, {childList: true});\n",
       "}}\n",
       "\n",
       "// Listen for the clearing of the current output cell\n",
       "var outputEl = gd.closest('.output');\n",
       "if (outputEl) {{\n",
       "    x.observe(outputEl, {childList: true});\n",
       "}}\n",
       "\n",
       "                        })                };                });            </script>        </div>"
      ]
     },
     "metadata": {},
     "output_type": "display_data"
    },
    {
     "data": {
      "application/vnd.plotly.v1+json": {
       "config": {
        "plotlyServerURL": "https://plot.ly"
       },
       "data": [
        {
         "alignmentgroup": "True",
         "hovertemplate": "min_temp=%{x}<extra></extra>",
         "legendgroup": "",
         "marker": {
          "color": "skyblue",
          "line": {
           "color": "darkblue",
           "width": 1
          }
         },
         "name": "",
         "notched": false,
         "offsetgroup": "",
         "orientation": "h",
         "showlegend": false,
         "type": "box",
         "x": [
          6,
          4,
          4,
          4,
          6,
          7,
          6,
          7,
          5,
          8,
          4,
          8,
          5,
          8,
          4,
          4,
          8,
          4,
          5,
          5,
          3,
          8,
          4,
          5,
          5,
          3,
          8,
          4,
          5,
          4,
          7,
          4,
          5,
          7,
          6,
          6,
          6,
          6,
          4,
          3,
          6,
          6,
          5,
          6,
          10,
          10,
          12,
          11,
          6,
          4,
          6,
          7,
          7,
          5,
          9,
          6,
          6,
          5,
          7,
          5,
          4,
          5,
          5,
          6,
          9,
          5,
          3,
          7,
          6,
          2,
          6,
          8,
          3,
          5,
          7,
          7,
          4,
          5,
          5,
          6,
          7,
          4,
          4,
          5,
          6,
          7,
          6,
          3,
          5,
          7,
          7,
          8,
          2,
          5,
          8,
          9,
          6,
          7,
          5,
          8,
          9,
          5,
          6,
          8,
          10,
          4,
          4,
          6,
          10,
          4,
          7,
          6,
          10,
          9,
          4,
          6,
          7,
          9,
          11,
          4,
          5,
          8,
          7,
          11,
          5,
          5,
          8,
          8,
          8,
          5,
          9,
          8,
          5,
          7,
          5,
          10,
          7,
          7,
          6,
          7,
          11,
          8,
          7,
          8,
          6,
          10,
          7,
          6,
          9,
          8,
          11,
          10,
          6,
          8,
          6,
          11,
          9,
          5,
          7,
          11,
          9,
          5,
          7,
          5,
          3,
          6,
          6,
          5,
          3,
          7,
          5,
          4,
          8,
          10,
          3,
          5,
          4,
          8,
          5,
          7,
          6,
          7,
          9,
          7,
          9,
          8,
          6,
          5,
          11,
          7,
          7,
          5,
          4,
          6,
          5,
          5,
          5,
          8,
          9,
          5,
          5,
          5,
          6,
          8,
          6,
          5,
          8,
          8,
          8,
          9,
          7,
          7,
          9,
          8,
          7,
          9,
          9,
          10,
          4,
          8,
          9,
          10,
          12,
          8,
          9,
          11,
          6,
          9,
          10,
          12,
          6,
          4,
          10,
          9,
          11,
          7,
          11,
          12,
          12,
          8,
          9,
          12,
          10,
          9,
          10,
          15,
          12,
          12,
          13,
          13,
          14,
          12,
          10,
          11,
          13,
          11,
          10,
          11,
          10,
          14,
          12,
          9,
          8,
          14,
          11,
          10,
          7,
          7,
          15,
          11,
          11,
          8,
          7,
          10,
          12,
          10,
          8,
          12,
          9,
          13,
          11,
          15,
          11,
          16,
          13,
          14,
          12,
          7,
          13,
          14,
          9,
          13,
          13,
          14,
          14,
          10,
          11,
          15,
          15,
          15,
          14,
          12,
          15,
          16,
          16,
          13,
          13,
          14,
          16,
          13,
          15,
          13,
          14,
          16,
          14,
          12,
          17,
          10,
          16,
          10,
          20,
          10,
          8,
          14,
          12,
          19,
          11,
          11,
          14,
          13,
          20,
          12,
          12,
          14,
          17,
          13,
          13,
          11,
          14,
          17,
          11,
          12,
          19,
          14,
          14,
          13,
          14,
          17,
          14,
          14,
          15,
          12,
          18,
          14,
          15,
          13,
          20,
          11,
          15,
          15,
          12,
          17,
          12,
          17,
          15,
          13,
          16,
          12,
          20,
          17,
          16,
          17,
          11,
          19,
          15,
          15,
          15,
          10,
          18,
          15,
          15,
          16,
          9,
          18,
          14,
          14,
          16,
          11,
          19,
          14,
          14,
          15,
          10,
          18,
          14,
          13,
          17,
          10,
          18,
          17,
          13,
          18,
          11,
          19,
          17,
          12,
          21,
          14,
          17,
          17,
          12,
          19,
          15,
          18,
          18,
          16,
          22,
          13,
          17,
          17,
          16,
          22,
          15,
          15,
          18,
          17,
          19,
          15,
          16,
          18,
          19,
          18,
          15,
          15,
          18,
          17,
          20,
          18,
          14,
          19,
          15,
          23,
          15,
          15,
          18,
          15,
          22,
          18,
          16,
          16,
          23,
          13,
          17,
          17,
          21,
          12,
          19,
          18,
          21,
          21,
          14,
          19,
          18,
          20,
          15,
          17,
          16,
          16,
          19,
          15,
          17,
          16,
          15,
          17,
          16,
          17,
          18,
          16,
          17,
          17,
          18,
          19,
          16,
          19,
          18,
          19,
          19,
          18,
          20,
          19,
          19,
          21,
          21,
          21,
          20,
          17,
          18,
          20,
          21,
          20,
          18,
          18,
          21,
          21,
          19,
          17,
          19,
          20,
          20,
          18,
          15,
          18,
          22,
          19,
          18,
          16,
          22,
          22,
          21,
          20,
          15,
          18,
          21,
          19,
          20,
          25,
          22,
          19,
          21,
          19,
          20,
          21,
          20,
          16,
          19,
          20,
          19,
          20,
          19,
          21,
          17,
          22,
          20,
          19,
          19,
          21,
          20,
          20,
          21,
          22,
          21,
          21,
          21,
          21,
          23,
          23,
          17,
          20,
          23,
          24,
          17,
          21,
          20,
          22,
          20,
          22,
          21,
          20,
          20,
          21,
          20,
          22,
          20,
          22,
          20,
          23,
          21,
          21,
          22,
          23,
          25,
          22,
          21,
          22,
          26,
          22,
          23,
          23,
          22,
          26,
          19,
          24,
          25,
          21,
          26,
          20,
          25,
          20,
          25,
          24,
          22,
          24,
          24,
          23,
          20,
          23,
          25,
          24,
          22,
          25,
          27,
          26,
          29,
          26,
          25,
          27,
          26,
          30,
          27,
          25,
          26,
          26,
          30,
          27,
          24,
          27,
          26,
          31,
          29,
          23,
          27,
          27,
          31,
          30,
          25,
          26,
          29,
          31,
          30,
          26,
          26,
          29,
          29,
          29,
          27,
          26,
          27,
          28,
          28,
          28,
          28,
          27,
          28,
          28,
          27,
          29,
          26,
          28,
          26,
          27,
          29,
          26,
          29,
          26,
          30,
          28,
          29,
          29,
          30,
          28,
          29,
          28,
          30,
          28,
          26,
          29,
          27,
          30,
          28,
          27,
          27,
          27,
          31,
          28,
          28,
          26,
          27,
          30,
          28,
          29,
          26,
          29,
          29,
          30,
          30,
          27,
          30,
          29,
          28,
          31,
          28,
          28,
          29,
          30,
          29,
          28,
          27,
          28,
          25,
          27,
          29,
          28,
          29,
          27,
          28,
          28,
          25,
          27,
          28,
          26,
          26,
          28,
          26,
          28,
          27,
          26,
          28,
          25,
          29,
          28,
          29,
          25,
          27,
          30,
          28,
          26,
          26,
          28,
          25,
          26,
          28,
          26,
          27,
          27,
          29,
          25,
          26,
          26,
          26,
          30,
          25,
          26,
          26,
          27,
          27,
          25,
          25,
          25,
          27,
          27
         ],
         "x0": " ",
         "xaxis": "x",
         "y0": " ",
         "yaxis": "y"
        }
       ],
       "layout": {
        "boxmode": "group",
        "legend": {
         "tracegroupgap": 0
        },
        "template": {
         "data": {
          "bar": [
           {
            "error_x": {
             "color": "#2a3f5f"
            },
            "error_y": {
             "color": "#2a3f5f"
            },
            "marker": {
             "line": {
              "color": "#E5ECF6",
              "width": 0.5
             },
             "pattern": {
              "fillmode": "overlay",
              "size": 10,
              "solidity": 0.2
             }
            },
            "type": "bar"
           }
          ],
          "barpolar": [
           {
            "marker": {
             "line": {
              "color": "#E5ECF6",
              "width": 0.5
             },
             "pattern": {
              "fillmode": "overlay",
              "size": 10,
              "solidity": 0.2
             }
            },
            "type": "barpolar"
           }
          ],
          "carpet": [
           {
            "aaxis": {
             "endlinecolor": "#2a3f5f",
             "gridcolor": "white",
             "linecolor": "white",
             "minorgridcolor": "white",
             "startlinecolor": "#2a3f5f"
            },
            "baxis": {
             "endlinecolor": "#2a3f5f",
             "gridcolor": "white",
             "linecolor": "white",
             "minorgridcolor": "white",
             "startlinecolor": "#2a3f5f"
            },
            "type": "carpet"
           }
          ],
          "choropleth": [
           {
            "colorbar": {
             "outlinewidth": 0,
             "ticks": ""
            },
            "type": "choropleth"
           }
          ],
          "contour": [
           {
            "colorbar": {
             "outlinewidth": 0,
             "ticks": ""
            },
            "colorscale": [
             [
              0,
              "#0d0887"
             ],
             [
              0.1111111111111111,
              "#46039f"
             ],
             [
              0.2222222222222222,
              "#7201a8"
             ],
             [
              0.3333333333333333,
              "#9c179e"
             ],
             [
              0.4444444444444444,
              "#bd3786"
             ],
             [
              0.5555555555555556,
              "#d8576b"
             ],
             [
              0.6666666666666666,
              "#ed7953"
             ],
             [
              0.7777777777777778,
              "#fb9f3a"
             ],
             [
              0.8888888888888888,
              "#fdca26"
             ],
             [
              1,
              "#f0f921"
             ]
            ],
            "type": "contour"
           }
          ],
          "contourcarpet": [
           {
            "colorbar": {
             "outlinewidth": 0,
             "ticks": ""
            },
            "type": "contourcarpet"
           }
          ],
          "heatmap": [
           {
            "colorbar": {
             "outlinewidth": 0,
             "ticks": ""
            },
            "colorscale": [
             [
              0,
              "#0d0887"
             ],
             [
              0.1111111111111111,
              "#46039f"
             ],
             [
              0.2222222222222222,
              "#7201a8"
             ],
             [
              0.3333333333333333,
              "#9c179e"
             ],
             [
              0.4444444444444444,
              "#bd3786"
             ],
             [
              0.5555555555555556,
              "#d8576b"
             ],
             [
              0.6666666666666666,
              "#ed7953"
             ],
             [
              0.7777777777777778,
              "#fb9f3a"
             ],
             [
              0.8888888888888888,
              "#fdca26"
             ],
             [
              1,
              "#f0f921"
             ]
            ],
            "type": "heatmap"
           }
          ],
          "heatmapgl": [
           {
            "colorbar": {
             "outlinewidth": 0,
             "ticks": ""
            },
            "colorscale": [
             [
              0,
              "#0d0887"
             ],
             [
              0.1111111111111111,
              "#46039f"
             ],
             [
              0.2222222222222222,
              "#7201a8"
             ],
             [
              0.3333333333333333,
              "#9c179e"
             ],
             [
              0.4444444444444444,
              "#bd3786"
             ],
             [
              0.5555555555555556,
              "#d8576b"
             ],
             [
              0.6666666666666666,
              "#ed7953"
             ],
             [
              0.7777777777777778,
              "#fb9f3a"
             ],
             [
              0.8888888888888888,
              "#fdca26"
             ],
             [
              1,
              "#f0f921"
             ]
            ],
            "type": "heatmapgl"
           }
          ],
          "histogram": [
           {
            "marker": {
             "pattern": {
              "fillmode": "overlay",
              "size": 10,
              "solidity": 0.2
             }
            },
            "type": "histogram"
           }
          ],
          "histogram2d": [
           {
            "colorbar": {
             "outlinewidth": 0,
             "ticks": ""
            },
            "colorscale": [
             [
              0,
              "#0d0887"
             ],
             [
              0.1111111111111111,
              "#46039f"
             ],
             [
              0.2222222222222222,
              "#7201a8"
             ],
             [
              0.3333333333333333,
              "#9c179e"
             ],
             [
              0.4444444444444444,
              "#bd3786"
             ],
             [
              0.5555555555555556,
              "#d8576b"
             ],
             [
              0.6666666666666666,
              "#ed7953"
             ],
             [
              0.7777777777777778,
              "#fb9f3a"
             ],
             [
              0.8888888888888888,
              "#fdca26"
             ],
             [
              1,
              "#f0f921"
             ]
            ],
            "type": "histogram2d"
           }
          ],
          "histogram2dcontour": [
           {
            "colorbar": {
             "outlinewidth": 0,
             "ticks": ""
            },
            "colorscale": [
             [
              0,
              "#0d0887"
             ],
             [
              0.1111111111111111,
              "#46039f"
             ],
             [
              0.2222222222222222,
              "#7201a8"
             ],
             [
              0.3333333333333333,
              "#9c179e"
             ],
             [
              0.4444444444444444,
              "#bd3786"
             ],
             [
              0.5555555555555556,
              "#d8576b"
             ],
             [
              0.6666666666666666,
              "#ed7953"
             ],
             [
              0.7777777777777778,
              "#fb9f3a"
             ],
             [
              0.8888888888888888,
              "#fdca26"
             ],
             [
              1,
              "#f0f921"
             ]
            ],
            "type": "histogram2dcontour"
           }
          ],
          "mesh3d": [
           {
            "colorbar": {
             "outlinewidth": 0,
             "ticks": ""
            },
            "type": "mesh3d"
           }
          ],
          "parcoords": [
           {
            "line": {
             "colorbar": {
              "outlinewidth": 0,
              "ticks": ""
             }
            },
            "type": "parcoords"
           }
          ],
          "pie": [
           {
            "automargin": true,
            "type": "pie"
           }
          ],
          "scatter": [
           {
            "fillpattern": {
             "fillmode": "overlay",
             "size": 10,
             "solidity": 0.2
            },
            "type": "scatter"
           }
          ],
          "scatter3d": [
           {
            "line": {
             "colorbar": {
              "outlinewidth": 0,
              "ticks": ""
             }
            },
            "marker": {
             "colorbar": {
              "outlinewidth": 0,
              "ticks": ""
             }
            },
            "type": "scatter3d"
           }
          ],
          "scattercarpet": [
           {
            "marker": {
             "colorbar": {
              "outlinewidth": 0,
              "ticks": ""
             }
            },
            "type": "scattercarpet"
           }
          ],
          "scattergeo": [
           {
            "marker": {
             "colorbar": {
              "outlinewidth": 0,
              "ticks": ""
             }
            },
            "type": "scattergeo"
           }
          ],
          "scattergl": [
           {
            "marker": {
             "colorbar": {
              "outlinewidth": 0,
              "ticks": ""
             }
            },
            "type": "scattergl"
           }
          ],
          "scattermapbox": [
           {
            "marker": {
             "colorbar": {
              "outlinewidth": 0,
              "ticks": ""
             }
            },
            "type": "scattermapbox"
           }
          ],
          "scatterpolar": [
           {
            "marker": {
             "colorbar": {
              "outlinewidth": 0,
              "ticks": ""
             }
            },
            "type": "scatterpolar"
           }
          ],
          "scatterpolargl": [
           {
            "marker": {
             "colorbar": {
              "outlinewidth": 0,
              "ticks": ""
             }
            },
            "type": "scatterpolargl"
           }
          ],
          "scatterternary": [
           {
            "marker": {
             "colorbar": {
              "outlinewidth": 0,
              "ticks": ""
             }
            },
            "type": "scatterternary"
           }
          ],
          "surface": [
           {
            "colorbar": {
             "outlinewidth": 0,
             "ticks": ""
            },
            "colorscale": [
             [
              0,
              "#0d0887"
             ],
             [
              0.1111111111111111,
              "#46039f"
             ],
             [
              0.2222222222222222,
              "#7201a8"
             ],
             [
              0.3333333333333333,
              "#9c179e"
             ],
             [
              0.4444444444444444,
              "#bd3786"
             ],
             [
              0.5555555555555556,
              "#d8576b"
             ],
             [
              0.6666666666666666,
              "#ed7953"
             ],
             [
              0.7777777777777778,
              "#fb9f3a"
             ],
             [
              0.8888888888888888,
              "#fdca26"
             ],
             [
              1,
              "#f0f921"
             ]
            ],
            "type": "surface"
           }
          ],
          "table": [
           {
            "cells": {
             "fill": {
              "color": "#EBF0F8"
             },
             "line": {
              "color": "white"
             }
            },
            "header": {
             "fill": {
              "color": "#C8D4E3"
             },
             "line": {
              "color": "white"
             }
            },
            "type": "table"
           }
          ]
         },
         "layout": {
          "annotationdefaults": {
           "arrowcolor": "#2a3f5f",
           "arrowhead": 0,
           "arrowwidth": 1
          },
          "autotypenumbers": "strict",
          "coloraxis": {
           "colorbar": {
            "outlinewidth": 0,
            "ticks": ""
           }
          },
          "colorscale": {
           "diverging": [
            [
             0,
             "#8e0152"
            ],
            [
             0.1,
             "#c51b7d"
            ],
            [
             0.2,
             "#de77ae"
            ],
            [
             0.3,
             "#f1b6da"
            ],
            [
             0.4,
             "#fde0ef"
            ],
            [
             0.5,
             "#f7f7f7"
            ],
            [
             0.6,
             "#e6f5d0"
            ],
            [
             0.7,
             "#b8e186"
            ],
            [
             0.8,
             "#7fbc41"
            ],
            [
             0.9,
             "#4d9221"
            ],
            [
             1,
             "#276419"
            ]
           ],
           "sequential": [
            [
             0,
             "#0d0887"
            ],
            [
             0.1111111111111111,
             "#46039f"
            ],
            [
             0.2222222222222222,
             "#7201a8"
            ],
            [
             0.3333333333333333,
             "#9c179e"
            ],
            [
             0.4444444444444444,
             "#bd3786"
            ],
            [
             0.5555555555555556,
             "#d8576b"
            ],
            [
             0.6666666666666666,
             "#ed7953"
            ],
            [
             0.7777777777777778,
             "#fb9f3a"
            ],
            [
             0.8888888888888888,
             "#fdca26"
            ],
            [
             1,
             "#f0f921"
            ]
           ],
           "sequentialminus": [
            [
             0,
             "#0d0887"
            ],
            [
             0.1111111111111111,
             "#46039f"
            ],
            [
             0.2222222222222222,
             "#7201a8"
            ],
            [
             0.3333333333333333,
             "#9c179e"
            ],
            [
             0.4444444444444444,
             "#bd3786"
            ],
            [
             0.5555555555555556,
             "#d8576b"
            ],
            [
             0.6666666666666666,
             "#ed7953"
            ],
            [
             0.7777777777777778,
             "#fb9f3a"
            ],
            [
             0.8888888888888888,
             "#fdca26"
            ],
            [
             1,
             "#f0f921"
            ]
           ]
          },
          "colorway": [
           "#636efa",
           "#EF553B",
           "#00cc96",
           "#ab63fa",
           "#FFA15A",
           "#19d3f3",
           "#FF6692",
           "#B6E880",
           "#FF97FF",
           "#FECB52"
          ],
          "font": {
           "color": "#2a3f5f"
          },
          "geo": {
           "bgcolor": "white",
           "lakecolor": "white",
           "landcolor": "#E5ECF6",
           "showlakes": true,
           "showland": true,
           "subunitcolor": "white"
          },
          "hoverlabel": {
           "align": "left"
          },
          "hovermode": "closest",
          "mapbox": {
           "style": "light"
          },
          "paper_bgcolor": "white",
          "plot_bgcolor": "#E5ECF6",
          "polar": {
           "angularaxis": {
            "gridcolor": "white",
            "linecolor": "white",
            "ticks": ""
           },
           "bgcolor": "#E5ECF6",
           "radialaxis": {
            "gridcolor": "white",
            "linecolor": "white",
            "ticks": ""
           }
          },
          "scene": {
           "xaxis": {
            "backgroundcolor": "#E5ECF6",
            "gridcolor": "white",
            "gridwidth": 2,
            "linecolor": "white",
            "showbackground": true,
            "ticks": "",
            "zerolinecolor": "white"
           },
           "yaxis": {
            "backgroundcolor": "#E5ECF6",
            "gridcolor": "white",
            "gridwidth": 2,
            "linecolor": "white",
            "showbackground": true,
            "ticks": "",
            "zerolinecolor": "white"
           },
           "zaxis": {
            "backgroundcolor": "#E5ECF6",
            "gridcolor": "white",
            "gridwidth": 2,
            "linecolor": "white",
            "showbackground": true,
            "ticks": "",
            "zerolinecolor": "white"
           }
          },
          "shapedefaults": {
           "line": {
            "color": "#2a3f5f"
           }
          },
          "ternary": {
           "aaxis": {
            "gridcolor": "white",
            "linecolor": "white",
            "ticks": ""
           },
           "baxis": {
            "gridcolor": "white",
            "linecolor": "white",
            "ticks": ""
           },
           "bgcolor": "#E5ECF6",
           "caxis": {
            "gridcolor": "white",
            "linecolor": "white",
            "ticks": ""
           }
          },
          "title": {
           "x": 0.05
          },
          "xaxis": {
           "automargin": true,
           "gridcolor": "white",
           "linecolor": "white",
           "ticks": "",
           "title": {
            "standoff": 15
           },
           "zerolinecolor": "white",
           "zerolinewidth": 2
          },
          "yaxis": {
           "automargin": true,
           "gridcolor": "white",
           "linecolor": "white",
           "ticks": "",
           "title": {
            "standoff": 15
           },
           "zerolinecolor": "white",
           "zerolinewidth": 2
          }
         }
        },
        "title": {
         "font": {
          "size": 18
         },
         "text": "<b>MIN_TEMP</b>",
         "x": 0.5
        },
        "xaxis": {
         "anchor": "y",
         "domain": [
          0,
          1
         ],
         "showgrid": false,
         "title": {
          "text": "min_temp"
         }
        },
        "yaxis": {
         "anchor": "x",
         "domain": [
          0,
          1
         ],
         "showgrid": false,
         "title": {
          "text": "Values"
         }
        }
       }
      },
      "text/html": [
       "<div>                            <div id=\"e85a8931-85b6-485b-8f05-df3abed13e41\" class=\"plotly-graph-div\" style=\"height:525px; width:100%;\"></div>            <script type=\"text/javascript\">                require([\"plotly\"], function(Plotly) {                    window.PLOTLYENV=window.PLOTLYENV || {};                                    if (document.getElementById(\"e85a8931-85b6-485b-8f05-df3abed13e41\")) {                    Plotly.newPlot(                        \"e85a8931-85b6-485b-8f05-df3abed13e41\",                        [{\"alignmentgroup\":\"True\",\"hovertemplate\":\"min_temp=%{x}<extra></extra>\",\"legendgroup\":\"\",\"marker\":{\"color\":\"skyblue\",\"line\":{\"color\":\"darkblue\",\"width\":1}},\"name\":\"\",\"notched\":false,\"offsetgroup\":\"\",\"orientation\":\"h\",\"showlegend\":false,\"x\":[6.0,4.0,4.0,4.0,6.0,7.0,6.0,7.0,5.0,8.0,4.0,8.0,5.0,8.0,4.0,4.0,8.0,4.0,5.0,5.0,3.0,8.0,4.0,5.0,5.0,3.0,8.0,4.0,5.0,4.0,7.0,4.0,5.0,7.0,6.0,6.0,6.0,6.0,4.0,3.0,6.0,6.0,5.0,6.0,10.0,10.0,12.0,11.0,6.0,4.0,6.0,7.0,7.0,5.0,9.0,6.0,6.0,5.0,7.0,5.0,4.0,5.0,5.0,6.0,9.0,5.0,3.0,7.0,6.0,2.0,6.0,8.0,3.0,5.0,7.0,7.0,4.0,5.0,5.0,6.0,7.0,4.0,4.0,5.0,6.0,7.0,6.0,3.0,5.0,7.0,7.0,8.0,2.0,5.0,8.0,9.0,6.0,7.0,5.0,8.0,9.0,5.0,6.0,8.0,10.0,4.0,4.0,6.0,10.0,4.0,7.0,6.0,10.0,9.0,4.0,6.0,7.0,9.0,11.0,4.0,5.0,8.0,7.0,11.0,5.0,5.0,8.0,8.0,8.0,5.0,9.0,8.0,5.0,7.0,5.0,10.0,7.0,7.0,6.0,7.0,11.0,8.0,7.0,8.0,6.0,10.0,7.0,6.0,9.0,8.0,11.0,10.0,6.0,8.0,6.0,11.0,9.0,5.0,7.0,11.0,9.0,5.0,7.0,5.0,3.0,6.0,6.0,5.0,3.0,7.0,5.0,4.0,8.0,10.0,3.0,5.0,4.0,8.0,5.0,7.0,6.0,7.0,9.0,7.0,9.0,8.0,6.0,5.0,11.0,7.0,7.0,5.0,4.0,6.0,5.0,5.0,5.0,8.0,9.0,5.0,5.0,5.0,6.0,8.0,6.0,5.0,8.0,8.0,8.0,9.0,7.0,7.0,9.0,8.0,7.0,9.0,9.0,10.0,4.0,8.0,9.0,10.0,12.0,8.0,9.0,11.0,6.0,9.0,10.0,12.0,6.0,4.0,10.0,9.0,11.0,7.0,11.0,12.0,12.0,8.0,9.0,12.0,10.0,9.0,10.0,15.0,12.0,12.0,13.0,13.0,14.0,12.0,10.0,11.0,13.0,11.0,10.0,11.0,10.0,14.0,12.0,9.0,8.0,14.0,11.0,10.0,7.0,7.0,15.0,11.0,11.0,8.0,7.0,10.0,12.0,10.0,8.0,12.0,9.0,13.0,11.0,15.0,11.0,16.0,13.0,14.0,12.0,7.0,13.0,14.0,9.0,13.0,13.0,14.0,14.0,10.0,11.0,15.0,15.0,15.0,14.0,12.0,15.0,16.0,16.0,13.0,13.0,14.0,16.0,13.0,15.0,13.0,14.0,16.0,14.0,12.0,17.0,10.0,16.0,10.0,20.0,10.0,8.0,14.0,12.0,19.0,11.0,11.0,14.0,13.0,20.0,12.0,12.0,14.0,17.0,13.0,13.0,11.0,14.0,17.0,11.0,12.0,19.0,14.0,14.0,13.0,14.0,17.0,14.0,14.0,15.0,12.0,18.0,14.0,15.0,13.0,20.0,11.0,15.0,15.0,12.0,17.0,12.0,17.0,15.0,13.0,16.0,12.0,20.0,17.0,16.0,17.0,11.0,19.0,15.0,15.0,15.0,10.0,18.0,15.0,15.0,16.0,9.0,18.0,14.0,14.0,16.0,11.0,19.0,14.0,14.0,15.0,10.0,18.0,14.0,13.0,17.0,10.0,18.0,17.0,13.0,18.0,11.0,19.0,17.0,12.0,21.0,14.0,17.0,17.0,12.0,19.0,15.0,18.0,18.0,16.0,22.0,13.0,17.0,17.0,16.0,22.0,15.0,15.0,18.0,17.0,19.0,15.0,16.0,18.0,19.0,18.0,15.0,15.0,18.0,17.0,20.0,18.0,14.0,19.0,15.0,23.0,15.0,15.0,18.0,15.0,22.0,18.0,16.0,16.0,23.0,13.0,17.0,17.0,21.0,12.0,19.0,18.0,21.0,21.0,14.0,19.0,18.0,20.0,15.0,17.0,16.0,16.0,19.0,15.0,17.0,16.0,15.0,17.0,16.0,17.0,18.0,16.0,17.0,17.0,18.0,19.0,16.0,19.0,18.0,19.0,19.0,18.0,20.0,19.0,19.0,21.0,21.0,21.0,20.0,17.0,18.0,20.0,21.0,20.0,18.0,18.0,21.0,21.0,19.0,17.0,19.0,20.0,20.0,18.0,15.0,18.0,22.0,19.0,18.0,16.0,22.0,22.0,21.0,20.0,15.0,18.0,21.0,19.0,20.0,25.0,22.0,19.0,21.0,19.0,20.0,21.0,20.0,16.0,19.0,20.0,19.0,20.0,19.0,21.0,17.0,22.0,20.0,19.0,19.0,21.0,20.0,20.0,21.0,22.0,21.0,21.0,21.0,21.0,23.0,23.0,17.0,20.0,23.0,24.0,17.0,21.0,20.0,22.0,20.0,22.0,21.0,20.0,20.0,21.0,20.0,22.0,20.0,22.0,20.0,23.0,21.0,21.0,22.0,23.0,25.0,22.0,21.0,22.0,26.0,22.0,23.0,23.0,22.0,26.0,19.0,24.0,25.0,21.0,26.0,20.0,25.0,20.0,25.0,24.0,22.0,24.0,24.0,23.0,20.0,23.0,25.0,24.0,22.0,25.0,27.0,26.0,29.0,26.0,25.0,27.0,26.0,30.0,27.0,25.0,26.0,26.0,30.0,27.0,24.0,27.0,26.0,31.0,29.0,23.0,27.0,27.0,31.0,30.0,25.0,26.0,29.0,31.0,30.0,26.0,26.0,29.0,29.0,29.0,27.0,26.0,27.0,28.0,28.0,28.0,28.0,27.0,28.0,28.0,27.0,29.0,26.0,28.0,26.0,27.0,29.0,26.0,29.0,26.0,30.0,28.0,29.0,29.0,30.0,28.0,29.0,28.0,30.0,28.0,26.0,29.0,27.0,30.0,28.0,27.0,27.0,27.0,31.0,28.0,28.0,26.0,27.0,30.0,28.0,29.0,26.0,29.0,29.0,30.0,30.0,27.0,30.0,29.0,28.0,31.0,28.0,28.0,29.0,30.0,29.0,28.0,27.0,28.0,25.0,27.0,29.0,28.0,29.0,27.0,28.0,28.0,25.0,27.0,28.0,26.0,26.0,28.0,26.0,28.0,27.0,26.0,28.0,25.0,29.0,28.0,29.0,25.0,27.0,30.0,28.0,26.0,26.0,28.0,25.0,26.0,28.0,26.0,27.0,27.0,29.0,25.0,26.0,26.0,26.0,30.0,25.0,26.0,26.0,27.0,27.0,25.0,25.0,25.0,27.0,27.0],\"x0\":\" \",\"xaxis\":\"x\",\"y0\":\" \",\"yaxis\":\"y\",\"type\":\"box\"}],                        {\"template\":{\"data\":{\"histogram2dcontour\":[{\"type\":\"histogram2dcontour\",\"colorbar\":{\"outlinewidth\":0,\"ticks\":\"\"},\"colorscale\":[[0.0,\"#0d0887\"],[0.1111111111111111,\"#46039f\"],[0.2222222222222222,\"#7201a8\"],[0.3333333333333333,\"#9c179e\"],[0.4444444444444444,\"#bd3786\"],[0.5555555555555556,\"#d8576b\"],[0.6666666666666666,\"#ed7953\"],[0.7777777777777778,\"#fb9f3a\"],[0.8888888888888888,\"#fdca26\"],[1.0,\"#f0f921\"]]}],\"choropleth\":[{\"type\":\"choropleth\",\"colorbar\":{\"outlinewidth\":0,\"ticks\":\"\"}}],\"histogram2d\":[{\"type\":\"histogram2d\",\"colorbar\":{\"outlinewidth\":0,\"ticks\":\"\"},\"colorscale\":[[0.0,\"#0d0887\"],[0.1111111111111111,\"#46039f\"],[0.2222222222222222,\"#7201a8\"],[0.3333333333333333,\"#9c179e\"],[0.4444444444444444,\"#bd3786\"],[0.5555555555555556,\"#d8576b\"],[0.6666666666666666,\"#ed7953\"],[0.7777777777777778,\"#fb9f3a\"],[0.8888888888888888,\"#fdca26\"],[1.0,\"#f0f921\"]]}],\"heatmap\":[{\"type\":\"heatmap\",\"colorbar\":{\"outlinewidth\":0,\"ticks\":\"\"},\"colorscale\":[[0.0,\"#0d0887\"],[0.1111111111111111,\"#46039f\"],[0.2222222222222222,\"#7201a8\"],[0.3333333333333333,\"#9c179e\"],[0.4444444444444444,\"#bd3786\"],[0.5555555555555556,\"#d8576b\"],[0.6666666666666666,\"#ed7953\"],[0.7777777777777778,\"#fb9f3a\"],[0.8888888888888888,\"#fdca26\"],[1.0,\"#f0f921\"]]}],\"heatmapgl\":[{\"type\":\"heatmapgl\",\"colorbar\":{\"outlinewidth\":0,\"ticks\":\"\"},\"colorscale\":[[0.0,\"#0d0887\"],[0.1111111111111111,\"#46039f\"],[0.2222222222222222,\"#7201a8\"],[0.3333333333333333,\"#9c179e\"],[0.4444444444444444,\"#bd3786\"],[0.5555555555555556,\"#d8576b\"],[0.6666666666666666,\"#ed7953\"],[0.7777777777777778,\"#fb9f3a\"],[0.8888888888888888,\"#fdca26\"],[1.0,\"#f0f921\"]]}],\"contourcarpet\":[{\"type\":\"contourcarpet\",\"colorbar\":{\"outlinewidth\":0,\"ticks\":\"\"}}],\"contour\":[{\"type\":\"contour\",\"colorbar\":{\"outlinewidth\":0,\"ticks\":\"\"},\"colorscale\":[[0.0,\"#0d0887\"],[0.1111111111111111,\"#46039f\"],[0.2222222222222222,\"#7201a8\"],[0.3333333333333333,\"#9c179e\"],[0.4444444444444444,\"#bd3786\"],[0.5555555555555556,\"#d8576b\"],[0.6666666666666666,\"#ed7953\"],[0.7777777777777778,\"#fb9f3a\"],[0.8888888888888888,\"#fdca26\"],[1.0,\"#f0f921\"]]}],\"surface\":[{\"type\":\"surface\",\"colorbar\":{\"outlinewidth\":0,\"ticks\":\"\"},\"colorscale\":[[0.0,\"#0d0887\"],[0.1111111111111111,\"#46039f\"],[0.2222222222222222,\"#7201a8\"],[0.3333333333333333,\"#9c179e\"],[0.4444444444444444,\"#bd3786\"],[0.5555555555555556,\"#d8576b\"],[0.6666666666666666,\"#ed7953\"],[0.7777777777777778,\"#fb9f3a\"],[0.8888888888888888,\"#fdca26\"],[1.0,\"#f0f921\"]]}],\"mesh3d\":[{\"type\":\"mesh3d\",\"colorbar\":{\"outlinewidth\":0,\"ticks\":\"\"}}],\"scatter\":[{\"fillpattern\":{\"fillmode\":\"overlay\",\"size\":10,\"solidity\":0.2},\"type\":\"scatter\"}],\"parcoords\":[{\"type\":\"parcoords\",\"line\":{\"colorbar\":{\"outlinewidth\":0,\"ticks\":\"\"}}}],\"scatterpolargl\":[{\"type\":\"scatterpolargl\",\"marker\":{\"colorbar\":{\"outlinewidth\":0,\"ticks\":\"\"}}}],\"bar\":[{\"error_x\":{\"color\":\"#2a3f5f\"},\"error_y\":{\"color\":\"#2a3f5f\"},\"marker\":{\"line\":{\"color\":\"#E5ECF6\",\"width\":0.5},\"pattern\":{\"fillmode\":\"overlay\",\"size\":10,\"solidity\":0.2}},\"type\":\"bar\"}],\"scattergeo\":[{\"type\":\"scattergeo\",\"marker\":{\"colorbar\":{\"outlinewidth\":0,\"ticks\":\"\"}}}],\"scatterpolar\":[{\"type\":\"scatterpolar\",\"marker\":{\"colorbar\":{\"outlinewidth\":0,\"ticks\":\"\"}}}],\"histogram\":[{\"marker\":{\"pattern\":{\"fillmode\":\"overlay\",\"size\":10,\"solidity\":0.2}},\"type\":\"histogram\"}],\"scattergl\":[{\"type\":\"scattergl\",\"marker\":{\"colorbar\":{\"outlinewidth\":0,\"ticks\":\"\"}}}],\"scatter3d\":[{\"type\":\"scatter3d\",\"line\":{\"colorbar\":{\"outlinewidth\":0,\"ticks\":\"\"}},\"marker\":{\"colorbar\":{\"outlinewidth\":0,\"ticks\":\"\"}}}],\"scattermapbox\":[{\"type\":\"scattermapbox\",\"marker\":{\"colorbar\":{\"outlinewidth\":0,\"ticks\":\"\"}}}],\"scatterternary\":[{\"type\":\"scatterternary\",\"marker\":{\"colorbar\":{\"outlinewidth\":0,\"ticks\":\"\"}}}],\"scattercarpet\":[{\"type\":\"scattercarpet\",\"marker\":{\"colorbar\":{\"outlinewidth\":0,\"ticks\":\"\"}}}],\"carpet\":[{\"aaxis\":{\"endlinecolor\":\"#2a3f5f\",\"gridcolor\":\"white\",\"linecolor\":\"white\",\"minorgridcolor\":\"white\",\"startlinecolor\":\"#2a3f5f\"},\"baxis\":{\"endlinecolor\":\"#2a3f5f\",\"gridcolor\":\"white\",\"linecolor\":\"white\",\"minorgridcolor\":\"white\",\"startlinecolor\":\"#2a3f5f\"},\"type\":\"carpet\"}],\"table\":[{\"cells\":{\"fill\":{\"color\":\"#EBF0F8\"},\"line\":{\"color\":\"white\"}},\"header\":{\"fill\":{\"color\":\"#C8D4E3\"},\"line\":{\"color\":\"white\"}},\"type\":\"table\"}],\"barpolar\":[{\"marker\":{\"line\":{\"color\":\"#E5ECF6\",\"width\":0.5},\"pattern\":{\"fillmode\":\"overlay\",\"size\":10,\"solidity\":0.2}},\"type\":\"barpolar\"}],\"pie\":[{\"automargin\":true,\"type\":\"pie\"}]},\"layout\":{\"autotypenumbers\":\"strict\",\"colorway\":[\"#636efa\",\"#EF553B\",\"#00cc96\",\"#ab63fa\",\"#FFA15A\",\"#19d3f3\",\"#FF6692\",\"#B6E880\",\"#FF97FF\",\"#FECB52\"],\"font\":{\"color\":\"#2a3f5f\"},\"hovermode\":\"closest\",\"hoverlabel\":{\"align\":\"left\"},\"paper_bgcolor\":\"white\",\"plot_bgcolor\":\"#E5ECF6\",\"polar\":{\"bgcolor\":\"#E5ECF6\",\"angularaxis\":{\"gridcolor\":\"white\",\"linecolor\":\"white\",\"ticks\":\"\"},\"radialaxis\":{\"gridcolor\":\"white\",\"linecolor\":\"white\",\"ticks\":\"\"}},\"ternary\":{\"bgcolor\":\"#E5ECF6\",\"aaxis\":{\"gridcolor\":\"white\",\"linecolor\":\"white\",\"ticks\":\"\"},\"baxis\":{\"gridcolor\":\"white\",\"linecolor\":\"white\",\"ticks\":\"\"},\"caxis\":{\"gridcolor\":\"white\",\"linecolor\":\"white\",\"ticks\":\"\"}},\"coloraxis\":{\"colorbar\":{\"outlinewidth\":0,\"ticks\":\"\"}},\"colorscale\":{\"sequential\":[[0.0,\"#0d0887\"],[0.1111111111111111,\"#46039f\"],[0.2222222222222222,\"#7201a8\"],[0.3333333333333333,\"#9c179e\"],[0.4444444444444444,\"#bd3786\"],[0.5555555555555556,\"#d8576b\"],[0.6666666666666666,\"#ed7953\"],[0.7777777777777778,\"#fb9f3a\"],[0.8888888888888888,\"#fdca26\"],[1.0,\"#f0f921\"]],\"sequentialminus\":[[0.0,\"#0d0887\"],[0.1111111111111111,\"#46039f\"],[0.2222222222222222,\"#7201a8\"],[0.3333333333333333,\"#9c179e\"],[0.4444444444444444,\"#bd3786\"],[0.5555555555555556,\"#d8576b\"],[0.6666666666666666,\"#ed7953\"],[0.7777777777777778,\"#fb9f3a\"],[0.8888888888888888,\"#fdca26\"],[1.0,\"#f0f921\"]],\"diverging\":[[0,\"#8e0152\"],[0.1,\"#c51b7d\"],[0.2,\"#de77ae\"],[0.3,\"#f1b6da\"],[0.4,\"#fde0ef\"],[0.5,\"#f7f7f7\"],[0.6,\"#e6f5d0\"],[0.7,\"#b8e186\"],[0.8,\"#7fbc41\"],[0.9,\"#4d9221\"],[1,\"#276419\"]]},\"xaxis\":{\"gridcolor\":\"white\",\"linecolor\":\"white\",\"ticks\":\"\",\"title\":{\"standoff\":15},\"zerolinecolor\":\"white\",\"automargin\":true,\"zerolinewidth\":2},\"yaxis\":{\"gridcolor\":\"white\",\"linecolor\":\"white\",\"ticks\":\"\",\"title\":{\"standoff\":15},\"zerolinecolor\":\"white\",\"automargin\":true,\"zerolinewidth\":2},\"scene\":{\"xaxis\":{\"backgroundcolor\":\"#E5ECF6\",\"gridcolor\":\"white\",\"linecolor\":\"white\",\"showbackground\":true,\"ticks\":\"\",\"zerolinecolor\":\"white\",\"gridwidth\":2},\"yaxis\":{\"backgroundcolor\":\"#E5ECF6\",\"gridcolor\":\"white\",\"linecolor\":\"white\",\"showbackground\":true,\"ticks\":\"\",\"zerolinecolor\":\"white\",\"gridwidth\":2},\"zaxis\":{\"backgroundcolor\":\"#E5ECF6\",\"gridcolor\":\"white\",\"linecolor\":\"white\",\"showbackground\":true,\"ticks\":\"\",\"zerolinecolor\":\"white\",\"gridwidth\":2}},\"shapedefaults\":{\"line\":{\"color\":\"#2a3f5f\"}},\"annotationdefaults\":{\"arrowcolor\":\"#2a3f5f\",\"arrowhead\":0,\"arrowwidth\":1},\"geo\":{\"bgcolor\":\"white\",\"landcolor\":\"#E5ECF6\",\"subunitcolor\":\"white\",\"showland\":true,\"showlakes\":true,\"lakecolor\":\"white\"},\"title\":{\"x\":0.05},\"mapbox\":{\"style\":\"light\"}}},\"xaxis\":{\"anchor\":\"y\",\"domain\":[0.0,1.0],\"title\":{\"text\":\"min_temp\"},\"showgrid\":false},\"yaxis\":{\"anchor\":\"x\",\"domain\":[0.0,1.0],\"title\":{\"text\":\"Values\"},\"showgrid\":false},\"legend\":{\"tracegroupgap\":0},\"title\":{\"text\":\"<b>MIN_TEMP</b>\",\"font\":{\"size\":18},\"x\":0.5},\"boxmode\":\"group\"},                        {\"responsive\": true}                    ).then(function(){\n",
       "                            \n",
       "var gd = document.getElementById('e85a8931-85b6-485b-8f05-df3abed13e41');\n",
       "var x = new MutationObserver(function (mutations, observer) {{\n",
       "        var display = window.getComputedStyle(gd).display;\n",
       "        if (!display || display === 'none') {{\n",
       "            console.log([gd, 'removed!']);\n",
       "            Plotly.purge(gd);\n",
       "            observer.disconnect();\n",
       "        }}\n",
       "}});\n",
       "\n",
       "// Listen for the removal of the full notebook cells\n",
       "var notebookContainer = gd.closest('#notebook-container');\n",
       "if (notebookContainer) {{\n",
       "    x.observe(notebookContainer, {childList: true});\n",
       "}}\n",
       "\n",
       "// Listen for the clearing of the current output cell\n",
       "var outputEl = gd.closest('.output');\n",
       "if (outputEl) {{\n",
       "    x.observe(outputEl, {childList: true});\n",
       "}}\n",
       "\n",
       "                        })                };                });            </script>        </div>"
      ]
     },
     "metadata": {},
     "output_type": "display_data"
    },
    {
     "data": {
      "application/vnd.plotly.v1+json": {
       "config": {
        "plotlyServerURL": "https://plot.ly"
       },
       "data": [
        {
         "alignmentgroup": "True",
         "hovertemplate": "wind=%{x}<extra></extra>",
         "legendgroup": "",
         "marker": {
          "color": "skyblue",
          "line": {
           "color": "darkblue",
           "width": 1
          }
         },
         "name": "",
         "notched": false,
         "offsetgroup": "",
         "orientation": "h",
         "showlegend": false,
         "type": "box",
         "x": [
          7,
          8,
          7,
          9,
          10,
          7,
          8,
          8,
          9,
          5,
          6,
          7,
          8,
          7,
          8,
          8,
          9,
          13,
          7,
          7,
          9,
          8,
          9,
          7,
          7,
          9,
          8,
          9,
          6,
          8,
          10,
          9,
          6,
          8,
          8,
          8,
          8,
          9,
          9,
          9,
          8,
          9,
          9,
          9,
          8,
          8,
          7,
          8,
          6,
          7,
          8,
          9,
          8,
          9,
          10,
          7,
          9,
          8,
          12,
          6,
          8,
          10,
          9,
          10,
          6,
          7,
          8,
          11,
          8,
          8,
          7,
          8,
          5,
          7,
          13,
          7,
          10,
          8,
          7,
          7,
          8,
          9,
          7,
          8,
          7,
          7,
          7,
          9,
          10,
          6,
          7,
          8,
          10,
          9,
          6,
          9,
          10,
          8,
          10,
          7,
          8,
          9,
          10,
          13,
          8,
          9,
          8,
          9,
          8,
          8,
          9,
          8,
          10,
          9,
          8,
          11,
          10,
          6,
          8,
          9,
          10,
          8,
          6,
          7,
          7,
          10,
          9,
          8,
          9,
          11,
          8,
          9,
          9,
          6,
          9,
          7,
          9,
          8,
          9,
          9,
          10,
          8,
          8,
          9,
          10,
          8,
          6,
          8,
          8,
          8,
          9,
          6,
          8,
          8,
          8,
          12,
          9,
          7,
          8,
          12,
          9,
          11,
          10,
          6,
          11,
          7,
          9,
          8,
          9,
          8,
          9,
          9,
          8,
          7,
          6,
          9,
          9,
          11,
          6,
          9,
          10,
          7,
          9,
          5,
          11,
          7,
          5,
          12,
          11,
          10,
          10,
          7,
          8,
          7,
          9,
          9,
          9,
          8,
          7,
          9,
          9,
          12,
          6,
          10,
          8,
          8,
          12,
          8,
          12,
          12,
          8,
          6,
          10,
          8,
          7,
          10,
          9,
          8,
          9,
          8,
          11,
          6,
          9,
          8,
          13,
          6,
          10,
          9,
          8,
          7,
          8,
          9,
          8,
          8,
          8,
          9,
          8,
          8,
          12,
          6,
          11,
          9,
          9,
          11,
          12,
          11,
          9,
          9,
          8,
          13,
          8,
          9,
          8,
          9,
          10,
          8,
          10,
          9,
          11,
          11,
          8,
          7,
          8,
          8,
          8,
          8,
          10,
          11,
          12,
          9,
          9,
          8,
          9,
          10,
          9,
          9,
          10,
          8,
          7,
          10,
          8,
          10,
          8,
          11,
          9,
          10,
          9,
          10,
          8,
          10,
          9,
          7,
          8,
          9,
          10,
          9,
          8,
          8,
          9,
          9,
          8,
          10,
          8,
          8,
          9,
          9,
          10,
          7,
          9,
          10,
          10,
          10,
          7,
          8,
          9,
          8,
          8,
          8,
          9,
          8,
          10,
          10,
          9,
          12,
          9,
          10,
          9,
          10,
          9,
          10,
          9,
          10,
          9,
          9,
          9,
          8,
          12,
          5,
          9,
          9,
          11,
          9,
          13,
          9,
          8,
          7,
          8,
          13,
          11,
          10,
          9,
          7,
          11,
          10,
          13,
          7,
          11,
          10,
          11,
          7,
          9,
          11,
          8,
          9,
          9,
          7,
          10,
          10,
          12,
          11,
          10,
          10,
          10,
          10,
          12,
          7,
          9,
          8,
          10,
          11,
          12,
          10,
          12,
          10,
          13,
          8,
          12,
          9,
          11,
          12,
          10,
          12,
          8,
          11,
          12,
          6,
          11,
          9,
          11,
          12,
          9,
          11,
          9,
          10,
          12,
          6,
          13,
          7,
          11,
          11,
          10,
          9,
          11,
          11,
          8,
          9,
          11,
          11,
          8,
          9,
          8,
          9,
          7,
          9,
          8,
          9,
          13,
          8,
          9,
          9,
          10,
          10,
          8,
          10,
          10,
          10,
          12,
          9,
          11,
          10,
          9,
          11,
          7,
          8,
          12,
          11,
          10,
          8,
          11,
          12,
          13,
          9,
          11,
          11,
          12,
          10,
          10,
          13,
          11,
          13,
          8,
          9,
          11,
          11,
          7,
          10,
          12,
          10,
          8,
          6,
          9,
          11,
          10,
          13,
          8,
          6,
          8,
          12,
          10,
          8,
          7,
          10,
          11,
          10,
          9,
          7,
          11,
          9,
          11,
          8,
          7,
          10,
          9,
          10,
          9,
          9,
          13,
          10,
          9,
          11,
          8,
          10,
          11,
          10,
          11,
          11,
          10,
          10,
          10,
          8,
          9,
          13,
          8,
          9,
          9,
          11,
          11,
          11,
          10,
          8,
          11,
          11,
          10,
          11,
          10,
          13,
          9,
          12,
          13,
          10,
          8,
          9,
          10,
          9,
          7,
          8,
          6,
          12,
          9,
          9,
          8,
          8,
          6,
          8,
          7,
          11,
          10,
          9,
          10,
          9,
          13,
          11,
          10,
          11,
          10,
          12,
          9,
          10,
          11,
          11,
          8,
          10,
          13,
          7,
          8,
          11,
          9,
          9,
          8,
          9,
          11,
          11,
          10,
          10,
          9,
          10,
          12,
          12,
          11,
          13,
          10,
          12,
          13,
          10,
          10,
          12,
          11,
          10,
          10,
          9,
          12,
          13,
          12,
          13,
          11,
          10,
          10,
          12,
          7,
          11,
          11,
          12,
          10,
          9,
          12,
          9,
          12,
          8,
          10,
          10,
          12,
          8,
          10,
          11,
          8,
          9,
          8,
          10,
          9,
          7,
          8,
          6,
          9,
          8,
          11,
          9,
          7,
          11,
          7,
          9,
          9,
          8,
          12,
          9,
          11,
          9,
          10,
          12,
          11,
          12,
          9,
          10,
          12,
          10,
          10,
          8,
          8,
          9,
          10,
          10,
          7,
          7,
          8,
          10,
          11,
          10,
          7,
          8,
          8,
          8,
          10,
          6,
          8,
          7,
          9,
          8,
          7,
          9,
          11,
          6,
          8,
          10,
          9,
          9,
          9,
          7,
          10,
          8,
          10,
          9,
          9,
          8,
          10,
          9,
          7,
          8,
          9,
          8,
          8,
          10,
          6,
          10,
          8,
          11,
          9,
          6,
          8,
          8,
          8,
          11,
          6,
          11,
          12,
          10,
          5,
          8,
          12,
          8,
          7,
          8,
          9,
          12,
          8,
          7,
          7,
          7,
          7,
          9,
          10,
          5,
          8,
          9,
          11,
          7,
          8,
          8,
          5,
          7,
          5,
          9,
          5,
          7,
          9,
          8,
          9,
          10,
          8,
          8,
          5,
          8,
          7,
          6,
          8,
          8,
          7,
          6,
          9,
          7,
          10,
          9,
          6,
          5,
          7,
          8,
          7,
          8,
          9,
          5,
          7,
          8
         ],
         "x0": " ",
         "xaxis": "x",
         "y0": " ",
         "yaxis": "y"
        }
       ],
       "layout": {
        "boxmode": "group",
        "legend": {
         "tracegroupgap": 0
        },
        "template": {
         "data": {
          "bar": [
           {
            "error_x": {
             "color": "#2a3f5f"
            },
            "error_y": {
             "color": "#2a3f5f"
            },
            "marker": {
             "line": {
              "color": "#E5ECF6",
              "width": 0.5
             },
             "pattern": {
              "fillmode": "overlay",
              "size": 10,
              "solidity": 0.2
             }
            },
            "type": "bar"
           }
          ],
          "barpolar": [
           {
            "marker": {
             "line": {
              "color": "#E5ECF6",
              "width": 0.5
             },
             "pattern": {
              "fillmode": "overlay",
              "size": 10,
              "solidity": 0.2
             }
            },
            "type": "barpolar"
           }
          ],
          "carpet": [
           {
            "aaxis": {
             "endlinecolor": "#2a3f5f",
             "gridcolor": "white",
             "linecolor": "white",
             "minorgridcolor": "white",
             "startlinecolor": "#2a3f5f"
            },
            "baxis": {
             "endlinecolor": "#2a3f5f",
             "gridcolor": "white",
             "linecolor": "white",
             "minorgridcolor": "white",
             "startlinecolor": "#2a3f5f"
            },
            "type": "carpet"
           }
          ],
          "choropleth": [
           {
            "colorbar": {
             "outlinewidth": 0,
             "ticks": ""
            },
            "type": "choropleth"
           }
          ],
          "contour": [
           {
            "colorbar": {
             "outlinewidth": 0,
             "ticks": ""
            },
            "colorscale": [
             [
              0,
              "#0d0887"
             ],
             [
              0.1111111111111111,
              "#46039f"
             ],
             [
              0.2222222222222222,
              "#7201a8"
             ],
             [
              0.3333333333333333,
              "#9c179e"
             ],
             [
              0.4444444444444444,
              "#bd3786"
             ],
             [
              0.5555555555555556,
              "#d8576b"
             ],
             [
              0.6666666666666666,
              "#ed7953"
             ],
             [
              0.7777777777777778,
              "#fb9f3a"
             ],
             [
              0.8888888888888888,
              "#fdca26"
             ],
             [
              1,
              "#f0f921"
             ]
            ],
            "type": "contour"
           }
          ],
          "contourcarpet": [
           {
            "colorbar": {
             "outlinewidth": 0,
             "ticks": ""
            },
            "type": "contourcarpet"
           }
          ],
          "heatmap": [
           {
            "colorbar": {
             "outlinewidth": 0,
             "ticks": ""
            },
            "colorscale": [
             [
              0,
              "#0d0887"
             ],
             [
              0.1111111111111111,
              "#46039f"
             ],
             [
              0.2222222222222222,
              "#7201a8"
             ],
             [
              0.3333333333333333,
              "#9c179e"
             ],
             [
              0.4444444444444444,
              "#bd3786"
             ],
             [
              0.5555555555555556,
              "#d8576b"
             ],
             [
              0.6666666666666666,
              "#ed7953"
             ],
             [
              0.7777777777777778,
              "#fb9f3a"
             ],
             [
              0.8888888888888888,
              "#fdca26"
             ],
             [
              1,
              "#f0f921"
             ]
            ],
            "type": "heatmap"
           }
          ],
          "heatmapgl": [
           {
            "colorbar": {
             "outlinewidth": 0,
             "ticks": ""
            },
            "colorscale": [
             [
              0,
              "#0d0887"
             ],
             [
              0.1111111111111111,
              "#46039f"
             ],
             [
              0.2222222222222222,
              "#7201a8"
             ],
             [
              0.3333333333333333,
              "#9c179e"
             ],
             [
              0.4444444444444444,
              "#bd3786"
             ],
             [
              0.5555555555555556,
              "#d8576b"
             ],
             [
              0.6666666666666666,
              "#ed7953"
             ],
             [
              0.7777777777777778,
              "#fb9f3a"
             ],
             [
              0.8888888888888888,
              "#fdca26"
             ],
             [
              1,
              "#f0f921"
             ]
            ],
            "type": "heatmapgl"
           }
          ],
          "histogram": [
           {
            "marker": {
             "pattern": {
              "fillmode": "overlay",
              "size": 10,
              "solidity": 0.2
             }
            },
            "type": "histogram"
           }
          ],
          "histogram2d": [
           {
            "colorbar": {
             "outlinewidth": 0,
             "ticks": ""
            },
            "colorscale": [
             [
              0,
              "#0d0887"
             ],
             [
              0.1111111111111111,
              "#46039f"
             ],
             [
              0.2222222222222222,
              "#7201a8"
             ],
             [
              0.3333333333333333,
              "#9c179e"
             ],
             [
              0.4444444444444444,
              "#bd3786"
             ],
             [
              0.5555555555555556,
              "#d8576b"
             ],
             [
              0.6666666666666666,
              "#ed7953"
             ],
             [
              0.7777777777777778,
              "#fb9f3a"
             ],
             [
              0.8888888888888888,
              "#fdca26"
             ],
             [
              1,
              "#f0f921"
             ]
            ],
            "type": "histogram2d"
           }
          ],
          "histogram2dcontour": [
           {
            "colorbar": {
             "outlinewidth": 0,
             "ticks": ""
            },
            "colorscale": [
             [
              0,
              "#0d0887"
             ],
             [
              0.1111111111111111,
              "#46039f"
             ],
             [
              0.2222222222222222,
              "#7201a8"
             ],
             [
              0.3333333333333333,
              "#9c179e"
             ],
             [
              0.4444444444444444,
              "#bd3786"
             ],
             [
              0.5555555555555556,
              "#d8576b"
             ],
             [
              0.6666666666666666,
              "#ed7953"
             ],
             [
              0.7777777777777778,
              "#fb9f3a"
             ],
             [
              0.8888888888888888,
              "#fdca26"
             ],
             [
              1,
              "#f0f921"
             ]
            ],
            "type": "histogram2dcontour"
           }
          ],
          "mesh3d": [
           {
            "colorbar": {
             "outlinewidth": 0,
             "ticks": ""
            },
            "type": "mesh3d"
           }
          ],
          "parcoords": [
           {
            "line": {
             "colorbar": {
              "outlinewidth": 0,
              "ticks": ""
             }
            },
            "type": "parcoords"
           }
          ],
          "pie": [
           {
            "automargin": true,
            "type": "pie"
           }
          ],
          "scatter": [
           {
            "fillpattern": {
             "fillmode": "overlay",
             "size": 10,
             "solidity": 0.2
            },
            "type": "scatter"
           }
          ],
          "scatter3d": [
           {
            "line": {
             "colorbar": {
              "outlinewidth": 0,
              "ticks": ""
             }
            },
            "marker": {
             "colorbar": {
              "outlinewidth": 0,
              "ticks": ""
             }
            },
            "type": "scatter3d"
           }
          ],
          "scattercarpet": [
           {
            "marker": {
             "colorbar": {
              "outlinewidth": 0,
              "ticks": ""
             }
            },
            "type": "scattercarpet"
           }
          ],
          "scattergeo": [
           {
            "marker": {
             "colorbar": {
              "outlinewidth": 0,
              "ticks": ""
             }
            },
            "type": "scattergeo"
           }
          ],
          "scattergl": [
           {
            "marker": {
             "colorbar": {
              "outlinewidth": 0,
              "ticks": ""
             }
            },
            "type": "scattergl"
           }
          ],
          "scattermapbox": [
           {
            "marker": {
             "colorbar": {
              "outlinewidth": 0,
              "ticks": ""
             }
            },
            "type": "scattermapbox"
           }
          ],
          "scatterpolar": [
           {
            "marker": {
             "colorbar": {
              "outlinewidth": 0,
              "ticks": ""
             }
            },
            "type": "scatterpolar"
           }
          ],
          "scatterpolargl": [
           {
            "marker": {
             "colorbar": {
              "outlinewidth": 0,
              "ticks": ""
             }
            },
            "type": "scatterpolargl"
           }
          ],
          "scatterternary": [
           {
            "marker": {
             "colorbar": {
              "outlinewidth": 0,
              "ticks": ""
             }
            },
            "type": "scatterternary"
           }
          ],
          "surface": [
           {
            "colorbar": {
             "outlinewidth": 0,
             "ticks": ""
            },
            "colorscale": [
             [
              0,
              "#0d0887"
             ],
             [
              0.1111111111111111,
              "#46039f"
             ],
             [
              0.2222222222222222,
              "#7201a8"
             ],
             [
              0.3333333333333333,
              "#9c179e"
             ],
             [
              0.4444444444444444,
              "#bd3786"
             ],
             [
              0.5555555555555556,
              "#d8576b"
             ],
             [
              0.6666666666666666,
              "#ed7953"
             ],
             [
              0.7777777777777778,
              "#fb9f3a"
             ],
             [
              0.8888888888888888,
              "#fdca26"
             ],
             [
              1,
              "#f0f921"
             ]
            ],
            "type": "surface"
           }
          ],
          "table": [
           {
            "cells": {
             "fill": {
              "color": "#EBF0F8"
             },
             "line": {
              "color": "white"
             }
            },
            "header": {
             "fill": {
              "color": "#C8D4E3"
             },
             "line": {
              "color": "white"
             }
            },
            "type": "table"
           }
          ]
         },
         "layout": {
          "annotationdefaults": {
           "arrowcolor": "#2a3f5f",
           "arrowhead": 0,
           "arrowwidth": 1
          },
          "autotypenumbers": "strict",
          "coloraxis": {
           "colorbar": {
            "outlinewidth": 0,
            "ticks": ""
           }
          },
          "colorscale": {
           "diverging": [
            [
             0,
             "#8e0152"
            ],
            [
             0.1,
             "#c51b7d"
            ],
            [
             0.2,
             "#de77ae"
            ],
            [
             0.3,
             "#f1b6da"
            ],
            [
             0.4,
             "#fde0ef"
            ],
            [
             0.5,
             "#f7f7f7"
            ],
            [
             0.6,
             "#e6f5d0"
            ],
            [
             0.7,
             "#b8e186"
            ],
            [
             0.8,
             "#7fbc41"
            ],
            [
             0.9,
             "#4d9221"
            ],
            [
             1,
             "#276419"
            ]
           ],
           "sequential": [
            [
             0,
             "#0d0887"
            ],
            [
             0.1111111111111111,
             "#46039f"
            ],
            [
             0.2222222222222222,
             "#7201a8"
            ],
            [
             0.3333333333333333,
             "#9c179e"
            ],
            [
             0.4444444444444444,
             "#bd3786"
            ],
            [
             0.5555555555555556,
             "#d8576b"
            ],
            [
             0.6666666666666666,
             "#ed7953"
            ],
            [
             0.7777777777777778,
             "#fb9f3a"
            ],
            [
             0.8888888888888888,
             "#fdca26"
            ],
            [
             1,
             "#f0f921"
            ]
           ],
           "sequentialminus": [
            [
             0,
             "#0d0887"
            ],
            [
             0.1111111111111111,
             "#46039f"
            ],
            [
             0.2222222222222222,
             "#7201a8"
            ],
            [
             0.3333333333333333,
             "#9c179e"
            ],
            [
             0.4444444444444444,
             "#bd3786"
            ],
            [
             0.5555555555555556,
             "#d8576b"
            ],
            [
             0.6666666666666666,
             "#ed7953"
            ],
            [
             0.7777777777777778,
             "#fb9f3a"
            ],
            [
             0.8888888888888888,
             "#fdca26"
            ],
            [
             1,
             "#f0f921"
            ]
           ]
          },
          "colorway": [
           "#636efa",
           "#EF553B",
           "#00cc96",
           "#ab63fa",
           "#FFA15A",
           "#19d3f3",
           "#FF6692",
           "#B6E880",
           "#FF97FF",
           "#FECB52"
          ],
          "font": {
           "color": "#2a3f5f"
          },
          "geo": {
           "bgcolor": "white",
           "lakecolor": "white",
           "landcolor": "#E5ECF6",
           "showlakes": true,
           "showland": true,
           "subunitcolor": "white"
          },
          "hoverlabel": {
           "align": "left"
          },
          "hovermode": "closest",
          "mapbox": {
           "style": "light"
          },
          "paper_bgcolor": "white",
          "plot_bgcolor": "#E5ECF6",
          "polar": {
           "angularaxis": {
            "gridcolor": "white",
            "linecolor": "white",
            "ticks": ""
           },
           "bgcolor": "#E5ECF6",
           "radialaxis": {
            "gridcolor": "white",
            "linecolor": "white",
            "ticks": ""
           }
          },
          "scene": {
           "xaxis": {
            "backgroundcolor": "#E5ECF6",
            "gridcolor": "white",
            "gridwidth": 2,
            "linecolor": "white",
            "showbackground": true,
            "ticks": "",
            "zerolinecolor": "white"
           },
           "yaxis": {
            "backgroundcolor": "#E5ECF6",
            "gridcolor": "white",
            "gridwidth": 2,
            "linecolor": "white",
            "showbackground": true,
            "ticks": "",
            "zerolinecolor": "white"
           },
           "zaxis": {
            "backgroundcolor": "#E5ECF6",
            "gridcolor": "white",
            "gridwidth": 2,
            "linecolor": "white",
            "showbackground": true,
            "ticks": "",
            "zerolinecolor": "white"
           }
          },
          "shapedefaults": {
           "line": {
            "color": "#2a3f5f"
           }
          },
          "ternary": {
           "aaxis": {
            "gridcolor": "white",
            "linecolor": "white",
            "ticks": ""
           },
           "baxis": {
            "gridcolor": "white",
            "linecolor": "white",
            "ticks": ""
           },
           "bgcolor": "#E5ECF6",
           "caxis": {
            "gridcolor": "white",
            "linecolor": "white",
            "ticks": ""
           }
          },
          "title": {
           "x": 0.05
          },
          "xaxis": {
           "automargin": true,
           "gridcolor": "white",
           "linecolor": "white",
           "ticks": "",
           "title": {
            "standoff": 15
           },
           "zerolinecolor": "white",
           "zerolinewidth": 2
          },
          "yaxis": {
           "automargin": true,
           "gridcolor": "white",
           "linecolor": "white",
           "ticks": "",
           "title": {
            "standoff": 15
           },
           "zerolinecolor": "white",
           "zerolinewidth": 2
          }
         }
        },
        "title": {
         "font": {
          "size": 18
         },
         "text": "<b>WIND</b>",
         "x": 0.5
        },
        "xaxis": {
         "anchor": "y",
         "domain": [
          0,
          1
         ],
         "showgrid": false,
         "title": {
          "text": "wind"
         }
        },
        "yaxis": {
         "anchor": "x",
         "domain": [
          0,
          1
         ],
         "showgrid": false,
         "title": {
          "text": "Values"
         }
        }
       }
      },
      "text/html": [
       "<div>                            <div id=\"cdd62a75-efc2-4e09-83c7-d1cd5627471c\" class=\"plotly-graph-div\" style=\"height:525px; width:100%;\"></div>            <script type=\"text/javascript\">                require([\"plotly\"], function(Plotly) {                    window.PLOTLYENV=window.PLOTLYENV || {};                                    if (document.getElementById(\"cdd62a75-efc2-4e09-83c7-d1cd5627471c\")) {                    Plotly.newPlot(                        \"cdd62a75-efc2-4e09-83c7-d1cd5627471c\",                        [{\"alignmentgroup\":\"True\",\"hovertemplate\":\"wind=%{x}<extra></extra>\",\"legendgroup\":\"\",\"marker\":{\"color\":\"skyblue\",\"line\":{\"color\":\"darkblue\",\"width\":1}},\"name\":\"\",\"notched\":false,\"offsetgroup\":\"\",\"orientation\":\"h\",\"showlegend\":false,\"x\":[7.0,8.0,7.0,9.0,10.0,7.0,8.0,8.0,9.0,5.0,6.0,7.0,8.0,7.0,8.0,8.0,9.0,13.0,7.0,7.0,9.0,8.0,9.0,7.0,7.0,9.0,8.0,9.0,6.0,8.0,10.0,9.0,6.0,8.0,8.0,8.0,8.0,9.0,9.0,9.0,8.0,9.0,9.0,9.0,8.0,8.0,7.0,8.0,6.0,7.0,8.0,9.0,8.0,9.0,10.0,7.0,9.0,8.0,12.0,6.0,8.0,10.0,9.0,10.0,6.0,7.0,8.0,11.0,8.0,8.0,7.0,8.0,5.0,7.0,13.0,7.0,10.0,8.0,7.0,7.0,8.0,9.0,7.0,8.0,7.0,7.0,7.0,9.0,10.0,6.0,7.0,8.0,10.0,9.0,6.0,9.0,10.0,8.0,10.0,7.0,8.0,9.0,10.0,13.0,8.0,9.0,8.0,9.0,8.0,8.0,9.0,8.0,10.0,9.0,8.0,11.0,10.0,6.0,8.0,9.0,10.0,8.0,6.0,7.0,7.0,10.0,9.0,8.0,9.0,11.0,8.0,9.0,9.0,6.0,9.0,7.0,9.0,8.0,9.0,9.0,10.0,8.0,8.0,9.0,10.0,8.0,6.0,8.0,8.0,8.0,9.0,6.0,8.0,8.0,8.0,12.0,9.0,7.0,8.0,12.0,9.0,11.0,10.0,6.0,11.0,7.0,9.0,8.0,9.0,8.0,9.0,9.0,8.0,7.0,6.0,9.0,9.0,11.0,6.0,9.0,10.0,7.0,9.0,5.0,11.0,7.0,5.0,12.0,11.0,10.0,10.0,7.0,8.0,7.0,9.0,9.0,9.0,8.0,7.0,9.0,9.0,12.0,6.0,10.0,8.0,8.0,12.0,8.0,12.0,12.0,8.0,6.0,10.0,8.0,7.0,10.0,9.0,8.0,9.0,8.0,11.0,6.0,9.0,8.0,13.0,6.0,10.0,9.0,8.0,7.0,8.0,9.0,8.0,8.0,8.0,9.0,8.0,8.0,12.0,6.0,11.0,9.0,9.0,11.0,12.0,11.0,9.0,9.0,8.0,13.0,8.0,9.0,8.0,9.0,10.0,8.0,10.0,9.0,11.0,11.0,8.0,7.0,8.0,8.0,8.0,8.0,10.0,11.0,12.0,9.0,9.0,8.0,9.0,10.0,9.0,9.0,10.0,8.0,7.0,10.0,8.0,10.0,8.0,11.0,9.0,10.0,9.0,10.0,8.0,10.0,9.0,7.0,8.0,9.0,10.0,9.0,8.0,8.0,9.0,9.0,8.0,10.0,8.0,8.0,9.0,9.0,10.0,7.0,9.0,10.0,10.0,10.0,7.0,8.0,9.0,8.0,8.0,8.0,9.0,8.0,10.0,10.0,9.0,12.0,9.0,10.0,9.0,10.0,9.0,10.0,9.0,10.0,9.0,9.0,9.0,8.0,12.0,5.0,9.0,9.0,11.0,9.0,13.0,9.0,8.0,7.0,8.0,13.0,11.0,10.0,9.0,7.0,11.0,10.0,13.0,7.0,11.0,10.0,11.0,7.0,9.0,11.0,8.0,9.0,9.0,7.0,10.0,10.0,12.0,11.0,10.0,10.0,10.0,10.0,12.0,7.0,9.0,8.0,10.0,11.0,12.0,10.0,12.0,10.0,13.0,8.0,12.0,9.0,11.0,12.0,10.0,12.0,8.0,11.0,12.0,6.0,11.0,9.0,11.0,12.0,9.0,11.0,9.0,10.0,12.0,6.0,13.0,7.0,11.0,11.0,10.0,9.0,11.0,11.0,8.0,9.0,11.0,11.0,8.0,9.0,8.0,9.0,7.0,9.0,8.0,9.0,13.0,8.0,9.0,9.0,10.0,10.0,8.0,10.0,10.0,10.0,12.0,9.0,11.0,10.0,9.0,11.0,7.0,8.0,12.0,11.0,10.0,8.0,11.0,12.0,13.0,9.0,11.0,11.0,12.0,10.0,10.0,13.0,11.0,13.0,8.0,9.0,11.0,11.0,7.0,10.0,12.0,10.0,8.0,6.0,9.0,11.0,10.0,13.0,8.0,6.0,8.0,12.0,10.0,8.0,7.0,10.0,11.0,10.0,9.0,7.0,11.0,9.0,11.0,8.0,7.0,10.0,9.0,10.0,9.0,9.0,13.0,10.0,9.0,11.0,8.0,10.0,11.0,10.0,11.0,11.0,10.0,10.0,10.0,8.0,9.0,13.0,8.0,9.0,9.0,11.0,11.0,11.0,10.0,8.0,11.0,11.0,10.0,11.0,10.0,13.0,9.0,12.0,13.0,10.0,8.0,9.0,10.0,9.0,7.0,8.0,6.0,12.0,9.0,9.0,8.0,8.0,6.0,8.0,7.0,11.0,10.0,9.0,10.0,9.0,13.0,11.0,10.0,11.0,10.0,12.0,9.0,10.0,11.0,11.0,8.0,10.0,13.0,7.0,8.0,11.0,9.0,9.0,8.0,9.0,11.0,11.0,10.0,10.0,9.0,10.0,12.0,12.0,11.0,13.0,10.0,12.0,13.0,10.0,10.0,12.0,11.0,10.0,10.0,9.0,12.0,13.0,12.0,13.0,11.0,10.0,10.0,12.0,7.0,11.0,11.0,12.0,10.0,9.0,12.0,9.0,12.0,8.0,10.0,10.0,12.0,8.0,10.0,11.0,8.0,9.0,8.0,10.0,9.0,7.0,8.0,6.0,9.0,8.0,11.0,9.0,7.0,11.0,7.0,9.0,9.0,8.0,12.0,9.0,11.0,9.0,10.0,12.0,11.0,12.0,9.0,10.0,12.0,10.0,10.0,8.0,8.0,9.0,10.0,10.0,7.0,7.0,8.0,10.0,11.0,10.0,7.0,8.0,8.0,8.0,10.0,6.0,8.0,7.0,9.0,8.0,7.0,9.0,11.0,6.0,8.0,10.0,9.0,9.0,9.0,7.0,10.0,8.0,10.0,9.0,9.0,8.0,10.0,9.0,7.0,8.0,9.0,8.0,8.0,10.0,6.0,10.0,8.0,11.0,9.0,6.0,8.0,8.0,8.0,11.0,6.0,11.0,12.0,10.0,5.0,8.0,12.0,8.0,7.0,8.0,9.0,12.0,8.0,7.0,7.0,7.0,7.0,9.0,10.0,5.0,8.0,9.0,11.0,7.0,8.0,8.0,5.0,7.0,5.0,9.0,5.0,7.0,9.0,8.0,9.0,10.0,8.0,8.0,5.0,8.0,7.0,6.0,8.0,8.0,7.0,6.0,9.0,7.0,10.0,9.0,6.0,5.0,7.0,8.0,7.0,8.0,9.0,5.0,7.0,8.0],\"x0\":\" \",\"xaxis\":\"x\",\"y0\":\" \",\"yaxis\":\"y\",\"type\":\"box\"}],                        {\"template\":{\"data\":{\"histogram2dcontour\":[{\"type\":\"histogram2dcontour\",\"colorbar\":{\"outlinewidth\":0,\"ticks\":\"\"},\"colorscale\":[[0.0,\"#0d0887\"],[0.1111111111111111,\"#46039f\"],[0.2222222222222222,\"#7201a8\"],[0.3333333333333333,\"#9c179e\"],[0.4444444444444444,\"#bd3786\"],[0.5555555555555556,\"#d8576b\"],[0.6666666666666666,\"#ed7953\"],[0.7777777777777778,\"#fb9f3a\"],[0.8888888888888888,\"#fdca26\"],[1.0,\"#f0f921\"]]}],\"choropleth\":[{\"type\":\"choropleth\",\"colorbar\":{\"outlinewidth\":0,\"ticks\":\"\"}}],\"histogram2d\":[{\"type\":\"histogram2d\",\"colorbar\":{\"outlinewidth\":0,\"ticks\":\"\"},\"colorscale\":[[0.0,\"#0d0887\"],[0.1111111111111111,\"#46039f\"],[0.2222222222222222,\"#7201a8\"],[0.3333333333333333,\"#9c179e\"],[0.4444444444444444,\"#bd3786\"],[0.5555555555555556,\"#d8576b\"],[0.6666666666666666,\"#ed7953\"],[0.7777777777777778,\"#fb9f3a\"],[0.8888888888888888,\"#fdca26\"],[1.0,\"#f0f921\"]]}],\"heatmap\":[{\"type\":\"heatmap\",\"colorbar\":{\"outlinewidth\":0,\"ticks\":\"\"},\"colorscale\":[[0.0,\"#0d0887\"],[0.1111111111111111,\"#46039f\"],[0.2222222222222222,\"#7201a8\"],[0.3333333333333333,\"#9c179e\"],[0.4444444444444444,\"#bd3786\"],[0.5555555555555556,\"#d8576b\"],[0.6666666666666666,\"#ed7953\"],[0.7777777777777778,\"#fb9f3a\"],[0.8888888888888888,\"#fdca26\"],[1.0,\"#f0f921\"]]}],\"heatmapgl\":[{\"type\":\"heatmapgl\",\"colorbar\":{\"outlinewidth\":0,\"ticks\":\"\"},\"colorscale\":[[0.0,\"#0d0887\"],[0.1111111111111111,\"#46039f\"],[0.2222222222222222,\"#7201a8\"],[0.3333333333333333,\"#9c179e\"],[0.4444444444444444,\"#bd3786\"],[0.5555555555555556,\"#d8576b\"],[0.6666666666666666,\"#ed7953\"],[0.7777777777777778,\"#fb9f3a\"],[0.8888888888888888,\"#fdca26\"],[1.0,\"#f0f921\"]]}],\"contourcarpet\":[{\"type\":\"contourcarpet\",\"colorbar\":{\"outlinewidth\":0,\"ticks\":\"\"}}],\"contour\":[{\"type\":\"contour\",\"colorbar\":{\"outlinewidth\":0,\"ticks\":\"\"},\"colorscale\":[[0.0,\"#0d0887\"],[0.1111111111111111,\"#46039f\"],[0.2222222222222222,\"#7201a8\"],[0.3333333333333333,\"#9c179e\"],[0.4444444444444444,\"#bd3786\"],[0.5555555555555556,\"#d8576b\"],[0.6666666666666666,\"#ed7953\"],[0.7777777777777778,\"#fb9f3a\"],[0.8888888888888888,\"#fdca26\"],[1.0,\"#f0f921\"]]}],\"surface\":[{\"type\":\"surface\",\"colorbar\":{\"outlinewidth\":0,\"ticks\":\"\"},\"colorscale\":[[0.0,\"#0d0887\"],[0.1111111111111111,\"#46039f\"],[0.2222222222222222,\"#7201a8\"],[0.3333333333333333,\"#9c179e\"],[0.4444444444444444,\"#bd3786\"],[0.5555555555555556,\"#d8576b\"],[0.6666666666666666,\"#ed7953\"],[0.7777777777777778,\"#fb9f3a\"],[0.8888888888888888,\"#fdca26\"],[1.0,\"#f0f921\"]]}],\"mesh3d\":[{\"type\":\"mesh3d\",\"colorbar\":{\"outlinewidth\":0,\"ticks\":\"\"}}],\"scatter\":[{\"fillpattern\":{\"fillmode\":\"overlay\",\"size\":10,\"solidity\":0.2},\"type\":\"scatter\"}],\"parcoords\":[{\"type\":\"parcoords\",\"line\":{\"colorbar\":{\"outlinewidth\":0,\"ticks\":\"\"}}}],\"scatterpolargl\":[{\"type\":\"scatterpolargl\",\"marker\":{\"colorbar\":{\"outlinewidth\":0,\"ticks\":\"\"}}}],\"bar\":[{\"error_x\":{\"color\":\"#2a3f5f\"},\"error_y\":{\"color\":\"#2a3f5f\"},\"marker\":{\"line\":{\"color\":\"#E5ECF6\",\"width\":0.5},\"pattern\":{\"fillmode\":\"overlay\",\"size\":10,\"solidity\":0.2}},\"type\":\"bar\"}],\"scattergeo\":[{\"type\":\"scattergeo\",\"marker\":{\"colorbar\":{\"outlinewidth\":0,\"ticks\":\"\"}}}],\"scatterpolar\":[{\"type\":\"scatterpolar\",\"marker\":{\"colorbar\":{\"outlinewidth\":0,\"ticks\":\"\"}}}],\"histogram\":[{\"marker\":{\"pattern\":{\"fillmode\":\"overlay\",\"size\":10,\"solidity\":0.2}},\"type\":\"histogram\"}],\"scattergl\":[{\"type\":\"scattergl\",\"marker\":{\"colorbar\":{\"outlinewidth\":0,\"ticks\":\"\"}}}],\"scatter3d\":[{\"type\":\"scatter3d\",\"line\":{\"colorbar\":{\"outlinewidth\":0,\"ticks\":\"\"}},\"marker\":{\"colorbar\":{\"outlinewidth\":0,\"ticks\":\"\"}}}],\"scattermapbox\":[{\"type\":\"scattermapbox\",\"marker\":{\"colorbar\":{\"outlinewidth\":0,\"ticks\":\"\"}}}],\"scatterternary\":[{\"type\":\"scatterternary\",\"marker\":{\"colorbar\":{\"outlinewidth\":0,\"ticks\":\"\"}}}],\"scattercarpet\":[{\"type\":\"scattercarpet\",\"marker\":{\"colorbar\":{\"outlinewidth\":0,\"ticks\":\"\"}}}],\"carpet\":[{\"aaxis\":{\"endlinecolor\":\"#2a3f5f\",\"gridcolor\":\"white\",\"linecolor\":\"white\",\"minorgridcolor\":\"white\",\"startlinecolor\":\"#2a3f5f\"},\"baxis\":{\"endlinecolor\":\"#2a3f5f\",\"gridcolor\":\"white\",\"linecolor\":\"white\",\"minorgridcolor\":\"white\",\"startlinecolor\":\"#2a3f5f\"},\"type\":\"carpet\"}],\"table\":[{\"cells\":{\"fill\":{\"color\":\"#EBF0F8\"},\"line\":{\"color\":\"white\"}},\"header\":{\"fill\":{\"color\":\"#C8D4E3\"},\"line\":{\"color\":\"white\"}},\"type\":\"table\"}],\"barpolar\":[{\"marker\":{\"line\":{\"color\":\"#E5ECF6\",\"width\":0.5},\"pattern\":{\"fillmode\":\"overlay\",\"size\":10,\"solidity\":0.2}},\"type\":\"barpolar\"}],\"pie\":[{\"automargin\":true,\"type\":\"pie\"}]},\"layout\":{\"autotypenumbers\":\"strict\",\"colorway\":[\"#636efa\",\"#EF553B\",\"#00cc96\",\"#ab63fa\",\"#FFA15A\",\"#19d3f3\",\"#FF6692\",\"#B6E880\",\"#FF97FF\",\"#FECB52\"],\"font\":{\"color\":\"#2a3f5f\"},\"hovermode\":\"closest\",\"hoverlabel\":{\"align\":\"left\"},\"paper_bgcolor\":\"white\",\"plot_bgcolor\":\"#E5ECF6\",\"polar\":{\"bgcolor\":\"#E5ECF6\",\"angularaxis\":{\"gridcolor\":\"white\",\"linecolor\":\"white\",\"ticks\":\"\"},\"radialaxis\":{\"gridcolor\":\"white\",\"linecolor\":\"white\",\"ticks\":\"\"}},\"ternary\":{\"bgcolor\":\"#E5ECF6\",\"aaxis\":{\"gridcolor\":\"white\",\"linecolor\":\"white\",\"ticks\":\"\"},\"baxis\":{\"gridcolor\":\"white\",\"linecolor\":\"white\",\"ticks\":\"\"},\"caxis\":{\"gridcolor\":\"white\",\"linecolor\":\"white\",\"ticks\":\"\"}},\"coloraxis\":{\"colorbar\":{\"outlinewidth\":0,\"ticks\":\"\"}},\"colorscale\":{\"sequential\":[[0.0,\"#0d0887\"],[0.1111111111111111,\"#46039f\"],[0.2222222222222222,\"#7201a8\"],[0.3333333333333333,\"#9c179e\"],[0.4444444444444444,\"#bd3786\"],[0.5555555555555556,\"#d8576b\"],[0.6666666666666666,\"#ed7953\"],[0.7777777777777778,\"#fb9f3a\"],[0.8888888888888888,\"#fdca26\"],[1.0,\"#f0f921\"]],\"sequentialminus\":[[0.0,\"#0d0887\"],[0.1111111111111111,\"#46039f\"],[0.2222222222222222,\"#7201a8\"],[0.3333333333333333,\"#9c179e\"],[0.4444444444444444,\"#bd3786\"],[0.5555555555555556,\"#d8576b\"],[0.6666666666666666,\"#ed7953\"],[0.7777777777777778,\"#fb9f3a\"],[0.8888888888888888,\"#fdca26\"],[1.0,\"#f0f921\"]],\"diverging\":[[0,\"#8e0152\"],[0.1,\"#c51b7d\"],[0.2,\"#de77ae\"],[0.3,\"#f1b6da\"],[0.4,\"#fde0ef\"],[0.5,\"#f7f7f7\"],[0.6,\"#e6f5d0\"],[0.7,\"#b8e186\"],[0.8,\"#7fbc41\"],[0.9,\"#4d9221\"],[1,\"#276419\"]]},\"xaxis\":{\"gridcolor\":\"white\",\"linecolor\":\"white\",\"ticks\":\"\",\"title\":{\"standoff\":15},\"zerolinecolor\":\"white\",\"automargin\":true,\"zerolinewidth\":2},\"yaxis\":{\"gridcolor\":\"white\",\"linecolor\":\"white\",\"ticks\":\"\",\"title\":{\"standoff\":15},\"zerolinecolor\":\"white\",\"automargin\":true,\"zerolinewidth\":2},\"scene\":{\"xaxis\":{\"backgroundcolor\":\"#E5ECF6\",\"gridcolor\":\"white\",\"linecolor\":\"white\",\"showbackground\":true,\"ticks\":\"\",\"zerolinecolor\":\"white\",\"gridwidth\":2},\"yaxis\":{\"backgroundcolor\":\"#E5ECF6\",\"gridcolor\":\"white\",\"linecolor\":\"white\",\"showbackground\":true,\"ticks\":\"\",\"zerolinecolor\":\"white\",\"gridwidth\":2},\"zaxis\":{\"backgroundcolor\":\"#E5ECF6\",\"gridcolor\":\"white\",\"linecolor\":\"white\",\"showbackground\":true,\"ticks\":\"\",\"zerolinecolor\":\"white\",\"gridwidth\":2}},\"shapedefaults\":{\"line\":{\"color\":\"#2a3f5f\"}},\"annotationdefaults\":{\"arrowcolor\":\"#2a3f5f\",\"arrowhead\":0,\"arrowwidth\":1},\"geo\":{\"bgcolor\":\"white\",\"landcolor\":\"#E5ECF6\",\"subunitcolor\":\"white\",\"showland\":true,\"showlakes\":true,\"lakecolor\":\"white\"},\"title\":{\"x\":0.05},\"mapbox\":{\"style\":\"light\"}}},\"xaxis\":{\"anchor\":\"y\",\"domain\":[0.0,1.0],\"title\":{\"text\":\"wind\"},\"showgrid\":false},\"yaxis\":{\"anchor\":\"x\",\"domain\":[0.0,1.0],\"title\":{\"text\":\"Values\"},\"showgrid\":false},\"legend\":{\"tracegroupgap\":0},\"title\":{\"text\":\"<b>WIND</b>\",\"font\":{\"size\":18},\"x\":0.5},\"boxmode\":\"group\"},                        {\"responsive\": true}                    ).then(function(){\n",
       "                            \n",
       "var gd = document.getElementById('cdd62a75-efc2-4e09-83c7-d1cd5627471c');\n",
       "var x = new MutationObserver(function (mutations, observer) {{\n",
       "        var display = window.getComputedStyle(gd).display;\n",
       "        if (!display || display === 'none') {{\n",
       "            console.log([gd, 'removed!']);\n",
       "            Plotly.purge(gd);\n",
       "            observer.disconnect();\n",
       "        }}\n",
       "}});\n",
       "\n",
       "// Listen for the removal of the full notebook cells\n",
       "var notebookContainer = gd.closest('#notebook-container');\n",
       "if (notebookContainer) {{\n",
       "    x.observe(notebookContainer, {childList: true});\n",
       "}}\n",
       "\n",
       "// Listen for the clearing of the current output cell\n",
       "var outputEl = gd.closest('.output');\n",
       "if (outputEl) {{\n",
       "    x.observe(outputEl, {childList: true});\n",
       "}}\n",
       "\n",
       "                        })                };                });            </script>        </div>"
      ]
     },
     "metadata": {},
     "output_type": "display_data"
    },
    {
     "data": {
      "application/vnd.plotly.v1+json": {
       "config": {
        "plotlyServerURL": "https://plot.ly"
       },
       "data": [
        {
         "alignmentgroup": "True",
         "hovertemplate": "humidity=%{x}<extra></extra>",
         "legendgroup": "",
         "marker": {
          "color": "skyblue",
          "line": {
           "color": "darkblue",
           "width": 1
          }
         },
         "name": "",
         "notched": false,
         "offsetgroup": "",
         "orientation": "h",
         "showlegend": false,
         "type": "box",
         "x": [
          41,
          23,
          38,
          37,
          32,
          36,
          30,
          25,
          24,
          46,
          35,
          29,
          23,
          54,
          44,
          26,
          38,
          24,
          52,
          42,
          28,
          49,
          26,
          52,
          42,
          28,
          49,
          26,
          54,
          26,
          52,
          26,
          55,
          26,
          28,
          45,
          21,
          42,
          46,
          27,
          35,
          22,
          43,
          39,
          28,
          17,
          11,
          17,
          35,
          21,
          29,
          26,
          31,
          32,
          46,
          33,
          24,
          30,
          44,
          38,
          26,
          52,
          35,
          27,
          40,
          30,
          68,
          21,
          26,
          46,
          72,
          24,
          43,
          56,
          49,
          31,
          47,
          37,
          56,
          74,
          27,
          39,
          37,
          50,
          51,
          30,
          37,
          37,
          32,
          48,
          32,
          43,
          32,
          30,
          49,
          39,
          38,
          31,
          24,
          50,
          42,
          26,
          54,
          36,
          35,
          22,
          37,
          33,
          36,
          24,
          26,
          29,
          66,
          35,
          29,
          39,
          26,
          67,
          31,
          30,
          32,
          28,
          54,
          37,
          26,
          26,
          30,
          48,
          73,
          30,
          32,
          51,
          48,
          55,
          25,
          25,
          40,
          36,
          38,
          26,
          36,
          36,
          35,
          31,
          32,
          36,
          37,
          35,
          28,
          30,
          48,
          50,
          34,
          49,
          35,
          64,
          57,
          69,
          72,
          64,
          57,
          45,
          71,
          54,
          34,
          50,
          43,
          69,
          32,
          40,
          47,
          34,
          37,
          47,
          66,
          50,
          32,
          29,
          62,
          50,
          39,
          61,
          26,
          59,
          31,
          77,
          59,
          51,
          48,
          56,
          78,
          64,
          41,
          52,
          66,
          49,
          34,
          68,
          43,
          57,
          54,
          32,
          67,
          44,
          49,
          48,
          40,
          53,
          40,
          46,
          45,
          50,
          36,
          46,
          72,
          36,
          48,
          48,
          54,
          66,
          46,
          67,
          45,
          42,
          57,
          48,
          46,
          58,
          69,
          66,
          65,
          36,
          47,
          46,
          69,
          34,
          38,
          30,
          76,
          78,
          39,
          37,
          50,
          31,
          35,
          49,
          34,
          34,
          48,
          58,
          31,
          37,
          63,
          60,
          29,
          34,
          65,
          41,
          35,
          33,
          39,
          63,
          50,
          34,
          35,
          50,
          55,
          40,
          27,
          34,
          43,
          50,
          32,
          28,
          39,
          47,
          32,
          39,
          45,
          29,
          24,
          38,
          41,
          27,
          21,
          41,
          41,
          50,
          21,
          36,
          42,
          70,
          24,
          31,
          33,
          33,
          45,
          28,
          31,
          27,
          35,
          34,
          39,
          29,
          35,
          40,
          36,
          48,
          30,
          60,
          33,
          37,
          43,
          29,
          35,
          61,
          30,
          54,
          42,
          47,
          29,
          45,
          40,
          43,
          31,
          32,
          40,
          30,
          33,
          32,
          29,
          38,
          23,
          46,
          26,
          34,
          28,
          68,
          34,
          34,
          47,
          51,
          26,
          48,
          48,
          36,
          53,
          30,
          49,
          33,
          28,
          68,
          28,
          36,
          33,
          73,
          35,
          62,
          34,
          37,
          54,
          35,
          50,
          27,
          39,
          34,
          22,
          54,
          27,
          42,
          46,
          28,
          61,
          39,
          45,
          53,
          36,
          50,
          39,
          35,
          35,
          34,
          52,
          32,
          36,
          39,
          28,
          51,
          30,
          26,
          66,
          22,
          39,
          30,
          22,
          56,
          19,
          32,
          36,
          25,
          73,
          20,
          32,
          36,
          33,
          58,
          25,
          33,
          45,
          35,
          45,
          25,
          53,
          59,
          37,
          46,
          24,
          61,
          57,
          34,
          46,
          35,
          47,
          46,
          32,
          38,
          24,
          44,
          49,
          27,
          37,
          18,
          39,
          57,
          30,
          54,
          17,
          46,
          40,
          29,
          37,
          20,
          56,
          47,
          43,
          29,
          22,
          49,
          25,
          27,
          37,
          62,
          25,
          27,
          37,
          49,
          45,
          25,
          29,
          30,
          55,
          44,
          36,
          32,
          55,
          51,
          43,
          26,
          27,
          45,
          47,
          40,
          19,
          24,
          34,
          45,
          37,
          18,
          22,
          29,
          38,
          36,
          17,
          21,
          26,
          38,
          32,
          17,
          22,
          26,
          45,
          33,
          24,
          42,
          25,
          45,
          40,
          26,
          43,
          30,
          54,
          32,
          22,
          30,
          38,
          46,
          28,
          19,
          45,
          45,
          37,
          25,
          18,
          38,
          37,
          41,
          18,
          18,
          26,
          30,
          35,
          20,
          22,
          17,
          29,
          29,
          27,
          29,
          19,
          38,
          61,
          37,
          32,
          33,
          45,
          44,
          48,
          25,
          21,
          43,
          35,
          38,
          23,
          40,
          25,
          30,
          23,
          33,
          33,
          25,
          22,
          28,
          36,
          31,
          33,
          18,
          22,
          28,
          32,
          24,
          17,
          28,
          38,
          32,
          18,
          30,
          27,
          29,
          33,
          18,
          26,
          19,
          34,
          18,
          22,
          17,
          30,
          28,
          17,
          20,
          18,
          17,
          33,
          16,
          19,
          35,
          13,
          14,
          40,
          23,
          31,
          13,
          16,
          28,
          22,
          23,
          19,
          21,
          25,
          34,
          34,
          17,
          18,
          31,
          32,
          17,
          28,
          25,
          15,
          16,
          24,
          45,
          18,
          38,
          24,
          21,
          44,
          17,
          30,
          36,
          19,
          46,
          18,
          27,
          28,
          21,
          38,
          20,
          27,
          25,
          24,
          31,
          21,
          30,
          17,
          36,
          35,
          23,
          38,
          14,
          37,
          46,
          36,
          46,
          13,
          31,
          50,
          42,
          44,
          17,
          26,
          48,
          43,
          45,
          21,
          24,
          43,
          38,
          45,
          23,
          23,
          44,
          37,
          32,
          23,
          24,
          40,
          39,
          25,
          29,
          46,
          42,
          33,
          27,
          31,
          48,
          42,
          35,
          18,
          24,
          52,
          40,
          35,
          20,
          22,
          54,
          36,
          40,
          22,
          23,
          45,
          30,
          49,
          29,
          28,
          42,
          30,
          50,
          37,
          28,
          42,
          32,
          49,
          30,
          36,
          29,
          64,
          34,
          70,
          39,
          47,
          61,
          29,
          38,
          52,
          23,
          75,
          49,
          52,
          61,
          17,
          60,
          54,
          52,
          17,
          64,
          56,
          53,
          49,
          20,
          53,
          47,
          65,
          27,
          60,
          39,
          71,
          29,
          75,
          65,
          30,
          65,
          44,
          63,
          34,
          67,
          66,
          52,
          66,
          31,
          65,
          64,
          45,
          62,
          24,
          69,
          68,
          45,
          67,
          20
         ],
         "x0": " ",
         "xaxis": "x",
         "y0": " ",
         "yaxis": "y"
        }
       ],
       "layout": {
        "boxmode": "group",
        "legend": {
         "tracegroupgap": 0
        },
        "template": {
         "data": {
          "bar": [
           {
            "error_x": {
             "color": "#2a3f5f"
            },
            "error_y": {
             "color": "#2a3f5f"
            },
            "marker": {
             "line": {
              "color": "#E5ECF6",
              "width": 0.5
             },
             "pattern": {
              "fillmode": "overlay",
              "size": 10,
              "solidity": 0.2
             }
            },
            "type": "bar"
           }
          ],
          "barpolar": [
           {
            "marker": {
             "line": {
              "color": "#E5ECF6",
              "width": 0.5
             },
             "pattern": {
              "fillmode": "overlay",
              "size": 10,
              "solidity": 0.2
             }
            },
            "type": "barpolar"
           }
          ],
          "carpet": [
           {
            "aaxis": {
             "endlinecolor": "#2a3f5f",
             "gridcolor": "white",
             "linecolor": "white",
             "minorgridcolor": "white",
             "startlinecolor": "#2a3f5f"
            },
            "baxis": {
             "endlinecolor": "#2a3f5f",
             "gridcolor": "white",
             "linecolor": "white",
             "minorgridcolor": "white",
             "startlinecolor": "#2a3f5f"
            },
            "type": "carpet"
           }
          ],
          "choropleth": [
           {
            "colorbar": {
             "outlinewidth": 0,
             "ticks": ""
            },
            "type": "choropleth"
           }
          ],
          "contour": [
           {
            "colorbar": {
             "outlinewidth": 0,
             "ticks": ""
            },
            "colorscale": [
             [
              0,
              "#0d0887"
             ],
             [
              0.1111111111111111,
              "#46039f"
             ],
             [
              0.2222222222222222,
              "#7201a8"
             ],
             [
              0.3333333333333333,
              "#9c179e"
             ],
             [
              0.4444444444444444,
              "#bd3786"
             ],
             [
              0.5555555555555556,
              "#d8576b"
             ],
             [
              0.6666666666666666,
              "#ed7953"
             ],
             [
              0.7777777777777778,
              "#fb9f3a"
             ],
             [
              0.8888888888888888,
              "#fdca26"
             ],
             [
              1,
              "#f0f921"
             ]
            ],
            "type": "contour"
           }
          ],
          "contourcarpet": [
           {
            "colorbar": {
             "outlinewidth": 0,
             "ticks": ""
            },
            "type": "contourcarpet"
           }
          ],
          "heatmap": [
           {
            "colorbar": {
             "outlinewidth": 0,
             "ticks": ""
            },
            "colorscale": [
             [
              0,
              "#0d0887"
             ],
             [
              0.1111111111111111,
              "#46039f"
             ],
             [
              0.2222222222222222,
              "#7201a8"
             ],
             [
              0.3333333333333333,
              "#9c179e"
             ],
             [
              0.4444444444444444,
              "#bd3786"
             ],
             [
              0.5555555555555556,
              "#d8576b"
             ],
             [
              0.6666666666666666,
              "#ed7953"
             ],
             [
              0.7777777777777778,
              "#fb9f3a"
             ],
             [
              0.8888888888888888,
              "#fdca26"
             ],
             [
              1,
              "#f0f921"
             ]
            ],
            "type": "heatmap"
           }
          ],
          "heatmapgl": [
           {
            "colorbar": {
             "outlinewidth": 0,
             "ticks": ""
            },
            "colorscale": [
             [
              0,
              "#0d0887"
             ],
             [
              0.1111111111111111,
              "#46039f"
             ],
             [
              0.2222222222222222,
              "#7201a8"
             ],
             [
              0.3333333333333333,
              "#9c179e"
             ],
             [
              0.4444444444444444,
              "#bd3786"
             ],
             [
              0.5555555555555556,
              "#d8576b"
             ],
             [
              0.6666666666666666,
              "#ed7953"
             ],
             [
              0.7777777777777778,
              "#fb9f3a"
             ],
             [
              0.8888888888888888,
              "#fdca26"
             ],
             [
              1,
              "#f0f921"
             ]
            ],
            "type": "heatmapgl"
           }
          ],
          "histogram": [
           {
            "marker": {
             "pattern": {
              "fillmode": "overlay",
              "size": 10,
              "solidity": 0.2
             }
            },
            "type": "histogram"
           }
          ],
          "histogram2d": [
           {
            "colorbar": {
             "outlinewidth": 0,
             "ticks": ""
            },
            "colorscale": [
             [
              0,
              "#0d0887"
             ],
             [
              0.1111111111111111,
              "#46039f"
             ],
             [
              0.2222222222222222,
              "#7201a8"
             ],
             [
              0.3333333333333333,
              "#9c179e"
             ],
             [
              0.4444444444444444,
              "#bd3786"
             ],
             [
              0.5555555555555556,
              "#d8576b"
             ],
             [
              0.6666666666666666,
              "#ed7953"
             ],
             [
              0.7777777777777778,
              "#fb9f3a"
             ],
             [
              0.8888888888888888,
              "#fdca26"
             ],
             [
              1,
              "#f0f921"
             ]
            ],
            "type": "histogram2d"
           }
          ],
          "histogram2dcontour": [
           {
            "colorbar": {
             "outlinewidth": 0,
             "ticks": ""
            },
            "colorscale": [
             [
              0,
              "#0d0887"
             ],
             [
              0.1111111111111111,
              "#46039f"
             ],
             [
              0.2222222222222222,
              "#7201a8"
             ],
             [
              0.3333333333333333,
              "#9c179e"
             ],
             [
              0.4444444444444444,
              "#bd3786"
             ],
             [
              0.5555555555555556,
              "#d8576b"
             ],
             [
              0.6666666666666666,
              "#ed7953"
             ],
             [
              0.7777777777777778,
              "#fb9f3a"
             ],
             [
              0.8888888888888888,
              "#fdca26"
             ],
             [
              1,
              "#f0f921"
             ]
            ],
            "type": "histogram2dcontour"
           }
          ],
          "mesh3d": [
           {
            "colorbar": {
             "outlinewidth": 0,
             "ticks": ""
            },
            "type": "mesh3d"
           }
          ],
          "parcoords": [
           {
            "line": {
             "colorbar": {
              "outlinewidth": 0,
              "ticks": ""
             }
            },
            "type": "parcoords"
           }
          ],
          "pie": [
           {
            "automargin": true,
            "type": "pie"
           }
          ],
          "scatter": [
           {
            "fillpattern": {
             "fillmode": "overlay",
             "size": 10,
             "solidity": 0.2
            },
            "type": "scatter"
           }
          ],
          "scatter3d": [
           {
            "line": {
             "colorbar": {
              "outlinewidth": 0,
              "ticks": ""
             }
            },
            "marker": {
             "colorbar": {
              "outlinewidth": 0,
              "ticks": ""
             }
            },
            "type": "scatter3d"
           }
          ],
          "scattercarpet": [
           {
            "marker": {
             "colorbar": {
              "outlinewidth": 0,
              "ticks": ""
             }
            },
            "type": "scattercarpet"
           }
          ],
          "scattergeo": [
           {
            "marker": {
             "colorbar": {
              "outlinewidth": 0,
              "ticks": ""
             }
            },
            "type": "scattergeo"
           }
          ],
          "scattergl": [
           {
            "marker": {
             "colorbar": {
              "outlinewidth": 0,
              "ticks": ""
             }
            },
            "type": "scattergl"
           }
          ],
          "scattermapbox": [
           {
            "marker": {
             "colorbar": {
              "outlinewidth": 0,
              "ticks": ""
             }
            },
            "type": "scattermapbox"
           }
          ],
          "scatterpolar": [
           {
            "marker": {
             "colorbar": {
              "outlinewidth": 0,
              "ticks": ""
             }
            },
            "type": "scatterpolar"
           }
          ],
          "scatterpolargl": [
           {
            "marker": {
             "colorbar": {
              "outlinewidth": 0,
              "ticks": ""
             }
            },
            "type": "scatterpolargl"
           }
          ],
          "scatterternary": [
           {
            "marker": {
             "colorbar": {
              "outlinewidth": 0,
              "ticks": ""
             }
            },
            "type": "scatterternary"
           }
          ],
          "surface": [
           {
            "colorbar": {
             "outlinewidth": 0,
             "ticks": ""
            },
            "colorscale": [
             [
              0,
              "#0d0887"
             ],
             [
              0.1111111111111111,
              "#46039f"
             ],
             [
              0.2222222222222222,
              "#7201a8"
             ],
             [
              0.3333333333333333,
              "#9c179e"
             ],
             [
              0.4444444444444444,
              "#bd3786"
             ],
             [
              0.5555555555555556,
              "#d8576b"
             ],
             [
              0.6666666666666666,
              "#ed7953"
             ],
             [
              0.7777777777777778,
              "#fb9f3a"
             ],
             [
              0.8888888888888888,
              "#fdca26"
             ],
             [
              1,
              "#f0f921"
             ]
            ],
            "type": "surface"
           }
          ],
          "table": [
           {
            "cells": {
             "fill": {
              "color": "#EBF0F8"
             },
             "line": {
              "color": "white"
             }
            },
            "header": {
             "fill": {
              "color": "#C8D4E3"
             },
             "line": {
              "color": "white"
             }
            },
            "type": "table"
           }
          ]
         },
         "layout": {
          "annotationdefaults": {
           "arrowcolor": "#2a3f5f",
           "arrowhead": 0,
           "arrowwidth": 1
          },
          "autotypenumbers": "strict",
          "coloraxis": {
           "colorbar": {
            "outlinewidth": 0,
            "ticks": ""
           }
          },
          "colorscale": {
           "diverging": [
            [
             0,
             "#8e0152"
            ],
            [
             0.1,
             "#c51b7d"
            ],
            [
             0.2,
             "#de77ae"
            ],
            [
             0.3,
             "#f1b6da"
            ],
            [
             0.4,
             "#fde0ef"
            ],
            [
             0.5,
             "#f7f7f7"
            ],
            [
             0.6,
             "#e6f5d0"
            ],
            [
             0.7,
             "#b8e186"
            ],
            [
             0.8,
             "#7fbc41"
            ],
            [
             0.9,
             "#4d9221"
            ],
            [
             1,
             "#276419"
            ]
           ],
           "sequential": [
            [
             0,
             "#0d0887"
            ],
            [
             0.1111111111111111,
             "#46039f"
            ],
            [
             0.2222222222222222,
             "#7201a8"
            ],
            [
             0.3333333333333333,
             "#9c179e"
            ],
            [
             0.4444444444444444,
             "#bd3786"
            ],
            [
             0.5555555555555556,
             "#d8576b"
            ],
            [
             0.6666666666666666,
             "#ed7953"
            ],
            [
             0.7777777777777778,
             "#fb9f3a"
            ],
            [
             0.8888888888888888,
             "#fdca26"
            ],
            [
             1,
             "#f0f921"
            ]
           ],
           "sequentialminus": [
            [
             0,
             "#0d0887"
            ],
            [
             0.1111111111111111,
             "#46039f"
            ],
            [
             0.2222222222222222,
             "#7201a8"
            ],
            [
             0.3333333333333333,
             "#9c179e"
            ],
            [
             0.4444444444444444,
             "#bd3786"
            ],
            [
             0.5555555555555556,
             "#d8576b"
            ],
            [
             0.6666666666666666,
             "#ed7953"
            ],
            [
             0.7777777777777778,
             "#fb9f3a"
            ],
            [
             0.8888888888888888,
             "#fdca26"
            ],
            [
             1,
             "#f0f921"
            ]
           ]
          },
          "colorway": [
           "#636efa",
           "#EF553B",
           "#00cc96",
           "#ab63fa",
           "#FFA15A",
           "#19d3f3",
           "#FF6692",
           "#B6E880",
           "#FF97FF",
           "#FECB52"
          ],
          "font": {
           "color": "#2a3f5f"
          },
          "geo": {
           "bgcolor": "white",
           "lakecolor": "white",
           "landcolor": "#E5ECF6",
           "showlakes": true,
           "showland": true,
           "subunitcolor": "white"
          },
          "hoverlabel": {
           "align": "left"
          },
          "hovermode": "closest",
          "mapbox": {
           "style": "light"
          },
          "paper_bgcolor": "white",
          "plot_bgcolor": "#E5ECF6",
          "polar": {
           "angularaxis": {
            "gridcolor": "white",
            "linecolor": "white",
            "ticks": ""
           },
           "bgcolor": "#E5ECF6",
           "radialaxis": {
            "gridcolor": "white",
            "linecolor": "white",
            "ticks": ""
           }
          },
          "scene": {
           "xaxis": {
            "backgroundcolor": "#E5ECF6",
            "gridcolor": "white",
            "gridwidth": 2,
            "linecolor": "white",
            "showbackground": true,
            "ticks": "",
            "zerolinecolor": "white"
           },
           "yaxis": {
            "backgroundcolor": "#E5ECF6",
            "gridcolor": "white",
            "gridwidth": 2,
            "linecolor": "white",
            "showbackground": true,
            "ticks": "",
            "zerolinecolor": "white"
           },
           "zaxis": {
            "backgroundcolor": "#E5ECF6",
            "gridcolor": "white",
            "gridwidth": 2,
            "linecolor": "white",
            "showbackground": true,
            "ticks": "",
            "zerolinecolor": "white"
           }
          },
          "shapedefaults": {
           "line": {
            "color": "#2a3f5f"
           }
          },
          "ternary": {
           "aaxis": {
            "gridcolor": "white",
            "linecolor": "white",
            "ticks": ""
           },
           "baxis": {
            "gridcolor": "white",
            "linecolor": "white",
            "ticks": ""
           },
           "bgcolor": "#E5ECF6",
           "caxis": {
            "gridcolor": "white",
            "linecolor": "white",
            "ticks": ""
           }
          },
          "title": {
           "x": 0.05
          },
          "xaxis": {
           "automargin": true,
           "gridcolor": "white",
           "linecolor": "white",
           "ticks": "",
           "title": {
            "standoff": 15
           },
           "zerolinecolor": "white",
           "zerolinewidth": 2
          },
          "yaxis": {
           "automargin": true,
           "gridcolor": "white",
           "linecolor": "white",
           "ticks": "",
           "title": {
            "standoff": 15
           },
           "zerolinecolor": "white",
           "zerolinewidth": 2
          }
         }
        },
        "title": {
         "font": {
          "size": 18
         },
         "text": "<b>HUMIDITY</b>",
         "x": 0.5
        },
        "xaxis": {
         "anchor": "y",
         "domain": [
          0,
          1
         ],
         "showgrid": false,
         "title": {
          "text": "humidity"
         }
        },
        "yaxis": {
         "anchor": "x",
         "domain": [
          0,
          1
         ],
         "showgrid": false,
         "title": {
          "text": "Values"
         }
        }
       }
      },
      "text/html": [
       "<div>                            <div id=\"d9b2917f-3618-4c92-8504-89886a7868af\" class=\"plotly-graph-div\" style=\"height:525px; width:100%;\"></div>            <script type=\"text/javascript\">                require([\"plotly\"], function(Plotly) {                    window.PLOTLYENV=window.PLOTLYENV || {};                                    if (document.getElementById(\"d9b2917f-3618-4c92-8504-89886a7868af\")) {                    Plotly.newPlot(                        \"d9b2917f-3618-4c92-8504-89886a7868af\",                        [{\"alignmentgroup\":\"True\",\"hovertemplate\":\"humidity=%{x}<extra></extra>\",\"legendgroup\":\"\",\"marker\":{\"color\":\"skyblue\",\"line\":{\"color\":\"darkblue\",\"width\":1}},\"name\":\"\",\"notched\":false,\"offsetgroup\":\"\",\"orientation\":\"h\",\"showlegend\":false,\"x\":[41.0,23.0,38.0,37.0,32.0,36.0,30.0,25.0,24.0,46.0,35.0,29.0,23.0,54.0,44.0,26.0,38.0,24.0,52.0,42.0,28.0,49.0,26.0,52.0,42.0,28.0,49.0,26.0,54.0,26.0,52.0,26.0,55.0,26.0,28.0,45.0,21.0,42.0,46.0,27.0,35.0,22.0,43.0,39.0,28.0,17.0,11.0,17.0,35.0,21.0,29.0,26.0,31.0,32.0,46.0,33.0,24.0,30.0,44.0,38.0,26.0,52.0,35.0,27.0,40.0,30.0,68.0,21.0,26.0,46.0,72.0,24.0,43.0,56.0,49.0,31.0,47.0,37.0,56.0,74.0,27.0,39.0,37.0,50.0,51.0,30.0,37.0,37.0,32.0,48.0,32.0,43.0,32.0,30.0,49.0,39.0,38.0,31.0,24.0,50.0,42.0,26.0,54.0,36.0,35.0,22.0,37.0,33.0,36.0,24.0,26.0,29.0,66.0,35.0,29.0,39.0,26.0,67.0,31.0,30.0,32.0,28.0,54.0,37.0,26.0,26.0,30.0,48.0,73.0,30.0,32.0,51.0,48.0,55.0,25.0,25.0,40.0,36.0,38.0,26.0,36.0,36.0,35.0,31.0,32.0,36.0,37.0,35.0,28.0,30.0,48.0,50.0,34.0,49.0,35.0,64.0,57.0,69.0,72.0,64.0,57.0,45.0,71.0,54.0,34.0,50.0,43.0,69.0,32.0,40.0,47.0,34.0,37.0,47.0,66.0,50.0,32.0,29.0,62.0,50.0,39.0,61.0,26.0,59.0,31.0,77.0,59.0,51.0,48.0,56.0,78.0,64.0,41.0,52.0,66.0,49.0,34.0,68.0,43.0,57.0,54.0,32.0,67.0,44.0,49.0,48.0,40.0,53.0,40.0,46.0,45.0,50.0,36.0,46.0,72.0,36.0,48.0,48.0,54.0,66.0,46.0,67.0,45.0,42.0,57.0,48.0,46.0,58.0,69.0,66.0,65.0,36.0,47.0,46.0,69.0,34.0,38.0,30.0,76.0,78.0,39.0,37.0,50.0,31.0,35.0,49.0,34.0,34.0,48.0,58.0,31.0,37.0,63.0,60.0,29.0,34.0,65.0,41.0,35.0,33.0,39.0,63.0,50.0,34.0,35.0,50.0,55.0,40.0,27.0,34.0,43.0,50.0,32.0,28.0,39.0,47.0,32.0,39.0,45.0,29.0,24.0,38.0,41.0,27.0,21.0,41.0,41.0,50.0,21.0,36.0,42.0,70.0,24.0,31.0,33.0,33.0,45.0,28.0,31.0,27.0,35.0,34.0,39.0,29.0,35.0,40.0,36.0,48.0,30.0,60.0,33.0,37.0,43.0,29.0,35.0,61.0,30.0,54.0,42.0,47.0,29.0,45.0,40.0,43.0,31.0,32.0,40.0,30.0,33.0,32.0,29.0,38.0,23.0,46.0,26.0,34.0,28.0,68.0,34.0,34.0,47.0,51.0,26.0,48.0,48.0,36.0,53.0,30.0,49.0,33.0,28.0,68.0,28.0,36.0,33.0,73.0,35.0,62.0,34.0,37.0,54.0,35.0,50.0,27.0,39.0,34.0,22.0,54.0,27.0,42.0,46.0,28.0,61.0,39.0,45.0,53.0,36.0,50.0,39.0,35.0,35.0,34.0,52.0,32.0,36.0,39.0,28.0,51.0,30.0,26.0,66.0,22.0,39.0,30.0,22.0,56.0,19.0,32.0,36.0,25.0,73.0,20.0,32.0,36.0,33.0,58.0,25.0,33.0,45.0,35.0,45.0,25.0,53.0,59.0,37.0,46.0,24.0,61.0,57.0,34.0,46.0,35.0,47.0,46.0,32.0,38.0,24.0,44.0,49.0,27.0,37.0,18.0,39.0,57.0,30.0,54.0,17.0,46.0,40.0,29.0,37.0,20.0,56.0,47.0,43.0,29.0,22.0,49.0,25.0,27.0,37.0,62.0,25.0,27.0,37.0,49.0,45.0,25.0,29.0,30.0,55.0,44.0,36.0,32.0,55.0,51.0,43.0,26.0,27.0,45.0,47.0,40.0,19.0,24.0,34.0,45.0,37.0,18.0,22.0,29.0,38.0,36.0,17.0,21.0,26.0,38.0,32.0,17.0,22.0,26.0,45.0,33.0,24.0,42.0,25.0,45.0,40.0,26.0,43.0,30.0,54.0,32.0,22.0,30.0,38.0,46.0,28.0,19.0,45.0,45.0,37.0,25.0,18.0,38.0,37.0,41.0,18.0,18.0,26.0,30.0,35.0,20.0,22.0,17.0,29.0,29.0,27.0,29.0,19.0,38.0,61.0,37.0,32.0,33.0,45.0,44.0,48.0,25.0,21.0,43.0,35.0,38.0,23.0,40.0,25.0,30.0,23.0,33.0,33.0,25.0,22.0,28.0,36.0,31.0,33.0,18.0,22.0,28.0,32.0,24.0,17.0,28.0,38.0,32.0,18.0,30.0,27.0,29.0,33.0,18.0,26.0,19.0,34.0,18.0,22.0,17.0,30.0,28.0,17.0,20.0,18.0,17.0,33.0,16.0,19.0,35.0,13.0,14.0,40.0,23.0,31.0,13.0,16.0,28.0,22.0,23.0,19.0,21.0,25.0,34.0,34.0,17.0,18.0,31.0,32.0,17.0,28.0,25.0,15.0,16.0,24.0,45.0,18.0,38.0,24.0,21.0,44.0,17.0,30.0,36.0,19.0,46.0,18.0,27.0,28.0,21.0,38.0,20.0,27.0,25.0,24.0,31.0,21.0,30.0,17.0,36.0,35.0,23.0,38.0,14.0,37.0,46.0,36.0,46.0,13.0,31.0,50.0,42.0,44.0,17.0,26.0,48.0,43.0,45.0,21.0,24.0,43.0,38.0,45.0,23.0,23.0,44.0,37.0,32.0,23.0,24.0,40.0,39.0,25.0,29.0,46.0,42.0,33.0,27.0,31.0,48.0,42.0,35.0,18.0,24.0,52.0,40.0,35.0,20.0,22.0,54.0,36.0,40.0,22.0,23.0,45.0,30.0,49.0,29.0,28.0,42.0,30.0,50.0,37.0,28.0,42.0,32.0,49.0,30.0,36.0,29.0,64.0,34.0,70.0,39.0,47.0,61.0,29.0,38.0,52.0,23.0,75.0,49.0,52.0,61.0,17.0,60.0,54.0,52.0,17.0,64.0,56.0,53.0,49.0,20.0,53.0,47.0,65.0,27.0,60.0,39.0,71.0,29.0,75.0,65.0,30.0,65.0,44.0,63.0,34.0,67.0,66.0,52.0,66.0,31.0,65.0,64.0,45.0,62.0,24.0,69.0,68.0,45.0,67.0,20.0],\"x0\":\" \",\"xaxis\":\"x\",\"y0\":\" \",\"yaxis\":\"y\",\"type\":\"box\"}],                        {\"template\":{\"data\":{\"histogram2dcontour\":[{\"type\":\"histogram2dcontour\",\"colorbar\":{\"outlinewidth\":0,\"ticks\":\"\"},\"colorscale\":[[0.0,\"#0d0887\"],[0.1111111111111111,\"#46039f\"],[0.2222222222222222,\"#7201a8\"],[0.3333333333333333,\"#9c179e\"],[0.4444444444444444,\"#bd3786\"],[0.5555555555555556,\"#d8576b\"],[0.6666666666666666,\"#ed7953\"],[0.7777777777777778,\"#fb9f3a\"],[0.8888888888888888,\"#fdca26\"],[1.0,\"#f0f921\"]]}],\"choropleth\":[{\"type\":\"choropleth\",\"colorbar\":{\"outlinewidth\":0,\"ticks\":\"\"}}],\"histogram2d\":[{\"type\":\"histogram2d\",\"colorbar\":{\"outlinewidth\":0,\"ticks\":\"\"},\"colorscale\":[[0.0,\"#0d0887\"],[0.1111111111111111,\"#46039f\"],[0.2222222222222222,\"#7201a8\"],[0.3333333333333333,\"#9c179e\"],[0.4444444444444444,\"#bd3786\"],[0.5555555555555556,\"#d8576b\"],[0.6666666666666666,\"#ed7953\"],[0.7777777777777778,\"#fb9f3a\"],[0.8888888888888888,\"#fdca26\"],[1.0,\"#f0f921\"]]}],\"heatmap\":[{\"type\":\"heatmap\",\"colorbar\":{\"outlinewidth\":0,\"ticks\":\"\"},\"colorscale\":[[0.0,\"#0d0887\"],[0.1111111111111111,\"#46039f\"],[0.2222222222222222,\"#7201a8\"],[0.3333333333333333,\"#9c179e\"],[0.4444444444444444,\"#bd3786\"],[0.5555555555555556,\"#d8576b\"],[0.6666666666666666,\"#ed7953\"],[0.7777777777777778,\"#fb9f3a\"],[0.8888888888888888,\"#fdca26\"],[1.0,\"#f0f921\"]]}],\"heatmapgl\":[{\"type\":\"heatmapgl\",\"colorbar\":{\"outlinewidth\":0,\"ticks\":\"\"},\"colorscale\":[[0.0,\"#0d0887\"],[0.1111111111111111,\"#46039f\"],[0.2222222222222222,\"#7201a8\"],[0.3333333333333333,\"#9c179e\"],[0.4444444444444444,\"#bd3786\"],[0.5555555555555556,\"#d8576b\"],[0.6666666666666666,\"#ed7953\"],[0.7777777777777778,\"#fb9f3a\"],[0.8888888888888888,\"#fdca26\"],[1.0,\"#f0f921\"]]}],\"contourcarpet\":[{\"type\":\"contourcarpet\",\"colorbar\":{\"outlinewidth\":0,\"ticks\":\"\"}}],\"contour\":[{\"type\":\"contour\",\"colorbar\":{\"outlinewidth\":0,\"ticks\":\"\"},\"colorscale\":[[0.0,\"#0d0887\"],[0.1111111111111111,\"#46039f\"],[0.2222222222222222,\"#7201a8\"],[0.3333333333333333,\"#9c179e\"],[0.4444444444444444,\"#bd3786\"],[0.5555555555555556,\"#d8576b\"],[0.6666666666666666,\"#ed7953\"],[0.7777777777777778,\"#fb9f3a\"],[0.8888888888888888,\"#fdca26\"],[1.0,\"#f0f921\"]]}],\"surface\":[{\"type\":\"surface\",\"colorbar\":{\"outlinewidth\":0,\"ticks\":\"\"},\"colorscale\":[[0.0,\"#0d0887\"],[0.1111111111111111,\"#46039f\"],[0.2222222222222222,\"#7201a8\"],[0.3333333333333333,\"#9c179e\"],[0.4444444444444444,\"#bd3786\"],[0.5555555555555556,\"#d8576b\"],[0.6666666666666666,\"#ed7953\"],[0.7777777777777778,\"#fb9f3a\"],[0.8888888888888888,\"#fdca26\"],[1.0,\"#f0f921\"]]}],\"mesh3d\":[{\"type\":\"mesh3d\",\"colorbar\":{\"outlinewidth\":0,\"ticks\":\"\"}}],\"scatter\":[{\"fillpattern\":{\"fillmode\":\"overlay\",\"size\":10,\"solidity\":0.2},\"type\":\"scatter\"}],\"parcoords\":[{\"type\":\"parcoords\",\"line\":{\"colorbar\":{\"outlinewidth\":0,\"ticks\":\"\"}}}],\"scatterpolargl\":[{\"type\":\"scatterpolargl\",\"marker\":{\"colorbar\":{\"outlinewidth\":0,\"ticks\":\"\"}}}],\"bar\":[{\"error_x\":{\"color\":\"#2a3f5f\"},\"error_y\":{\"color\":\"#2a3f5f\"},\"marker\":{\"line\":{\"color\":\"#E5ECF6\",\"width\":0.5},\"pattern\":{\"fillmode\":\"overlay\",\"size\":10,\"solidity\":0.2}},\"type\":\"bar\"}],\"scattergeo\":[{\"type\":\"scattergeo\",\"marker\":{\"colorbar\":{\"outlinewidth\":0,\"ticks\":\"\"}}}],\"scatterpolar\":[{\"type\":\"scatterpolar\",\"marker\":{\"colorbar\":{\"outlinewidth\":0,\"ticks\":\"\"}}}],\"histogram\":[{\"marker\":{\"pattern\":{\"fillmode\":\"overlay\",\"size\":10,\"solidity\":0.2}},\"type\":\"histogram\"}],\"scattergl\":[{\"type\":\"scattergl\",\"marker\":{\"colorbar\":{\"outlinewidth\":0,\"ticks\":\"\"}}}],\"scatter3d\":[{\"type\":\"scatter3d\",\"line\":{\"colorbar\":{\"outlinewidth\":0,\"ticks\":\"\"}},\"marker\":{\"colorbar\":{\"outlinewidth\":0,\"ticks\":\"\"}}}],\"scattermapbox\":[{\"type\":\"scattermapbox\",\"marker\":{\"colorbar\":{\"outlinewidth\":0,\"ticks\":\"\"}}}],\"scatterternary\":[{\"type\":\"scatterternary\",\"marker\":{\"colorbar\":{\"outlinewidth\":0,\"ticks\":\"\"}}}],\"scattercarpet\":[{\"type\":\"scattercarpet\",\"marker\":{\"colorbar\":{\"outlinewidth\":0,\"ticks\":\"\"}}}],\"carpet\":[{\"aaxis\":{\"endlinecolor\":\"#2a3f5f\",\"gridcolor\":\"white\",\"linecolor\":\"white\",\"minorgridcolor\":\"white\",\"startlinecolor\":\"#2a3f5f\"},\"baxis\":{\"endlinecolor\":\"#2a3f5f\",\"gridcolor\":\"white\",\"linecolor\":\"white\",\"minorgridcolor\":\"white\",\"startlinecolor\":\"#2a3f5f\"},\"type\":\"carpet\"}],\"table\":[{\"cells\":{\"fill\":{\"color\":\"#EBF0F8\"},\"line\":{\"color\":\"white\"}},\"header\":{\"fill\":{\"color\":\"#C8D4E3\"},\"line\":{\"color\":\"white\"}},\"type\":\"table\"}],\"barpolar\":[{\"marker\":{\"line\":{\"color\":\"#E5ECF6\",\"width\":0.5},\"pattern\":{\"fillmode\":\"overlay\",\"size\":10,\"solidity\":0.2}},\"type\":\"barpolar\"}],\"pie\":[{\"automargin\":true,\"type\":\"pie\"}]},\"layout\":{\"autotypenumbers\":\"strict\",\"colorway\":[\"#636efa\",\"#EF553B\",\"#00cc96\",\"#ab63fa\",\"#FFA15A\",\"#19d3f3\",\"#FF6692\",\"#B6E880\",\"#FF97FF\",\"#FECB52\"],\"font\":{\"color\":\"#2a3f5f\"},\"hovermode\":\"closest\",\"hoverlabel\":{\"align\":\"left\"},\"paper_bgcolor\":\"white\",\"plot_bgcolor\":\"#E5ECF6\",\"polar\":{\"bgcolor\":\"#E5ECF6\",\"angularaxis\":{\"gridcolor\":\"white\",\"linecolor\":\"white\",\"ticks\":\"\"},\"radialaxis\":{\"gridcolor\":\"white\",\"linecolor\":\"white\",\"ticks\":\"\"}},\"ternary\":{\"bgcolor\":\"#E5ECF6\",\"aaxis\":{\"gridcolor\":\"white\",\"linecolor\":\"white\",\"ticks\":\"\"},\"baxis\":{\"gridcolor\":\"white\",\"linecolor\":\"white\",\"ticks\":\"\"},\"caxis\":{\"gridcolor\":\"white\",\"linecolor\":\"white\",\"ticks\":\"\"}},\"coloraxis\":{\"colorbar\":{\"outlinewidth\":0,\"ticks\":\"\"}},\"colorscale\":{\"sequential\":[[0.0,\"#0d0887\"],[0.1111111111111111,\"#46039f\"],[0.2222222222222222,\"#7201a8\"],[0.3333333333333333,\"#9c179e\"],[0.4444444444444444,\"#bd3786\"],[0.5555555555555556,\"#d8576b\"],[0.6666666666666666,\"#ed7953\"],[0.7777777777777778,\"#fb9f3a\"],[0.8888888888888888,\"#fdca26\"],[1.0,\"#f0f921\"]],\"sequentialminus\":[[0.0,\"#0d0887\"],[0.1111111111111111,\"#46039f\"],[0.2222222222222222,\"#7201a8\"],[0.3333333333333333,\"#9c179e\"],[0.4444444444444444,\"#bd3786\"],[0.5555555555555556,\"#d8576b\"],[0.6666666666666666,\"#ed7953\"],[0.7777777777777778,\"#fb9f3a\"],[0.8888888888888888,\"#fdca26\"],[1.0,\"#f0f921\"]],\"diverging\":[[0,\"#8e0152\"],[0.1,\"#c51b7d\"],[0.2,\"#de77ae\"],[0.3,\"#f1b6da\"],[0.4,\"#fde0ef\"],[0.5,\"#f7f7f7\"],[0.6,\"#e6f5d0\"],[0.7,\"#b8e186\"],[0.8,\"#7fbc41\"],[0.9,\"#4d9221\"],[1,\"#276419\"]]},\"xaxis\":{\"gridcolor\":\"white\",\"linecolor\":\"white\",\"ticks\":\"\",\"title\":{\"standoff\":15},\"zerolinecolor\":\"white\",\"automargin\":true,\"zerolinewidth\":2},\"yaxis\":{\"gridcolor\":\"white\",\"linecolor\":\"white\",\"ticks\":\"\",\"title\":{\"standoff\":15},\"zerolinecolor\":\"white\",\"automargin\":true,\"zerolinewidth\":2},\"scene\":{\"xaxis\":{\"backgroundcolor\":\"#E5ECF6\",\"gridcolor\":\"white\",\"linecolor\":\"white\",\"showbackground\":true,\"ticks\":\"\",\"zerolinecolor\":\"white\",\"gridwidth\":2},\"yaxis\":{\"backgroundcolor\":\"#E5ECF6\",\"gridcolor\":\"white\",\"linecolor\":\"white\",\"showbackground\":true,\"ticks\":\"\",\"zerolinecolor\":\"white\",\"gridwidth\":2},\"zaxis\":{\"backgroundcolor\":\"#E5ECF6\",\"gridcolor\":\"white\",\"linecolor\":\"white\",\"showbackground\":true,\"ticks\":\"\",\"zerolinecolor\":\"white\",\"gridwidth\":2}},\"shapedefaults\":{\"line\":{\"color\":\"#2a3f5f\"}},\"annotationdefaults\":{\"arrowcolor\":\"#2a3f5f\",\"arrowhead\":0,\"arrowwidth\":1},\"geo\":{\"bgcolor\":\"white\",\"landcolor\":\"#E5ECF6\",\"subunitcolor\":\"white\",\"showland\":true,\"showlakes\":true,\"lakecolor\":\"white\"},\"title\":{\"x\":0.05},\"mapbox\":{\"style\":\"light\"}}},\"xaxis\":{\"anchor\":\"y\",\"domain\":[0.0,1.0],\"title\":{\"text\":\"humidity\"},\"showgrid\":false},\"yaxis\":{\"anchor\":\"x\",\"domain\":[0.0,1.0],\"title\":{\"text\":\"Values\"},\"showgrid\":false},\"legend\":{\"tracegroupgap\":0},\"title\":{\"text\":\"<b>HUMIDITY</b>\",\"font\":{\"size\":18},\"x\":0.5},\"boxmode\":\"group\"},                        {\"responsive\": true}                    ).then(function(){\n",
       "                            \n",
       "var gd = document.getElementById('d9b2917f-3618-4c92-8504-89886a7868af');\n",
       "var x = new MutationObserver(function (mutations, observer) {{\n",
       "        var display = window.getComputedStyle(gd).display;\n",
       "        if (!display || display === 'none') {{\n",
       "            console.log([gd, 'removed!']);\n",
       "            Plotly.purge(gd);\n",
       "            observer.disconnect();\n",
       "        }}\n",
       "}});\n",
       "\n",
       "// Listen for the removal of the full notebook cells\n",
       "var notebookContainer = gd.closest('#notebook-container');\n",
       "if (notebookContainer) {{\n",
       "    x.observe(notebookContainer, {childList: true});\n",
       "}}\n",
       "\n",
       "// Listen for the clearing of the current output cell\n",
       "var outputEl = gd.closest('.output');\n",
       "if (outputEl) {{\n",
       "    x.observe(outputEl, {childList: true});\n",
       "}}\n",
       "\n",
       "                        })                };                });            </script>        </div>"
      ]
     },
     "metadata": {},
     "output_type": "display_data"
    },
    {
     "data": {
      "application/vnd.plotly.v1+json": {
       "config": {
        "plotlyServerURL": "https://plot.ly"
       },
       "data": [
        {
         "alignmentgroup": "True",
         "hovertemplate": "cloud=%{x}<extra></extra>",
         "legendgroup": "",
         "marker": {
          "color": "skyblue",
          "line": {
           "color": "darkblue",
           "width": 1
          }
         },
         "name": "",
         "notched": false,
         "offsetgroup": "",
         "orientation": "h",
         "showlegend": false,
         "type": "box",
         "x": [
          12,
          3,
          13,
          4,
          0,
          19,
          5,
          13,
          1,
          41,
          7,
          11,
          0,
          27,
          1,
          1,
          42,
          0,
          3,
          2,
          7,
          37,
          0,
          3,
          2,
          7,
          37,
          0,
          8,
          22,
          45,
          0,
          4,
          9,
          49,
          3,
          1,
          39,
          18,
          31,
          22,
          2,
          2,
          46,
          1,
          0,
          5,
          33,
          21,
          0,
          9,
          19,
          23,
          4,
          33,
          29,
          17,
          21,
          3,
          28,
          4,
          26,
          33,
          46,
          47,
          7,
          5,
          12,
          15,
          10,
          34,
          21,
          34,
          14,
          47,
          11,
          5,
          6,
          52,
          4,
          4,
          19,
          14,
          4,
          11,
          11,
          46,
          10,
          1,
          16,
          7,
          25,
          22,
          4,
          2,
          36,
          7,
          48,
          9,
          19,
          22,
          2,
          28,
          30,
          34,
          0,
          9,
          2,
          4,
          0,
          28,
          0,
          20,
          13,
          4,
          7,
          10,
          29,
          35,
          8,
          26,
          34,
          7,
          17,
          47,
          5,
          10,
          4,
          31,
          0,
          34,
          4,
          17,
          27,
          17,
          46,
          11,
          22,
          14,
          14,
          29,
          1,
          4,
          13,
          27,
          22,
          30,
          4,
          27,
          35,
          33,
          24,
          15,
          15,
          21,
          47,
          38,
          18,
          19,
          47,
          38,
          1,
          15,
          15,
          0,
          0,
          7,
          2,
          0,
          3,
          31,
          4,
          1,
          40,
          10,
          38,
          1,
          1,
          40,
          47,
          34,
          34,
          21,
          32,
          18,
          27,
          37,
          9,
          51,
          2,
          39,
          2,
          20,
          22,
          12,
          17,
          25,
          45,
          22,
          4,
          19,
          49,
          11,
          3,
          7,
          22,
          41,
          9,
          41,
          19,
          14,
          46,
          24,
          14,
          42,
          18,
          27,
          7,
          27,
          20,
          51,
          38,
          29,
          44,
          35,
          21,
          10,
          31,
          17,
          34,
          26,
          13,
          10,
          28,
          47,
          30,
          34,
          17,
          27,
          34,
          8,
          18,
          3,
          19,
          16,
          22,
          24,
          27,
          10,
          38,
          25,
          2,
          12,
          7,
          0,
          36,
          32,
          42,
          4,
          0,
          12,
          20,
          29,
          0,
          32,
          3,
          5,
          16,
          6,
          9,
          23,
          8,
          22,
          1,
          1,
          6,
          7,
          12,
          2,
          7,
          2,
          11,
          14,
          27,
          14,
          9,
          7,
          26,
          15,
          6,
          7,
          40,
          6,
          5,
          28,
          15,
          5,
          16,
          1,
          29,
          24,
          7,
          15,
          1,
          28,
          17,
          13,
          27,
          6,
          20,
          11,
          20,
          20,
          1,
          9,
          28,
          12,
          2,
          42,
          8,
          21,
          1,
          0,
          14,
          5,
          11,
          10,
          3,
          26,
          25,
          4,
          7,
          16,
          49,
          6,
          5,
          11,
          35,
          3,
          45,
          2,
          10,
          5,
          8,
          17,
          31,
          26,
          4,
          17,
          32,
          15,
          34,
          12,
          10,
          9,
          44,
          16,
          12,
          14,
          12,
          7,
          5,
          9,
          8,
          7,
          14,
          8,
          16,
          18,
          12,
          24,
          12,
          22,
          11,
          33,
          18,
          19,
          13,
          7,
          11,
          6,
          5,
          30,
          2,
          2,
          17,
          5,
          19,
          5,
          1,
          38,
          2,
          21,
          15,
          12,
          41,
          14,
          1,
          20,
          22,
          43,
          16,
          17,
          17,
          18,
          22,
          12,
          29,
          17,
          18,
          8,
          7,
          41,
          27,
          23,
          18,
          22,
          23,
          31,
          6,
          11,
          9,
          12,
          10,
          7,
          12,
          0,
          5,
          27,
          6,
          25,
          5,
          4,
          21,
          9,
          35,
          24,
          30,
          12,
          6,
          4,
          25,
          37,
          22,
          6,
          7,
          15,
          16,
          4,
          2,
          19,
          30,
          2,
          17,
          5,
          8,
          40,
          6,
          7,
          8,
          14,
          36,
          14,
          13,
          17,
          7,
          19,
          1,
          13,
          2,
          22,
          12,
          8,
          3,
          0,
          28,
          10,
          3,
          1,
          0,
          14,
          11,
          7,
          1,
          0,
          22,
          18,
          25,
          13,
          0,
          33,
          20,
          16,
          22,
          0,
          16,
          19,
          8,
          17,
          3,
          34,
          14,
          13,
          5,
          9,
          22,
          8,
          3,
          19,
          13,
          8,
          2,
          20,
          14,
          3,
          12,
          22,
          22,
          1,
          1,
          9,
          1,
          2,
          20,
          14,
          23,
          5,
          1,
          29,
          27,
          29,
          12,
          14,
          9,
          20,
          13,
          13,
          4,
          10,
          32,
          2,
          11,
          15,
          22,
          2,
          3,
          11,
          6,
          6,
          10,
          2,
          8,
          11,
          2,
          12,
          23,
          1,
          3,
          7,
          34,
          0,
          4,
          10,
          26,
          3,
          9,
          2,
          8,
          12,
          4,
          1,
          0,
          10,
          2,
          7,
          0,
          11,
          5,
          0,
          16,
          0,
          0,
          6,
          0,
          0,
          13,
          0,
          0,
          16,
          1,
          5,
          0,
          10,
          5,
          0,
          2,
          3,
          0,
          1,
          5,
          22,
          3,
          21,
          3,
          11,
          0,
          6,
          2,
          1,
          6,
          4,
          12,
          1,
          6,
          11,
          5,
          15,
          0,
          10,
          24,
          4,
          19,
          0,
          4,
          12,
          8,
          5,
          2,
          4,
          3,
          7,
          5,
          4,
          7,
          0,
          13,
          26,
          6,
          14,
          1,
          12,
          23,
          22,
          19,
          3,
          12,
          15,
          18,
          16,
          1,
          12,
          15,
          21,
          23,
          5,
          9,
          14,
          10,
          19,
          5,
          3,
          10,
          13,
          5,
          6,
          8,
          12,
          16,
          6,
          17,
          16,
          16,
          6,
          8,
          12,
          23,
          11,
          11,
          4,
          5,
          17,
          26,
          20,
          5,
          2,
          14,
          12,
          25,
          4,
          4,
          9,
          8,
          26,
          10,
          5,
          10,
          7,
          17,
          10,
          9,
          9,
          5,
          22,
          11,
          6,
          7,
          29,
          10,
          22,
          4,
          30,
          43,
          8,
          6,
          18,
          2,
          32,
          14,
          20,
          27,
          0,
          34,
          30,
          19,
          0,
          31,
          26,
          13,
          30,
          4,
          28,
          6,
          31,
          13,
          23,
          11,
          35,
          15,
          38,
          29,
          20,
          32,
          16,
          25,
          31,
          22,
          32,
          12,
          21,
          24,
          27,
          24,
          10,
          33,
          1,
          29,
          27,
          10,
          33,
          1
         ],
         "x0": " ",
         "xaxis": "x",
         "y0": " ",
         "yaxis": "y"
        }
       ],
       "layout": {
        "boxmode": "group",
        "legend": {
         "tracegroupgap": 0
        },
        "template": {
         "data": {
          "bar": [
           {
            "error_x": {
             "color": "#2a3f5f"
            },
            "error_y": {
             "color": "#2a3f5f"
            },
            "marker": {
             "line": {
              "color": "#E5ECF6",
              "width": 0.5
             },
             "pattern": {
              "fillmode": "overlay",
              "size": 10,
              "solidity": 0.2
             }
            },
            "type": "bar"
           }
          ],
          "barpolar": [
           {
            "marker": {
             "line": {
              "color": "#E5ECF6",
              "width": 0.5
             },
             "pattern": {
              "fillmode": "overlay",
              "size": 10,
              "solidity": 0.2
             }
            },
            "type": "barpolar"
           }
          ],
          "carpet": [
           {
            "aaxis": {
             "endlinecolor": "#2a3f5f",
             "gridcolor": "white",
             "linecolor": "white",
             "minorgridcolor": "white",
             "startlinecolor": "#2a3f5f"
            },
            "baxis": {
             "endlinecolor": "#2a3f5f",
             "gridcolor": "white",
             "linecolor": "white",
             "minorgridcolor": "white",
             "startlinecolor": "#2a3f5f"
            },
            "type": "carpet"
           }
          ],
          "choropleth": [
           {
            "colorbar": {
             "outlinewidth": 0,
             "ticks": ""
            },
            "type": "choropleth"
           }
          ],
          "contour": [
           {
            "colorbar": {
             "outlinewidth": 0,
             "ticks": ""
            },
            "colorscale": [
             [
              0,
              "#0d0887"
             ],
             [
              0.1111111111111111,
              "#46039f"
             ],
             [
              0.2222222222222222,
              "#7201a8"
             ],
             [
              0.3333333333333333,
              "#9c179e"
             ],
             [
              0.4444444444444444,
              "#bd3786"
             ],
             [
              0.5555555555555556,
              "#d8576b"
             ],
             [
              0.6666666666666666,
              "#ed7953"
             ],
             [
              0.7777777777777778,
              "#fb9f3a"
             ],
             [
              0.8888888888888888,
              "#fdca26"
             ],
             [
              1,
              "#f0f921"
             ]
            ],
            "type": "contour"
           }
          ],
          "contourcarpet": [
           {
            "colorbar": {
             "outlinewidth": 0,
             "ticks": ""
            },
            "type": "contourcarpet"
           }
          ],
          "heatmap": [
           {
            "colorbar": {
             "outlinewidth": 0,
             "ticks": ""
            },
            "colorscale": [
             [
              0,
              "#0d0887"
             ],
             [
              0.1111111111111111,
              "#46039f"
             ],
             [
              0.2222222222222222,
              "#7201a8"
             ],
             [
              0.3333333333333333,
              "#9c179e"
             ],
             [
              0.4444444444444444,
              "#bd3786"
             ],
             [
              0.5555555555555556,
              "#d8576b"
             ],
             [
              0.6666666666666666,
              "#ed7953"
             ],
             [
              0.7777777777777778,
              "#fb9f3a"
             ],
             [
              0.8888888888888888,
              "#fdca26"
             ],
             [
              1,
              "#f0f921"
             ]
            ],
            "type": "heatmap"
           }
          ],
          "heatmapgl": [
           {
            "colorbar": {
             "outlinewidth": 0,
             "ticks": ""
            },
            "colorscale": [
             [
              0,
              "#0d0887"
             ],
             [
              0.1111111111111111,
              "#46039f"
             ],
             [
              0.2222222222222222,
              "#7201a8"
             ],
             [
              0.3333333333333333,
              "#9c179e"
             ],
             [
              0.4444444444444444,
              "#bd3786"
             ],
             [
              0.5555555555555556,
              "#d8576b"
             ],
             [
              0.6666666666666666,
              "#ed7953"
             ],
             [
              0.7777777777777778,
              "#fb9f3a"
             ],
             [
              0.8888888888888888,
              "#fdca26"
             ],
             [
              1,
              "#f0f921"
             ]
            ],
            "type": "heatmapgl"
           }
          ],
          "histogram": [
           {
            "marker": {
             "pattern": {
              "fillmode": "overlay",
              "size": 10,
              "solidity": 0.2
             }
            },
            "type": "histogram"
           }
          ],
          "histogram2d": [
           {
            "colorbar": {
             "outlinewidth": 0,
             "ticks": ""
            },
            "colorscale": [
             [
              0,
              "#0d0887"
             ],
             [
              0.1111111111111111,
              "#46039f"
             ],
             [
              0.2222222222222222,
              "#7201a8"
             ],
             [
              0.3333333333333333,
              "#9c179e"
             ],
             [
              0.4444444444444444,
              "#bd3786"
             ],
             [
              0.5555555555555556,
              "#d8576b"
             ],
             [
              0.6666666666666666,
              "#ed7953"
             ],
             [
              0.7777777777777778,
              "#fb9f3a"
             ],
             [
              0.8888888888888888,
              "#fdca26"
             ],
             [
              1,
              "#f0f921"
             ]
            ],
            "type": "histogram2d"
           }
          ],
          "histogram2dcontour": [
           {
            "colorbar": {
             "outlinewidth": 0,
             "ticks": ""
            },
            "colorscale": [
             [
              0,
              "#0d0887"
             ],
             [
              0.1111111111111111,
              "#46039f"
             ],
             [
              0.2222222222222222,
              "#7201a8"
             ],
             [
              0.3333333333333333,
              "#9c179e"
             ],
             [
              0.4444444444444444,
              "#bd3786"
             ],
             [
              0.5555555555555556,
              "#d8576b"
             ],
             [
              0.6666666666666666,
              "#ed7953"
             ],
             [
              0.7777777777777778,
              "#fb9f3a"
             ],
             [
              0.8888888888888888,
              "#fdca26"
             ],
             [
              1,
              "#f0f921"
             ]
            ],
            "type": "histogram2dcontour"
           }
          ],
          "mesh3d": [
           {
            "colorbar": {
             "outlinewidth": 0,
             "ticks": ""
            },
            "type": "mesh3d"
           }
          ],
          "parcoords": [
           {
            "line": {
             "colorbar": {
              "outlinewidth": 0,
              "ticks": ""
             }
            },
            "type": "parcoords"
           }
          ],
          "pie": [
           {
            "automargin": true,
            "type": "pie"
           }
          ],
          "scatter": [
           {
            "fillpattern": {
             "fillmode": "overlay",
             "size": 10,
             "solidity": 0.2
            },
            "type": "scatter"
           }
          ],
          "scatter3d": [
           {
            "line": {
             "colorbar": {
              "outlinewidth": 0,
              "ticks": ""
             }
            },
            "marker": {
             "colorbar": {
              "outlinewidth": 0,
              "ticks": ""
             }
            },
            "type": "scatter3d"
           }
          ],
          "scattercarpet": [
           {
            "marker": {
             "colorbar": {
              "outlinewidth": 0,
              "ticks": ""
             }
            },
            "type": "scattercarpet"
           }
          ],
          "scattergeo": [
           {
            "marker": {
             "colorbar": {
              "outlinewidth": 0,
              "ticks": ""
             }
            },
            "type": "scattergeo"
           }
          ],
          "scattergl": [
           {
            "marker": {
             "colorbar": {
              "outlinewidth": 0,
              "ticks": ""
             }
            },
            "type": "scattergl"
           }
          ],
          "scattermapbox": [
           {
            "marker": {
             "colorbar": {
              "outlinewidth": 0,
              "ticks": ""
             }
            },
            "type": "scattermapbox"
           }
          ],
          "scatterpolar": [
           {
            "marker": {
             "colorbar": {
              "outlinewidth": 0,
              "ticks": ""
             }
            },
            "type": "scatterpolar"
           }
          ],
          "scatterpolargl": [
           {
            "marker": {
             "colorbar": {
              "outlinewidth": 0,
              "ticks": ""
             }
            },
            "type": "scatterpolargl"
           }
          ],
          "scatterternary": [
           {
            "marker": {
             "colorbar": {
              "outlinewidth": 0,
              "ticks": ""
             }
            },
            "type": "scatterternary"
           }
          ],
          "surface": [
           {
            "colorbar": {
             "outlinewidth": 0,
             "ticks": ""
            },
            "colorscale": [
             [
              0,
              "#0d0887"
             ],
             [
              0.1111111111111111,
              "#46039f"
             ],
             [
              0.2222222222222222,
              "#7201a8"
             ],
             [
              0.3333333333333333,
              "#9c179e"
             ],
             [
              0.4444444444444444,
              "#bd3786"
             ],
             [
              0.5555555555555556,
              "#d8576b"
             ],
             [
              0.6666666666666666,
              "#ed7953"
             ],
             [
              0.7777777777777778,
              "#fb9f3a"
             ],
             [
              0.8888888888888888,
              "#fdca26"
             ],
             [
              1,
              "#f0f921"
             ]
            ],
            "type": "surface"
           }
          ],
          "table": [
           {
            "cells": {
             "fill": {
              "color": "#EBF0F8"
             },
             "line": {
              "color": "white"
             }
            },
            "header": {
             "fill": {
              "color": "#C8D4E3"
             },
             "line": {
              "color": "white"
             }
            },
            "type": "table"
           }
          ]
         },
         "layout": {
          "annotationdefaults": {
           "arrowcolor": "#2a3f5f",
           "arrowhead": 0,
           "arrowwidth": 1
          },
          "autotypenumbers": "strict",
          "coloraxis": {
           "colorbar": {
            "outlinewidth": 0,
            "ticks": ""
           }
          },
          "colorscale": {
           "diverging": [
            [
             0,
             "#8e0152"
            ],
            [
             0.1,
             "#c51b7d"
            ],
            [
             0.2,
             "#de77ae"
            ],
            [
             0.3,
             "#f1b6da"
            ],
            [
             0.4,
             "#fde0ef"
            ],
            [
             0.5,
             "#f7f7f7"
            ],
            [
             0.6,
             "#e6f5d0"
            ],
            [
             0.7,
             "#b8e186"
            ],
            [
             0.8,
             "#7fbc41"
            ],
            [
             0.9,
             "#4d9221"
            ],
            [
             1,
             "#276419"
            ]
           ],
           "sequential": [
            [
             0,
             "#0d0887"
            ],
            [
             0.1111111111111111,
             "#46039f"
            ],
            [
             0.2222222222222222,
             "#7201a8"
            ],
            [
             0.3333333333333333,
             "#9c179e"
            ],
            [
             0.4444444444444444,
             "#bd3786"
            ],
            [
             0.5555555555555556,
             "#d8576b"
            ],
            [
             0.6666666666666666,
             "#ed7953"
            ],
            [
             0.7777777777777778,
             "#fb9f3a"
            ],
            [
             0.8888888888888888,
             "#fdca26"
            ],
            [
             1,
             "#f0f921"
            ]
           ],
           "sequentialminus": [
            [
             0,
             "#0d0887"
            ],
            [
             0.1111111111111111,
             "#46039f"
            ],
            [
             0.2222222222222222,
             "#7201a8"
            ],
            [
             0.3333333333333333,
             "#9c179e"
            ],
            [
             0.4444444444444444,
             "#bd3786"
            ],
            [
             0.5555555555555556,
             "#d8576b"
            ],
            [
             0.6666666666666666,
             "#ed7953"
            ],
            [
             0.7777777777777778,
             "#fb9f3a"
            ],
            [
             0.8888888888888888,
             "#fdca26"
            ],
            [
             1,
             "#f0f921"
            ]
           ]
          },
          "colorway": [
           "#636efa",
           "#EF553B",
           "#00cc96",
           "#ab63fa",
           "#FFA15A",
           "#19d3f3",
           "#FF6692",
           "#B6E880",
           "#FF97FF",
           "#FECB52"
          ],
          "font": {
           "color": "#2a3f5f"
          },
          "geo": {
           "bgcolor": "white",
           "lakecolor": "white",
           "landcolor": "#E5ECF6",
           "showlakes": true,
           "showland": true,
           "subunitcolor": "white"
          },
          "hoverlabel": {
           "align": "left"
          },
          "hovermode": "closest",
          "mapbox": {
           "style": "light"
          },
          "paper_bgcolor": "white",
          "plot_bgcolor": "#E5ECF6",
          "polar": {
           "angularaxis": {
            "gridcolor": "white",
            "linecolor": "white",
            "ticks": ""
           },
           "bgcolor": "#E5ECF6",
           "radialaxis": {
            "gridcolor": "white",
            "linecolor": "white",
            "ticks": ""
           }
          },
          "scene": {
           "xaxis": {
            "backgroundcolor": "#E5ECF6",
            "gridcolor": "white",
            "gridwidth": 2,
            "linecolor": "white",
            "showbackground": true,
            "ticks": "",
            "zerolinecolor": "white"
           },
           "yaxis": {
            "backgroundcolor": "#E5ECF6",
            "gridcolor": "white",
            "gridwidth": 2,
            "linecolor": "white",
            "showbackground": true,
            "ticks": "",
            "zerolinecolor": "white"
           },
           "zaxis": {
            "backgroundcolor": "#E5ECF6",
            "gridcolor": "white",
            "gridwidth": 2,
            "linecolor": "white",
            "showbackground": true,
            "ticks": "",
            "zerolinecolor": "white"
           }
          },
          "shapedefaults": {
           "line": {
            "color": "#2a3f5f"
           }
          },
          "ternary": {
           "aaxis": {
            "gridcolor": "white",
            "linecolor": "white",
            "ticks": ""
           },
           "baxis": {
            "gridcolor": "white",
            "linecolor": "white",
            "ticks": ""
           },
           "bgcolor": "#E5ECF6",
           "caxis": {
            "gridcolor": "white",
            "linecolor": "white",
            "ticks": ""
           }
          },
          "title": {
           "x": 0.05
          },
          "xaxis": {
           "automargin": true,
           "gridcolor": "white",
           "linecolor": "white",
           "ticks": "",
           "title": {
            "standoff": 15
           },
           "zerolinecolor": "white",
           "zerolinewidth": 2
          },
          "yaxis": {
           "automargin": true,
           "gridcolor": "white",
           "linecolor": "white",
           "ticks": "",
           "title": {
            "standoff": 15
           },
           "zerolinecolor": "white",
           "zerolinewidth": 2
          }
         }
        },
        "title": {
         "font": {
          "size": 18
         },
         "text": "<b>CLOUD</b>",
         "x": 0.5
        },
        "xaxis": {
         "anchor": "y",
         "domain": [
          0,
          1
         ],
         "showgrid": false,
         "title": {
          "text": "cloud"
         }
        },
        "yaxis": {
         "anchor": "x",
         "domain": [
          0,
          1
         ],
         "showgrid": false,
         "title": {
          "text": "Values"
         }
        }
       }
      },
      "text/html": [
       "<div>                            <div id=\"f781d26e-00bf-41ed-9d4e-a1a3339d7066\" class=\"plotly-graph-div\" style=\"height:525px; width:100%;\"></div>            <script type=\"text/javascript\">                require([\"plotly\"], function(Plotly) {                    window.PLOTLYENV=window.PLOTLYENV || {};                                    if (document.getElementById(\"f781d26e-00bf-41ed-9d4e-a1a3339d7066\")) {                    Plotly.newPlot(                        \"f781d26e-00bf-41ed-9d4e-a1a3339d7066\",                        [{\"alignmentgroup\":\"True\",\"hovertemplate\":\"cloud=%{x}<extra></extra>\",\"legendgroup\":\"\",\"marker\":{\"color\":\"skyblue\",\"line\":{\"color\":\"darkblue\",\"width\":1}},\"name\":\"\",\"notched\":false,\"offsetgroup\":\"\",\"orientation\":\"h\",\"showlegend\":false,\"x\":[12.0,3.0,13.0,4.0,0.0,19.0,5.0,13.0,1.0,41.0,7.0,11.0,0.0,27.0,1.0,1.0,42.0,0.0,3.0,2.0,7.0,37.0,0.0,3.0,2.0,7.0,37.0,0.0,8.0,22.0,45.0,0.0,4.0,9.0,49.0,3.0,1.0,39.0,18.0,31.0,22.0,2.0,2.0,46.0,1.0,0.0,5.0,33.0,21.0,0.0,9.0,19.0,23.0,4.0,33.0,29.0,17.0,21.0,3.0,28.0,4.0,26.0,33.0,46.0,47.0,7.0,5.0,12.0,15.0,10.0,34.0,21.0,34.0,14.0,47.0,11.0,5.0,6.0,52.0,4.0,4.0,19.0,14.0,4.0,11.0,11.0,46.0,10.0,1.0,16.0,7.0,25.0,22.0,4.0,2.0,36.0,7.0,48.0,9.0,19.0,22.0,2.0,28.0,30.0,34.0,0.0,9.0,2.0,4.0,0.0,28.0,0.0,20.0,13.0,4.0,7.0,10.0,29.0,35.0,8.0,26.0,34.0,7.0,17.0,47.0,5.0,10.0,4.0,31.0,0.0,34.0,4.0,17.0,27.0,17.0,46.0,11.0,22.0,14.0,14.0,29.0,1.0,4.0,13.0,27.0,22.0,30.0,4.0,27.0,35.0,33.0,24.0,15.0,15.0,21.0,47.0,38.0,18.0,19.0,47.0,38.0,1.0,15.0,15.0,0.0,0.0,7.0,2.0,0.0,3.0,31.0,4.0,1.0,40.0,10.0,38.0,1.0,1.0,40.0,47.0,34.0,34.0,21.0,32.0,18.0,27.0,37.0,9.0,51.0,2.0,39.0,2.0,20.0,22.0,12.0,17.0,25.0,45.0,22.0,4.0,19.0,49.0,11.0,3.0,7.0,22.0,41.0,9.0,41.0,19.0,14.0,46.0,24.0,14.0,42.0,18.0,27.0,7.0,27.0,20.0,51.0,38.0,29.0,44.0,35.0,21.0,10.0,31.0,17.0,34.0,26.0,13.0,10.0,28.0,47.0,30.0,34.0,17.0,27.0,34.0,8.0,18.0,3.0,19.0,16.0,22.0,24.0,27.0,10.0,38.0,25.0,2.0,12.0,7.0,0.0,36.0,32.0,42.0,4.0,0.0,12.0,20.0,29.0,0.0,32.0,3.0,5.0,16.0,6.0,9.0,23.0,8.0,22.0,1.0,1.0,6.0,7.0,12.0,2.0,7.0,2.0,11.0,14.0,27.0,14.0,9.0,7.0,26.0,15.0,6.0,7.0,40.0,6.0,5.0,28.0,15.0,5.0,16.0,1.0,29.0,24.0,7.0,15.0,1.0,28.0,17.0,13.0,27.0,6.0,20.0,11.0,20.0,20.0,1.0,9.0,28.0,12.0,2.0,42.0,8.0,21.0,1.0,0.0,14.0,5.0,11.0,10.0,3.0,26.0,25.0,4.0,7.0,16.0,49.0,6.0,5.0,11.0,35.0,3.0,45.0,2.0,10.0,5.0,8.0,17.0,31.0,26.0,4.0,17.0,32.0,15.0,34.0,12.0,10.0,9.0,44.0,16.0,12.0,14.0,12.0,7.0,5.0,9.0,8.0,7.0,14.0,8.0,16.0,18.0,12.0,24.0,12.0,22.0,11.0,33.0,18.0,19.0,13.0,7.0,11.0,6.0,5.0,30.0,2.0,2.0,17.0,5.0,19.0,5.0,1.0,38.0,2.0,21.0,15.0,12.0,41.0,14.0,1.0,20.0,22.0,43.0,16.0,17.0,17.0,18.0,22.0,12.0,29.0,17.0,18.0,8.0,7.0,41.0,27.0,23.0,18.0,22.0,23.0,31.0,6.0,11.0,9.0,12.0,10.0,7.0,12.0,0.0,5.0,27.0,6.0,25.0,5.0,4.0,21.0,9.0,35.0,24.0,30.0,12.0,6.0,4.0,25.0,37.0,22.0,6.0,7.0,15.0,16.0,4.0,2.0,19.0,30.0,2.0,17.0,5.0,8.0,40.0,6.0,7.0,8.0,14.0,36.0,14.0,13.0,17.0,7.0,19.0,1.0,13.0,2.0,22.0,12.0,8.0,3.0,0.0,28.0,10.0,3.0,1.0,0.0,14.0,11.0,7.0,1.0,0.0,22.0,18.0,25.0,13.0,0.0,33.0,20.0,16.0,22.0,0.0,16.0,19.0,8.0,17.0,3.0,34.0,14.0,13.0,5.0,9.0,22.0,8.0,3.0,19.0,13.0,8.0,2.0,20.0,14.0,3.0,12.0,22.0,22.0,1.0,1.0,9.0,1.0,2.0,20.0,14.0,23.0,5.0,1.0,29.0,27.0,29.0,12.0,14.0,9.0,20.0,13.0,13.0,4.0,10.0,32.0,2.0,11.0,15.0,22.0,2.0,3.0,11.0,6.0,6.0,10.0,2.0,8.0,11.0,2.0,12.0,23.0,1.0,3.0,7.0,34.0,0.0,4.0,10.0,26.0,3.0,9.0,2.0,8.0,12.0,4.0,1.0,0.0,10.0,2.0,7.0,0.0,11.0,5.0,0.0,16.0,0.0,0.0,6.0,0.0,0.0,13.0,0.0,0.0,16.0,1.0,5.0,0.0,10.0,5.0,0.0,2.0,3.0,0.0,1.0,5.0,22.0,3.0,21.0,3.0,11.0,0.0,6.0,2.0,1.0,6.0,4.0,12.0,1.0,6.0,11.0,5.0,15.0,0.0,10.0,24.0,4.0,19.0,0.0,4.0,12.0,8.0,5.0,2.0,4.0,3.0,7.0,5.0,4.0,7.0,0.0,13.0,26.0,6.0,14.0,1.0,12.0,23.0,22.0,19.0,3.0,12.0,15.0,18.0,16.0,1.0,12.0,15.0,21.0,23.0,5.0,9.0,14.0,10.0,19.0,5.0,3.0,10.0,13.0,5.0,6.0,8.0,12.0,16.0,6.0,17.0,16.0,16.0,6.0,8.0,12.0,23.0,11.0,11.0,4.0,5.0,17.0,26.0,20.0,5.0,2.0,14.0,12.0,25.0,4.0,4.0,9.0,8.0,26.0,10.0,5.0,10.0,7.0,17.0,10.0,9.0,9.0,5.0,22.0,11.0,6.0,7.0,29.0,10.0,22.0,4.0,30.0,43.0,8.0,6.0,18.0,2.0,32.0,14.0,20.0,27.0,0.0,34.0,30.0,19.0,0.0,31.0,26.0,13.0,30.0,4.0,28.0,6.0,31.0,13.0,23.0,11.0,35.0,15.0,38.0,29.0,20.0,32.0,16.0,25.0,31.0,22.0,32.0,12.0,21.0,24.0,27.0,24.0,10.0,33.0,1.0,29.0,27.0,10.0,33.0,1.0],\"x0\":\" \",\"xaxis\":\"x\",\"y0\":\" \",\"yaxis\":\"y\",\"type\":\"box\"}],                        {\"template\":{\"data\":{\"histogram2dcontour\":[{\"type\":\"histogram2dcontour\",\"colorbar\":{\"outlinewidth\":0,\"ticks\":\"\"},\"colorscale\":[[0.0,\"#0d0887\"],[0.1111111111111111,\"#46039f\"],[0.2222222222222222,\"#7201a8\"],[0.3333333333333333,\"#9c179e\"],[0.4444444444444444,\"#bd3786\"],[0.5555555555555556,\"#d8576b\"],[0.6666666666666666,\"#ed7953\"],[0.7777777777777778,\"#fb9f3a\"],[0.8888888888888888,\"#fdca26\"],[1.0,\"#f0f921\"]]}],\"choropleth\":[{\"type\":\"choropleth\",\"colorbar\":{\"outlinewidth\":0,\"ticks\":\"\"}}],\"histogram2d\":[{\"type\":\"histogram2d\",\"colorbar\":{\"outlinewidth\":0,\"ticks\":\"\"},\"colorscale\":[[0.0,\"#0d0887\"],[0.1111111111111111,\"#46039f\"],[0.2222222222222222,\"#7201a8\"],[0.3333333333333333,\"#9c179e\"],[0.4444444444444444,\"#bd3786\"],[0.5555555555555556,\"#d8576b\"],[0.6666666666666666,\"#ed7953\"],[0.7777777777777778,\"#fb9f3a\"],[0.8888888888888888,\"#fdca26\"],[1.0,\"#f0f921\"]]}],\"heatmap\":[{\"type\":\"heatmap\",\"colorbar\":{\"outlinewidth\":0,\"ticks\":\"\"},\"colorscale\":[[0.0,\"#0d0887\"],[0.1111111111111111,\"#46039f\"],[0.2222222222222222,\"#7201a8\"],[0.3333333333333333,\"#9c179e\"],[0.4444444444444444,\"#bd3786\"],[0.5555555555555556,\"#d8576b\"],[0.6666666666666666,\"#ed7953\"],[0.7777777777777778,\"#fb9f3a\"],[0.8888888888888888,\"#fdca26\"],[1.0,\"#f0f921\"]]}],\"heatmapgl\":[{\"type\":\"heatmapgl\",\"colorbar\":{\"outlinewidth\":0,\"ticks\":\"\"},\"colorscale\":[[0.0,\"#0d0887\"],[0.1111111111111111,\"#46039f\"],[0.2222222222222222,\"#7201a8\"],[0.3333333333333333,\"#9c179e\"],[0.4444444444444444,\"#bd3786\"],[0.5555555555555556,\"#d8576b\"],[0.6666666666666666,\"#ed7953\"],[0.7777777777777778,\"#fb9f3a\"],[0.8888888888888888,\"#fdca26\"],[1.0,\"#f0f921\"]]}],\"contourcarpet\":[{\"type\":\"contourcarpet\",\"colorbar\":{\"outlinewidth\":0,\"ticks\":\"\"}}],\"contour\":[{\"type\":\"contour\",\"colorbar\":{\"outlinewidth\":0,\"ticks\":\"\"},\"colorscale\":[[0.0,\"#0d0887\"],[0.1111111111111111,\"#46039f\"],[0.2222222222222222,\"#7201a8\"],[0.3333333333333333,\"#9c179e\"],[0.4444444444444444,\"#bd3786\"],[0.5555555555555556,\"#d8576b\"],[0.6666666666666666,\"#ed7953\"],[0.7777777777777778,\"#fb9f3a\"],[0.8888888888888888,\"#fdca26\"],[1.0,\"#f0f921\"]]}],\"surface\":[{\"type\":\"surface\",\"colorbar\":{\"outlinewidth\":0,\"ticks\":\"\"},\"colorscale\":[[0.0,\"#0d0887\"],[0.1111111111111111,\"#46039f\"],[0.2222222222222222,\"#7201a8\"],[0.3333333333333333,\"#9c179e\"],[0.4444444444444444,\"#bd3786\"],[0.5555555555555556,\"#d8576b\"],[0.6666666666666666,\"#ed7953\"],[0.7777777777777778,\"#fb9f3a\"],[0.8888888888888888,\"#fdca26\"],[1.0,\"#f0f921\"]]}],\"mesh3d\":[{\"type\":\"mesh3d\",\"colorbar\":{\"outlinewidth\":0,\"ticks\":\"\"}}],\"scatter\":[{\"fillpattern\":{\"fillmode\":\"overlay\",\"size\":10,\"solidity\":0.2},\"type\":\"scatter\"}],\"parcoords\":[{\"type\":\"parcoords\",\"line\":{\"colorbar\":{\"outlinewidth\":0,\"ticks\":\"\"}}}],\"scatterpolargl\":[{\"type\":\"scatterpolargl\",\"marker\":{\"colorbar\":{\"outlinewidth\":0,\"ticks\":\"\"}}}],\"bar\":[{\"error_x\":{\"color\":\"#2a3f5f\"},\"error_y\":{\"color\":\"#2a3f5f\"},\"marker\":{\"line\":{\"color\":\"#E5ECF6\",\"width\":0.5},\"pattern\":{\"fillmode\":\"overlay\",\"size\":10,\"solidity\":0.2}},\"type\":\"bar\"}],\"scattergeo\":[{\"type\":\"scattergeo\",\"marker\":{\"colorbar\":{\"outlinewidth\":0,\"ticks\":\"\"}}}],\"scatterpolar\":[{\"type\":\"scatterpolar\",\"marker\":{\"colorbar\":{\"outlinewidth\":0,\"ticks\":\"\"}}}],\"histogram\":[{\"marker\":{\"pattern\":{\"fillmode\":\"overlay\",\"size\":10,\"solidity\":0.2}},\"type\":\"histogram\"}],\"scattergl\":[{\"type\":\"scattergl\",\"marker\":{\"colorbar\":{\"outlinewidth\":0,\"ticks\":\"\"}}}],\"scatter3d\":[{\"type\":\"scatter3d\",\"line\":{\"colorbar\":{\"outlinewidth\":0,\"ticks\":\"\"}},\"marker\":{\"colorbar\":{\"outlinewidth\":0,\"ticks\":\"\"}}}],\"scattermapbox\":[{\"type\":\"scattermapbox\",\"marker\":{\"colorbar\":{\"outlinewidth\":0,\"ticks\":\"\"}}}],\"scatterternary\":[{\"type\":\"scatterternary\",\"marker\":{\"colorbar\":{\"outlinewidth\":0,\"ticks\":\"\"}}}],\"scattercarpet\":[{\"type\":\"scattercarpet\",\"marker\":{\"colorbar\":{\"outlinewidth\":0,\"ticks\":\"\"}}}],\"carpet\":[{\"aaxis\":{\"endlinecolor\":\"#2a3f5f\",\"gridcolor\":\"white\",\"linecolor\":\"white\",\"minorgridcolor\":\"white\",\"startlinecolor\":\"#2a3f5f\"},\"baxis\":{\"endlinecolor\":\"#2a3f5f\",\"gridcolor\":\"white\",\"linecolor\":\"white\",\"minorgridcolor\":\"white\",\"startlinecolor\":\"#2a3f5f\"},\"type\":\"carpet\"}],\"table\":[{\"cells\":{\"fill\":{\"color\":\"#EBF0F8\"},\"line\":{\"color\":\"white\"}},\"header\":{\"fill\":{\"color\":\"#C8D4E3\"},\"line\":{\"color\":\"white\"}},\"type\":\"table\"}],\"barpolar\":[{\"marker\":{\"line\":{\"color\":\"#E5ECF6\",\"width\":0.5},\"pattern\":{\"fillmode\":\"overlay\",\"size\":10,\"solidity\":0.2}},\"type\":\"barpolar\"}],\"pie\":[{\"automargin\":true,\"type\":\"pie\"}]},\"layout\":{\"autotypenumbers\":\"strict\",\"colorway\":[\"#636efa\",\"#EF553B\",\"#00cc96\",\"#ab63fa\",\"#FFA15A\",\"#19d3f3\",\"#FF6692\",\"#B6E880\",\"#FF97FF\",\"#FECB52\"],\"font\":{\"color\":\"#2a3f5f\"},\"hovermode\":\"closest\",\"hoverlabel\":{\"align\":\"left\"},\"paper_bgcolor\":\"white\",\"plot_bgcolor\":\"#E5ECF6\",\"polar\":{\"bgcolor\":\"#E5ECF6\",\"angularaxis\":{\"gridcolor\":\"white\",\"linecolor\":\"white\",\"ticks\":\"\"},\"radialaxis\":{\"gridcolor\":\"white\",\"linecolor\":\"white\",\"ticks\":\"\"}},\"ternary\":{\"bgcolor\":\"#E5ECF6\",\"aaxis\":{\"gridcolor\":\"white\",\"linecolor\":\"white\",\"ticks\":\"\"},\"baxis\":{\"gridcolor\":\"white\",\"linecolor\":\"white\",\"ticks\":\"\"},\"caxis\":{\"gridcolor\":\"white\",\"linecolor\":\"white\",\"ticks\":\"\"}},\"coloraxis\":{\"colorbar\":{\"outlinewidth\":0,\"ticks\":\"\"}},\"colorscale\":{\"sequential\":[[0.0,\"#0d0887\"],[0.1111111111111111,\"#46039f\"],[0.2222222222222222,\"#7201a8\"],[0.3333333333333333,\"#9c179e\"],[0.4444444444444444,\"#bd3786\"],[0.5555555555555556,\"#d8576b\"],[0.6666666666666666,\"#ed7953\"],[0.7777777777777778,\"#fb9f3a\"],[0.8888888888888888,\"#fdca26\"],[1.0,\"#f0f921\"]],\"sequentialminus\":[[0.0,\"#0d0887\"],[0.1111111111111111,\"#46039f\"],[0.2222222222222222,\"#7201a8\"],[0.3333333333333333,\"#9c179e\"],[0.4444444444444444,\"#bd3786\"],[0.5555555555555556,\"#d8576b\"],[0.6666666666666666,\"#ed7953\"],[0.7777777777777778,\"#fb9f3a\"],[0.8888888888888888,\"#fdca26\"],[1.0,\"#f0f921\"]],\"diverging\":[[0,\"#8e0152\"],[0.1,\"#c51b7d\"],[0.2,\"#de77ae\"],[0.3,\"#f1b6da\"],[0.4,\"#fde0ef\"],[0.5,\"#f7f7f7\"],[0.6,\"#e6f5d0\"],[0.7,\"#b8e186\"],[0.8,\"#7fbc41\"],[0.9,\"#4d9221\"],[1,\"#276419\"]]},\"xaxis\":{\"gridcolor\":\"white\",\"linecolor\":\"white\",\"ticks\":\"\",\"title\":{\"standoff\":15},\"zerolinecolor\":\"white\",\"automargin\":true,\"zerolinewidth\":2},\"yaxis\":{\"gridcolor\":\"white\",\"linecolor\":\"white\",\"ticks\":\"\",\"title\":{\"standoff\":15},\"zerolinecolor\":\"white\",\"automargin\":true,\"zerolinewidth\":2},\"scene\":{\"xaxis\":{\"backgroundcolor\":\"#E5ECF6\",\"gridcolor\":\"white\",\"linecolor\":\"white\",\"showbackground\":true,\"ticks\":\"\",\"zerolinecolor\":\"white\",\"gridwidth\":2},\"yaxis\":{\"backgroundcolor\":\"#E5ECF6\",\"gridcolor\":\"white\",\"linecolor\":\"white\",\"showbackground\":true,\"ticks\":\"\",\"zerolinecolor\":\"white\",\"gridwidth\":2},\"zaxis\":{\"backgroundcolor\":\"#E5ECF6\",\"gridcolor\":\"white\",\"linecolor\":\"white\",\"showbackground\":true,\"ticks\":\"\",\"zerolinecolor\":\"white\",\"gridwidth\":2}},\"shapedefaults\":{\"line\":{\"color\":\"#2a3f5f\"}},\"annotationdefaults\":{\"arrowcolor\":\"#2a3f5f\",\"arrowhead\":0,\"arrowwidth\":1},\"geo\":{\"bgcolor\":\"white\",\"landcolor\":\"#E5ECF6\",\"subunitcolor\":\"white\",\"showland\":true,\"showlakes\":true,\"lakecolor\":\"white\"},\"title\":{\"x\":0.05},\"mapbox\":{\"style\":\"light\"}}},\"xaxis\":{\"anchor\":\"y\",\"domain\":[0.0,1.0],\"title\":{\"text\":\"cloud\"},\"showgrid\":false},\"yaxis\":{\"anchor\":\"x\",\"domain\":[0.0,1.0],\"title\":{\"text\":\"Values\"},\"showgrid\":false},\"legend\":{\"tracegroupgap\":0},\"title\":{\"text\":\"<b>CLOUD</b>\",\"font\":{\"size\":18},\"x\":0.5},\"boxmode\":\"group\"},                        {\"responsive\": true}                    ).then(function(){\n",
       "                            \n",
       "var gd = document.getElementById('f781d26e-00bf-41ed-9d4e-a1a3339d7066');\n",
       "var x = new MutationObserver(function (mutations, observer) {{\n",
       "        var display = window.getComputedStyle(gd).display;\n",
       "        if (!display || display === 'none') {{\n",
       "            console.log([gd, 'removed!']);\n",
       "            Plotly.purge(gd);\n",
       "            observer.disconnect();\n",
       "        }}\n",
       "}});\n",
       "\n",
       "// Listen for the removal of the full notebook cells\n",
       "var notebookContainer = gd.closest('#notebook-container');\n",
       "if (notebookContainer) {{\n",
       "    x.observe(notebookContainer, {childList: true});\n",
       "}}\n",
       "\n",
       "// Listen for the clearing of the current output cell\n",
       "var outputEl = gd.closest('.output');\n",
       "if (outputEl) {{\n",
       "    x.observe(outputEl, {childList: true});\n",
       "}}\n",
       "\n",
       "                        })                };                });            </script>        </div>"
      ]
     },
     "metadata": {},
     "output_type": "display_data"
    },
    {
     "data": {
      "application/vnd.plotly.v1+json": {
       "config": {
        "plotlyServerURL": "https://plot.ly"
       },
       "data": [
        {
         "alignmentgroup": "True",
         "hovertemplate": "pressure=%{x}<extra></extra>",
         "legendgroup": "",
         "marker": {
          "color": "skyblue",
          "line": {
           "color": "darkblue",
           "width": 1
          }
         },
         "name": "",
         "notched": false,
         "offsetgroup": "",
         "orientation": "h",
         "showlegend": false,
         "type": "box",
         "x": [
          1024,
          1019,
          1018,
          1023,
          1017,
          1019,
          1019,
          1019,
          1017,
          1019,
          1019,
          1017,
          1018,
          1019,
          1018,
          1019,
          1018,
          1019,
          1017,
          1014,
          1019,
          1019,
          1016,
          1017,
          1014,
          1019,
          1019,
          1016,
          1018,
          1020,
          1018,
          1018,
          1021,
          1018,
          1019,
          1024,
          1018,
          1017,
          1023,
          1020,
          1024,
          1018,
          1018,
          1019,
          1013,
          1016,
          1017,
          1019,
          1022,
          1019,
          1016,
          1017,
          1024,
          1021,
          1017,
          1026,
          1016,
          1020,
          1016,
          1025,
          1024,
          1014,
          1018,
          1016,
          1023,
          1024,
          1017,
          1017,
          1024,
          1018,
          1011,
          1022,
          1014,
          1013,
          1018,
          1022,
          1016,
          1013,
          1015,
          1021,
          1021,
          1016,
          1016,
          1023,
          1020,
          1022,
          1017,
          1021,
          1022,
          1018,
          1021,
          1019,
          1021,
          1022,
          1017,
          1020,
          1018,
          1021,
          1022,
          1018,
          1019,
          1020,
          1022,
          1023,
          1018,
          1020,
          1018,
          1022,
          1019,
          1020,
          1018,
          1021,
          1014,
          1019,
          1024,
          1020,
          1020,
          1017,
          1019,
          1022,
          1018,
          1018,
          1016,
          1019,
          1019,
          1018,
          1018,
          1016,
          1020,
          1020,
          1017,
          1017,
          1020,
          1021,
          1019,
          1018,
          1016,
          1017,
          1021,
          1021,
          1020,
          1016,
          1018,
          1019,
          1021,
          1019,
          1017,
          1018,
          1018,
          1019,
          1019,
          1018,
          1019,
          1017,
          1019,
          1019,
          1017,
          1020,
          1020,
          1019,
          1017,
          1020,
          1023,
          1020,
          1017,
          1019,
          1019,
          1015,
          1016,
          1018,
          1015,
          1019,
          1017,
          1018,
          1020,
          1016,
          1018,
          1019,
          1021,
          1019,
          1018,
          1020,
          1019,
          1019,
          1018,
          1017,
          1016,
          1020,
          1017,
          1017,
          1015,
          1014,
          1018,
          1017,
          1020,
          1015,
          1019,
          1010,
          1017,
          1021,
          1018,
          1021,
          1012,
          1017,
          1018,
          1016,
          1021,
          1016,
          1021,
          1015,
          1018,
          1019,
          1016,
          1018,
          1020,
          1018,
          1019,
          1016,
          1020,
          1012,
          1017,
          1013,
          1015,
          1018,
          1013,
          1013,
          1015,
          1019,
          1011,
          1013,
          1018,
          1017,
          1020,
          1012,
          1015,
          1017,
          1019,
          1013,
          1014,
          1020,
          1011,
          1014,
          1015,
          1010,
          1018,
          1010,
          1009,
          1017,
          1011,
          1010,
          1016,
          1012,
          1014,
          1009,
          1018,
          1012,
          1015,
          1015,
          1009,
          1018,
          1013,
          1017,
          1020,
          1016,
          1012,
          1016,
          1015,
          1009,
          1016,
          1016,
          1018,
          1013,
          1012,
          1018,
          1018,
          1017,
          1016,
          1018,
          1015,
          1014,
          1014,
          1018,
          1013,
          1014,
          1015,
          1014,
          1013,
          1019,
          1016,
          1011,
          1018,
          1016,
          1013,
          1011,
          1014,
          1016,
          1019,
          1012,
          1014,
          1012,
          1014,
          1018,
          1013,
          1018,
          1009,
          1013,
          1019,
          1014,
          1019,
          1007,
          1014,
          1013,
          1011,
          1014,
          1010,
          1011,
          1012,
          1007,
          1014,
          1014,
          1010,
          1011,
          1015,
          1013,
          1014,
          1005,
          1012,
          1015,
          1008,
          1015,
          1004,
          1013,
          1016,
          1011,
          1007,
          1013,
          1016,
          1013,
          1013,
          1016,
          1014,
          1012,
          1009,
          1012,
          1016,
          1010,
          1011,
          1011,
          1012,
          1017,
          1010,
          1015,
          1010,
          1018,
          1012,
          1012,
          1009,
          1012,
          1014,
          1012,
          1013,
          1007,
          1014,
          1009,
          1009,
          1010,
          1008,
          1012,
          1015,
          1011,
          1010,
          1009,
          1014,
          1014,
          1014,
          1012,
          1013,
          1014,
          1015,
          1013,
          1013,
          1013,
          1014,
          1012,
          1011,
          1012,
          1013,
          1016,
          1010,
          1009,
          1011,
          1012,
          1016,
          1009,
          1009,
          1011,
          1012,
          1016,
          1009,
          1009,
          1010,
          1014,
          1014,
          1009,
          1009,
          1015,
          1010,
          1015,
          1009,
          1010,
          1014,
          1005,
          1017,
          1008,
          1011,
          1011,
          1005,
          1016,
          1009,
          1010,
          1011,
          1007,
          1013,
          1009,
          1010,
          1009,
          1009,
          1012,
          1009,
          1011,
          1008,
          1008,
          1011,
          1013,
          1010,
          1011,
          1009,
          1010,
          1012,
          1006,
          1010,
          1009,
          1012,
          1010,
          1004,
          1009,
          1006,
          1008,
          1004,
          1008,
          1004,
          1011,
          1006,
          1008,
          1003,
          1011,
          1009,
          1007,
          1006,
          1003,
          1010,
          1011,
          1004,
          1006,
          1010,
          1012,
          1010,
          1008,
          1010,
          1009,
          1008,
          1012,
          1012,
          1011,
          1008,
          1008,
          1012,
          1012,
          1009,
          1007,
          1009,
          1012,
          1013,
          1008,
          1006,
          1009,
          1012,
          1012,
          1011,
          1007,
          1012,
          1011,
          1010,
          1011,
          1007,
          1009,
          1012,
          1009,
          1010,
          1005,
          1006,
          1009,
          1009,
          1009,
          1005,
          1006,
          1009,
          1008,
          1011,
          1007,
          1007,
          1009,
          1007,
          1011,
          1007,
          1009,
          1007,
          1007,
          1007,
          1003,
          1010,
          1004,
          1004,
          1001,
          1010,
          1004,
          1003,
          1005,
          1003,
          1012,
          1006,
          1006,
          1007,
          1012,
          1006,
          1008,
          1008,
          1007,
          1007,
          1006,
          1006,
          1007,
          1006,
          1007,
          1003,
          1007,
          1004,
          1004,
          1003,
          1008,
          1005,
          1003,
          1005,
          1003,
          1009,
          1003,
          1004,
          1005,
          1007,
          1002,
          1005,
          1004,
          1007,
          1007,
          1002,
          1005,
          1006,
          1007,
          1006,
          1001,
          1004,
          1005,
          1005,
          1002,
          1004,
          1006,
          1006,
          1004,
          1005,
          1004,
          1008,
          1001,
          1004,
          1006,
          1007,
          1005,
          1002,
          1003,
          1007,
          1003,
          1007,
          1002,
          1004,
          1006,
          999,
          1007,
          1004,
          1004,
          998,
          998,
          1007,
          1003,
          1003,
          1002,
          1007,
          1002,
          1003,
          1004,
          1001,
          998,
          999,
          998,
          996,
          998,
          997,
          1002,
          998,
          997,
          997,
          1000,
          1002,
          1000,
          993,
          999,
          1000,
          1003,
          1002,
          993,
          998,
          1000,
          1002,
          1002,
          994,
          997,
          998,
          1003,
          1002,
          993,
          999,
          997,
          1005,
          1001,
          994,
          999,
          997,
          1004,
          1003,
          997,
          997,
          999,
          1001,
          1002,
          999,
          997,
          1000,
          998,
          1001,
          1000,
          998,
          999,
          997,
          999,
          1000,
          999,
          996,
          997,
          997,
          999,
          995,
          1001,
          997,
          998,
          999,
          998,
          1002,
          997,
          998,
          998,
          997,
          1002,
          997,
          999,
          998,
          998,
          999,
          999,
          1002,
          999,
          995,
          999,
          998,
          1001,
          998,
          997,
          997,
          998,
          996,
          995,
          997,
          994,
          995,
          995,
          993,
          996,
          993,
          997,
          998,
          998,
          1002,
          997,
          997,
          997,
          998,
          996,
          996,
          997,
          1001,
          997,
          993,
          1004,
          996,
          997,
          997,
          1002,
          995,
          1002,
          996,
          1001,
          1000,
          996,
          996,
          1001,
          1001,
          998,
          996,
          1001,
          1002,
          998,
          1003,
          1000,
          997,
          999,
          998,
          999,
          998,
          1002,
          1000,
          1000,
          1001,
          1001,
          1002,
          999,
          1001,
          1003,
          1001,
          1002,
          999,
          1002,
          1002,
          999
         ],
         "x0": " ",
         "xaxis": "x",
         "y0": " ",
         "yaxis": "y"
        }
       ],
       "layout": {
        "boxmode": "group",
        "legend": {
         "tracegroupgap": 0
        },
        "template": {
         "data": {
          "bar": [
           {
            "error_x": {
             "color": "#2a3f5f"
            },
            "error_y": {
             "color": "#2a3f5f"
            },
            "marker": {
             "line": {
              "color": "#E5ECF6",
              "width": 0.5
             },
             "pattern": {
              "fillmode": "overlay",
              "size": 10,
              "solidity": 0.2
             }
            },
            "type": "bar"
           }
          ],
          "barpolar": [
           {
            "marker": {
             "line": {
              "color": "#E5ECF6",
              "width": 0.5
             },
             "pattern": {
              "fillmode": "overlay",
              "size": 10,
              "solidity": 0.2
             }
            },
            "type": "barpolar"
           }
          ],
          "carpet": [
           {
            "aaxis": {
             "endlinecolor": "#2a3f5f",
             "gridcolor": "white",
             "linecolor": "white",
             "minorgridcolor": "white",
             "startlinecolor": "#2a3f5f"
            },
            "baxis": {
             "endlinecolor": "#2a3f5f",
             "gridcolor": "white",
             "linecolor": "white",
             "minorgridcolor": "white",
             "startlinecolor": "#2a3f5f"
            },
            "type": "carpet"
           }
          ],
          "choropleth": [
           {
            "colorbar": {
             "outlinewidth": 0,
             "ticks": ""
            },
            "type": "choropleth"
           }
          ],
          "contour": [
           {
            "colorbar": {
             "outlinewidth": 0,
             "ticks": ""
            },
            "colorscale": [
             [
              0,
              "#0d0887"
             ],
             [
              0.1111111111111111,
              "#46039f"
             ],
             [
              0.2222222222222222,
              "#7201a8"
             ],
             [
              0.3333333333333333,
              "#9c179e"
             ],
             [
              0.4444444444444444,
              "#bd3786"
             ],
             [
              0.5555555555555556,
              "#d8576b"
             ],
             [
              0.6666666666666666,
              "#ed7953"
             ],
             [
              0.7777777777777778,
              "#fb9f3a"
             ],
             [
              0.8888888888888888,
              "#fdca26"
             ],
             [
              1,
              "#f0f921"
             ]
            ],
            "type": "contour"
           }
          ],
          "contourcarpet": [
           {
            "colorbar": {
             "outlinewidth": 0,
             "ticks": ""
            },
            "type": "contourcarpet"
           }
          ],
          "heatmap": [
           {
            "colorbar": {
             "outlinewidth": 0,
             "ticks": ""
            },
            "colorscale": [
             [
              0,
              "#0d0887"
             ],
             [
              0.1111111111111111,
              "#46039f"
             ],
             [
              0.2222222222222222,
              "#7201a8"
             ],
             [
              0.3333333333333333,
              "#9c179e"
             ],
             [
              0.4444444444444444,
              "#bd3786"
             ],
             [
              0.5555555555555556,
              "#d8576b"
             ],
             [
              0.6666666666666666,
              "#ed7953"
             ],
             [
              0.7777777777777778,
              "#fb9f3a"
             ],
             [
              0.8888888888888888,
              "#fdca26"
             ],
             [
              1,
              "#f0f921"
             ]
            ],
            "type": "heatmap"
           }
          ],
          "heatmapgl": [
           {
            "colorbar": {
             "outlinewidth": 0,
             "ticks": ""
            },
            "colorscale": [
             [
              0,
              "#0d0887"
             ],
             [
              0.1111111111111111,
              "#46039f"
             ],
             [
              0.2222222222222222,
              "#7201a8"
             ],
             [
              0.3333333333333333,
              "#9c179e"
             ],
             [
              0.4444444444444444,
              "#bd3786"
             ],
             [
              0.5555555555555556,
              "#d8576b"
             ],
             [
              0.6666666666666666,
              "#ed7953"
             ],
             [
              0.7777777777777778,
              "#fb9f3a"
             ],
             [
              0.8888888888888888,
              "#fdca26"
             ],
             [
              1,
              "#f0f921"
             ]
            ],
            "type": "heatmapgl"
           }
          ],
          "histogram": [
           {
            "marker": {
             "pattern": {
              "fillmode": "overlay",
              "size": 10,
              "solidity": 0.2
             }
            },
            "type": "histogram"
           }
          ],
          "histogram2d": [
           {
            "colorbar": {
             "outlinewidth": 0,
             "ticks": ""
            },
            "colorscale": [
             [
              0,
              "#0d0887"
             ],
             [
              0.1111111111111111,
              "#46039f"
             ],
             [
              0.2222222222222222,
              "#7201a8"
             ],
             [
              0.3333333333333333,
              "#9c179e"
             ],
             [
              0.4444444444444444,
              "#bd3786"
             ],
             [
              0.5555555555555556,
              "#d8576b"
             ],
             [
              0.6666666666666666,
              "#ed7953"
             ],
             [
              0.7777777777777778,
              "#fb9f3a"
             ],
             [
              0.8888888888888888,
              "#fdca26"
             ],
             [
              1,
              "#f0f921"
             ]
            ],
            "type": "histogram2d"
           }
          ],
          "histogram2dcontour": [
           {
            "colorbar": {
             "outlinewidth": 0,
             "ticks": ""
            },
            "colorscale": [
             [
              0,
              "#0d0887"
             ],
             [
              0.1111111111111111,
              "#46039f"
             ],
             [
              0.2222222222222222,
              "#7201a8"
             ],
             [
              0.3333333333333333,
              "#9c179e"
             ],
             [
              0.4444444444444444,
              "#bd3786"
             ],
             [
              0.5555555555555556,
              "#d8576b"
             ],
             [
              0.6666666666666666,
              "#ed7953"
             ],
             [
              0.7777777777777778,
              "#fb9f3a"
             ],
             [
              0.8888888888888888,
              "#fdca26"
             ],
             [
              1,
              "#f0f921"
             ]
            ],
            "type": "histogram2dcontour"
           }
          ],
          "mesh3d": [
           {
            "colorbar": {
             "outlinewidth": 0,
             "ticks": ""
            },
            "type": "mesh3d"
           }
          ],
          "parcoords": [
           {
            "line": {
             "colorbar": {
              "outlinewidth": 0,
              "ticks": ""
             }
            },
            "type": "parcoords"
           }
          ],
          "pie": [
           {
            "automargin": true,
            "type": "pie"
           }
          ],
          "scatter": [
           {
            "fillpattern": {
             "fillmode": "overlay",
             "size": 10,
             "solidity": 0.2
            },
            "type": "scatter"
           }
          ],
          "scatter3d": [
           {
            "line": {
             "colorbar": {
              "outlinewidth": 0,
              "ticks": ""
             }
            },
            "marker": {
             "colorbar": {
              "outlinewidth": 0,
              "ticks": ""
             }
            },
            "type": "scatter3d"
           }
          ],
          "scattercarpet": [
           {
            "marker": {
             "colorbar": {
              "outlinewidth": 0,
              "ticks": ""
             }
            },
            "type": "scattercarpet"
           }
          ],
          "scattergeo": [
           {
            "marker": {
             "colorbar": {
              "outlinewidth": 0,
              "ticks": ""
             }
            },
            "type": "scattergeo"
           }
          ],
          "scattergl": [
           {
            "marker": {
             "colorbar": {
              "outlinewidth": 0,
              "ticks": ""
             }
            },
            "type": "scattergl"
           }
          ],
          "scattermapbox": [
           {
            "marker": {
             "colorbar": {
              "outlinewidth": 0,
              "ticks": ""
             }
            },
            "type": "scattermapbox"
           }
          ],
          "scatterpolar": [
           {
            "marker": {
             "colorbar": {
              "outlinewidth": 0,
              "ticks": ""
             }
            },
            "type": "scatterpolar"
           }
          ],
          "scatterpolargl": [
           {
            "marker": {
             "colorbar": {
              "outlinewidth": 0,
              "ticks": ""
             }
            },
            "type": "scatterpolargl"
           }
          ],
          "scatterternary": [
           {
            "marker": {
             "colorbar": {
              "outlinewidth": 0,
              "ticks": ""
             }
            },
            "type": "scatterternary"
           }
          ],
          "surface": [
           {
            "colorbar": {
             "outlinewidth": 0,
             "ticks": ""
            },
            "colorscale": [
             [
              0,
              "#0d0887"
             ],
             [
              0.1111111111111111,
              "#46039f"
             ],
             [
              0.2222222222222222,
              "#7201a8"
             ],
             [
              0.3333333333333333,
              "#9c179e"
             ],
             [
              0.4444444444444444,
              "#bd3786"
             ],
             [
              0.5555555555555556,
              "#d8576b"
             ],
             [
              0.6666666666666666,
              "#ed7953"
             ],
             [
              0.7777777777777778,
              "#fb9f3a"
             ],
             [
              0.8888888888888888,
              "#fdca26"
             ],
             [
              1,
              "#f0f921"
             ]
            ],
            "type": "surface"
           }
          ],
          "table": [
           {
            "cells": {
             "fill": {
              "color": "#EBF0F8"
             },
             "line": {
              "color": "white"
             }
            },
            "header": {
             "fill": {
              "color": "#C8D4E3"
             },
             "line": {
              "color": "white"
             }
            },
            "type": "table"
           }
          ]
         },
         "layout": {
          "annotationdefaults": {
           "arrowcolor": "#2a3f5f",
           "arrowhead": 0,
           "arrowwidth": 1
          },
          "autotypenumbers": "strict",
          "coloraxis": {
           "colorbar": {
            "outlinewidth": 0,
            "ticks": ""
           }
          },
          "colorscale": {
           "diverging": [
            [
             0,
             "#8e0152"
            ],
            [
             0.1,
             "#c51b7d"
            ],
            [
             0.2,
             "#de77ae"
            ],
            [
             0.3,
             "#f1b6da"
            ],
            [
             0.4,
             "#fde0ef"
            ],
            [
             0.5,
             "#f7f7f7"
            ],
            [
             0.6,
             "#e6f5d0"
            ],
            [
             0.7,
             "#b8e186"
            ],
            [
             0.8,
             "#7fbc41"
            ],
            [
             0.9,
             "#4d9221"
            ],
            [
             1,
             "#276419"
            ]
           ],
           "sequential": [
            [
             0,
             "#0d0887"
            ],
            [
             0.1111111111111111,
             "#46039f"
            ],
            [
             0.2222222222222222,
             "#7201a8"
            ],
            [
             0.3333333333333333,
             "#9c179e"
            ],
            [
             0.4444444444444444,
             "#bd3786"
            ],
            [
             0.5555555555555556,
             "#d8576b"
            ],
            [
             0.6666666666666666,
             "#ed7953"
            ],
            [
             0.7777777777777778,
             "#fb9f3a"
            ],
            [
             0.8888888888888888,
             "#fdca26"
            ],
            [
             1,
             "#f0f921"
            ]
           ],
           "sequentialminus": [
            [
             0,
             "#0d0887"
            ],
            [
             0.1111111111111111,
             "#46039f"
            ],
            [
             0.2222222222222222,
             "#7201a8"
            ],
            [
             0.3333333333333333,
             "#9c179e"
            ],
            [
             0.4444444444444444,
             "#bd3786"
            ],
            [
             0.5555555555555556,
             "#d8576b"
            ],
            [
             0.6666666666666666,
             "#ed7953"
            ],
            [
             0.7777777777777778,
             "#fb9f3a"
            ],
            [
             0.8888888888888888,
             "#fdca26"
            ],
            [
             1,
             "#f0f921"
            ]
           ]
          },
          "colorway": [
           "#636efa",
           "#EF553B",
           "#00cc96",
           "#ab63fa",
           "#FFA15A",
           "#19d3f3",
           "#FF6692",
           "#B6E880",
           "#FF97FF",
           "#FECB52"
          ],
          "font": {
           "color": "#2a3f5f"
          },
          "geo": {
           "bgcolor": "white",
           "lakecolor": "white",
           "landcolor": "#E5ECF6",
           "showlakes": true,
           "showland": true,
           "subunitcolor": "white"
          },
          "hoverlabel": {
           "align": "left"
          },
          "hovermode": "closest",
          "mapbox": {
           "style": "light"
          },
          "paper_bgcolor": "white",
          "plot_bgcolor": "#E5ECF6",
          "polar": {
           "angularaxis": {
            "gridcolor": "white",
            "linecolor": "white",
            "ticks": ""
           },
           "bgcolor": "#E5ECF6",
           "radialaxis": {
            "gridcolor": "white",
            "linecolor": "white",
            "ticks": ""
           }
          },
          "scene": {
           "xaxis": {
            "backgroundcolor": "#E5ECF6",
            "gridcolor": "white",
            "gridwidth": 2,
            "linecolor": "white",
            "showbackground": true,
            "ticks": "",
            "zerolinecolor": "white"
           },
           "yaxis": {
            "backgroundcolor": "#E5ECF6",
            "gridcolor": "white",
            "gridwidth": 2,
            "linecolor": "white",
            "showbackground": true,
            "ticks": "",
            "zerolinecolor": "white"
           },
           "zaxis": {
            "backgroundcolor": "#E5ECF6",
            "gridcolor": "white",
            "gridwidth": 2,
            "linecolor": "white",
            "showbackground": true,
            "ticks": "",
            "zerolinecolor": "white"
           }
          },
          "shapedefaults": {
           "line": {
            "color": "#2a3f5f"
           }
          },
          "ternary": {
           "aaxis": {
            "gridcolor": "white",
            "linecolor": "white",
            "ticks": ""
           },
           "baxis": {
            "gridcolor": "white",
            "linecolor": "white",
            "ticks": ""
           },
           "bgcolor": "#E5ECF6",
           "caxis": {
            "gridcolor": "white",
            "linecolor": "white",
            "ticks": ""
           }
          },
          "title": {
           "x": 0.05
          },
          "xaxis": {
           "automargin": true,
           "gridcolor": "white",
           "linecolor": "white",
           "ticks": "",
           "title": {
            "standoff": 15
           },
           "zerolinecolor": "white",
           "zerolinewidth": 2
          },
          "yaxis": {
           "automargin": true,
           "gridcolor": "white",
           "linecolor": "white",
           "ticks": "",
           "title": {
            "standoff": 15
           },
           "zerolinecolor": "white",
           "zerolinewidth": 2
          }
         }
        },
        "title": {
         "font": {
          "size": 18
         },
         "text": "<b>PRESSURE</b>",
         "x": 0.5
        },
        "xaxis": {
         "anchor": "y",
         "domain": [
          0,
          1
         ],
         "showgrid": false,
         "title": {
          "text": "pressure"
         }
        },
        "yaxis": {
         "anchor": "x",
         "domain": [
          0,
          1
         ],
         "showgrid": false,
         "title": {
          "text": "Values"
         }
        }
       }
      },
      "text/html": [
       "<div>                            <div id=\"ec475d2e-4184-4b77-ac68-42ed96b4dac7\" class=\"plotly-graph-div\" style=\"height:525px; width:100%;\"></div>            <script type=\"text/javascript\">                require([\"plotly\"], function(Plotly) {                    window.PLOTLYENV=window.PLOTLYENV || {};                                    if (document.getElementById(\"ec475d2e-4184-4b77-ac68-42ed96b4dac7\")) {                    Plotly.newPlot(                        \"ec475d2e-4184-4b77-ac68-42ed96b4dac7\",                        [{\"alignmentgroup\":\"True\",\"hovertemplate\":\"pressure=%{x}<extra></extra>\",\"legendgroup\":\"\",\"marker\":{\"color\":\"skyblue\",\"line\":{\"color\":\"darkblue\",\"width\":1}},\"name\":\"\",\"notched\":false,\"offsetgroup\":\"\",\"orientation\":\"h\",\"showlegend\":false,\"x\":[1024.0,1019.0,1018.0,1023.0,1017.0,1019.0,1019.0,1019.0,1017.0,1019.0,1019.0,1017.0,1018.0,1019.0,1018.0,1019.0,1018.0,1019.0,1017.0,1014.0,1019.0,1019.0,1016.0,1017.0,1014.0,1019.0,1019.0,1016.0,1018.0,1020.0,1018.0,1018.0,1021.0,1018.0,1019.0,1024.0,1018.0,1017.0,1023.0,1020.0,1024.0,1018.0,1018.0,1019.0,1013.0,1016.0,1017.0,1019.0,1022.0,1019.0,1016.0,1017.0,1024.0,1021.0,1017.0,1026.0,1016.0,1020.0,1016.0,1025.0,1024.0,1014.0,1018.0,1016.0,1023.0,1024.0,1017.0,1017.0,1024.0,1018.0,1011.0,1022.0,1014.0,1013.0,1018.0,1022.0,1016.0,1013.0,1015.0,1021.0,1021.0,1016.0,1016.0,1023.0,1020.0,1022.0,1017.0,1021.0,1022.0,1018.0,1021.0,1019.0,1021.0,1022.0,1017.0,1020.0,1018.0,1021.0,1022.0,1018.0,1019.0,1020.0,1022.0,1023.0,1018.0,1020.0,1018.0,1022.0,1019.0,1020.0,1018.0,1021.0,1014.0,1019.0,1024.0,1020.0,1020.0,1017.0,1019.0,1022.0,1018.0,1018.0,1016.0,1019.0,1019.0,1018.0,1018.0,1016.0,1020.0,1020.0,1017.0,1017.0,1020.0,1021.0,1019.0,1018.0,1016.0,1017.0,1021.0,1021.0,1020.0,1016.0,1018.0,1019.0,1021.0,1019.0,1017.0,1018.0,1018.0,1019.0,1019.0,1018.0,1019.0,1017.0,1019.0,1019.0,1017.0,1020.0,1020.0,1019.0,1017.0,1020.0,1023.0,1020.0,1017.0,1019.0,1019.0,1015.0,1016.0,1018.0,1015.0,1019.0,1017.0,1018.0,1020.0,1016.0,1018.0,1019.0,1021.0,1019.0,1018.0,1020.0,1019.0,1019.0,1018.0,1017.0,1016.0,1020.0,1017.0,1017.0,1015.0,1014.0,1018.0,1017.0,1020.0,1015.0,1019.0,1010.0,1017.0,1021.0,1018.0,1021.0,1012.0,1017.0,1018.0,1016.0,1021.0,1016.0,1021.0,1015.0,1018.0,1019.0,1016.0,1018.0,1020.0,1018.0,1019.0,1016.0,1020.0,1012.0,1017.0,1013.0,1015.0,1018.0,1013.0,1013.0,1015.0,1019.0,1011.0,1013.0,1018.0,1017.0,1020.0,1012.0,1015.0,1017.0,1019.0,1013.0,1014.0,1020.0,1011.0,1014.0,1015.0,1010.0,1018.0,1010.0,1009.0,1017.0,1011.0,1010.0,1016.0,1012.0,1014.0,1009.0,1018.0,1012.0,1015.0,1015.0,1009.0,1018.0,1013.0,1017.0,1020.0,1016.0,1012.0,1016.0,1015.0,1009.0,1016.0,1016.0,1018.0,1013.0,1012.0,1018.0,1018.0,1017.0,1016.0,1018.0,1015.0,1014.0,1014.0,1018.0,1013.0,1014.0,1015.0,1014.0,1013.0,1019.0,1016.0,1011.0,1018.0,1016.0,1013.0,1011.0,1014.0,1016.0,1019.0,1012.0,1014.0,1012.0,1014.0,1018.0,1013.0,1018.0,1009.0,1013.0,1019.0,1014.0,1019.0,1007.0,1014.0,1013.0,1011.0,1014.0,1010.0,1011.0,1012.0,1007.0,1014.0,1014.0,1010.0,1011.0,1015.0,1013.0,1014.0,1005.0,1012.0,1015.0,1008.0,1015.0,1004.0,1013.0,1016.0,1011.0,1007.0,1013.0,1016.0,1013.0,1013.0,1016.0,1014.0,1012.0,1009.0,1012.0,1016.0,1010.0,1011.0,1011.0,1012.0,1017.0,1010.0,1015.0,1010.0,1018.0,1012.0,1012.0,1009.0,1012.0,1014.0,1012.0,1013.0,1007.0,1014.0,1009.0,1009.0,1010.0,1008.0,1012.0,1015.0,1011.0,1010.0,1009.0,1014.0,1014.0,1014.0,1012.0,1013.0,1014.0,1015.0,1013.0,1013.0,1013.0,1014.0,1012.0,1011.0,1012.0,1013.0,1016.0,1010.0,1009.0,1011.0,1012.0,1016.0,1009.0,1009.0,1011.0,1012.0,1016.0,1009.0,1009.0,1010.0,1014.0,1014.0,1009.0,1009.0,1015.0,1010.0,1015.0,1009.0,1010.0,1014.0,1005.0,1017.0,1008.0,1011.0,1011.0,1005.0,1016.0,1009.0,1010.0,1011.0,1007.0,1013.0,1009.0,1010.0,1009.0,1009.0,1012.0,1009.0,1011.0,1008.0,1008.0,1011.0,1013.0,1010.0,1011.0,1009.0,1010.0,1012.0,1006.0,1010.0,1009.0,1012.0,1010.0,1004.0,1009.0,1006.0,1008.0,1004.0,1008.0,1004.0,1011.0,1006.0,1008.0,1003.0,1011.0,1009.0,1007.0,1006.0,1003.0,1010.0,1011.0,1004.0,1006.0,1010.0,1012.0,1010.0,1008.0,1010.0,1009.0,1008.0,1012.0,1012.0,1011.0,1008.0,1008.0,1012.0,1012.0,1009.0,1007.0,1009.0,1012.0,1013.0,1008.0,1006.0,1009.0,1012.0,1012.0,1011.0,1007.0,1012.0,1011.0,1010.0,1011.0,1007.0,1009.0,1012.0,1009.0,1010.0,1005.0,1006.0,1009.0,1009.0,1009.0,1005.0,1006.0,1009.0,1008.0,1011.0,1007.0,1007.0,1009.0,1007.0,1011.0,1007.0,1009.0,1007.0,1007.0,1007.0,1003.0,1010.0,1004.0,1004.0,1001.0,1010.0,1004.0,1003.0,1005.0,1003.0,1012.0,1006.0,1006.0,1007.0,1012.0,1006.0,1008.0,1008.0,1007.0,1007.0,1006.0,1006.0,1007.0,1006.0,1007.0,1003.0,1007.0,1004.0,1004.0,1003.0,1008.0,1005.0,1003.0,1005.0,1003.0,1009.0,1003.0,1004.0,1005.0,1007.0,1002.0,1005.0,1004.0,1007.0,1007.0,1002.0,1005.0,1006.0,1007.0,1006.0,1001.0,1004.0,1005.0,1005.0,1002.0,1004.0,1006.0,1006.0,1004.0,1005.0,1004.0,1008.0,1001.0,1004.0,1006.0,1007.0,1005.0,1002.0,1003.0,1007.0,1003.0,1007.0,1002.0,1004.0,1006.0,999.0,1007.0,1004.0,1004.0,998.0,998.0,1007.0,1003.0,1003.0,1002.0,1007.0,1002.0,1003.0,1004.0,1001.0,998.0,999.0,998.0,996.0,998.0,997.0,1002.0,998.0,997.0,997.0,1000.0,1002.0,1000.0,993.0,999.0,1000.0,1003.0,1002.0,993.0,998.0,1000.0,1002.0,1002.0,994.0,997.0,998.0,1003.0,1002.0,993.0,999.0,997.0,1005.0,1001.0,994.0,999.0,997.0,1004.0,1003.0,997.0,997.0,999.0,1001.0,1002.0,999.0,997.0,1000.0,998.0,1001.0,1000.0,998.0,999.0,997.0,999.0,1000.0,999.0,996.0,997.0,997.0,999.0,995.0,1001.0,997.0,998.0,999.0,998.0,1002.0,997.0,998.0,998.0,997.0,1002.0,997.0,999.0,998.0,998.0,999.0,999.0,1002.0,999.0,995.0,999.0,998.0,1001.0,998.0,997.0,997.0,998.0,996.0,995.0,997.0,994.0,995.0,995.0,993.0,996.0,993.0,997.0,998.0,998.0,1002.0,997.0,997.0,997.0,998.0,996.0,996.0,997.0,1001.0,997.0,993.0,1004.0,996.0,997.0,997.0,1002.0,995.0,1002.0,996.0,1001.0,1000.0,996.0,996.0,1001.0,1001.0,998.0,996.0,1001.0,1002.0,998.0,1003.0,1000.0,997.0,999.0,998.0,999.0,998.0,1002.0,1000.0,1000.0,1001.0,1001.0,1002.0,999.0,1001.0,1003.0,1001.0,1002.0,999.0,1002.0,1002.0,999.0],\"x0\":\" \",\"xaxis\":\"x\",\"y0\":\" \",\"yaxis\":\"y\",\"type\":\"box\"}],                        {\"template\":{\"data\":{\"histogram2dcontour\":[{\"type\":\"histogram2dcontour\",\"colorbar\":{\"outlinewidth\":0,\"ticks\":\"\"},\"colorscale\":[[0.0,\"#0d0887\"],[0.1111111111111111,\"#46039f\"],[0.2222222222222222,\"#7201a8\"],[0.3333333333333333,\"#9c179e\"],[0.4444444444444444,\"#bd3786\"],[0.5555555555555556,\"#d8576b\"],[0.6666666666666666,\"#ed7953\"],[0.7777777777777778,\"#fb9f3a\"],[0.8888888888888888,\"#fdca26\"],[1.0,\"#f0f921\"]]}],\"choropleth\":[{\"type\":\"choropleth\",\"colorbar\":{\"outlinewidth\":0,\"ticks\":\"\"}}],\"histogram2d\":[{\"type\":\"histogram2d\",\"colorbar\":{\"outlinewidth\":0,\"ticks\":\"\"},\"colorscale\":[[0.0,\"#0d0887\"],[0.1111111111111111,\"#46039f\"],[0.2222222222222222,\"#7201a8\"],[0.3333333333333333,\"#9c179e\"],[0.4444444444444444,\"#bd3786\"],[0.5555555555555556,\"#d8576b\"],[0.6666666666666666,\"#ed7953\"],[0.7777777777777778,\"#fb9f3a\"],[0.8888888888888888,\"#fdca26\"],[1.0,\"#f0f921\"]]}],\"heatmap\":[{\"type\":\"heatmap\",\"colorbar\":{\"outlinewidth\":0,\"ticks\":\"\"},\"colorscale\":[[0.0,\"#0d0887\"],[0.1111111111111111,\"#46039f\"],[0.2222222222222222,\"#7201a8\"],[0.3333333333333333,\"#9c179e\"],[0.4444444444444444,\"#bd3786\"],[0.5555555555555556,\"#d8576b\"],[0.6666666666666666,\"#ed7953\"],[0.7777777777777778,\"#fb9f3a\"],[0.8888888888888888,\"#fdca26\"],[1.0,\"#f0f921\"]]}],\"heatmapgl\":[{\"type\":\"heatmapgl\",\"colorbar\":{\"outlinewidth\":0,\"ticks\":\"\"},\"colorscale\":[[0.0,\"#0d0887\"],[0.1111111111111111,\"#46039f\"],[0.2222222222222222,\"#7201a8\"],[0.3333333333333333,\"#9c179e\"],[0.4444444444444444,\"#bd3786\"],[0.5555555555555556,\"#d8576b\"],[0.6666666666666666,\"#ed7953\"],[0.7777777777777778,\"#fb9f3a\"],[0.8888888888888888,\"#fdca26\"],[1.0,\"#f0f921\"]]}],\"contourcarpet\":[{\"type\":\"contourcarpet\",\"colorbar\":{\"outlinewidth\":0,\"ticks\":\"\"}}],\"contour\":[{\"type\":\"contour\",\"colorbar\":{\"outlinewidth\":0,\"ticks\":\"\"},\"colorscale\":[[0.0,\"#0d0887\"],[0.1111111111111111,\"#46039f\"],[0.2222222222222222,\"#7201a8\"],[0.3333333333333333,\"#9c179e\"],[0.4444444444444444,\"#bd3786\"],[0.5555555555555556,\"#d8576b\"],[0.6666666666666666,\"#ed7953\"],[0.7777777777777778,\"#fb9f3a\"],[0.8888888888888888,\"#fdca26\"],[1.0,\"#f0f921\"]]}],\"surface\":[{\"type\":\"surface\",\"colorbar\":{\"outlinewidth\":0,\"ticks\":\"\"},\"colorscale\":[[0.0,\"#0d0887\"],[0.1111111111111111,\"#46039f\"],[0.2222222222222222,\"#7201a8\"],[0.3333333333333333,\"#9c179e\"],[0.4444444444444444,\"#bd3786\"],[0.5555555555555556,\"#d8576b\"],[0.6666666666666666,\"#ed7953\"],[0.7777777777777778,\"#fb9f3a\"],[0.8888888888888888,\"#fdca26\"],[1.0,\"#f0f921\"]]}],\"mesh3d\":[{\"type\":\"mesh3d\",\"colorbar\":{\"outlinewidth\":0,\"ticks\":\"\"}}],\"scatter\":[{\"fillpattern\":{\"fillmode\":\"overlay\",\"size\":10,\"solidity\":0.2},\"type\":\"scatter\"}],\"parcoords\":[{\"type\":\"parcoords\",\"line\":{\"colorbar\":{\"outlinewidth\":0,\"ticks\":\"\"}}}],\"scatterpolargl\":[{\"type\":\"scatterpolargl\",\"marker\":{\"colorbar\":{\"outlinewidth\":0,\"ticks\":\"\"}}}],\"bar\":[{\"error_x\":{\"color\":\"#2a3f5f\"},\"error_y\":{\"color\":\"#2a3f5f\"},\"marker\":{\"line\":{\"color\":\"#E5ECF6\",\"width\":0.5},\"pattern\":{\"fillmode\":\"overlay\",\"size\":10,\"solidity\":0.2}},\"type\":\"bar\"}],\"scattergeo\":[{\"type\":\"scattergeo\",\"marker\":{\"colorbar\":{\"outlinewidth\":0,\"ticks\":\"\"}}}],\"scatterpolar\":[{\"type\":\"scatterpolar\",\"marker\":{\"colorbar\":{\"outlinewidth\":0,\"ticks\":\"\"}}}],\"histogram\":[{\"marker\":{\"pattern\":{\"fillmode\":\"overlay\",\"size\":10,\"solidity\":0.2}},\"type\":\"histogram\"}],\"scattergl\":[{\"type\":\"scattergl\",\"marker\":{\"colorbar\":{\"outlinewidth\":0,\"ticks\":\"\"}}}],\"scatter3d\":[{\"type\":\"scatter3d\",\"line\":{\"colorbar\":{\"outlinewidth\":0,\"ticks\":\"\"}},\"marker\":{\"colorbar\":{\"outlinewidth\":0,\"ticks\":\"\"}}}],\"scattermapbox\":[{\"type\":\"scattermapbox\",\"marker\":{\"colorbar\":{\"outlinewidth\":0,\"ticks\":\"\"}}}],\"scatterternary\":[{\"type\":\"scatterternary\",\"marker\":{\"colorbar\":{\"outlinewidth\":0,\"ticks\":\"\"}}}],\"scattercarpet\":[{\"type\":\"scattercarpet\",\"marker\":{\"colorbar\":{\"outlinewidth\":0,\"ticks\":\"\"}}}],\"carpet\":[{\"aaxis\":{\"endlinecolor\":\"#2a3f5f\",\"gridcolor\":\"white\",\"linecolor\":\"white\",\"minorgridcolor\":\"white\",\"startlinecolor\":\"#2a3f5f\"},\"baxis\":{\"endlinecolor\":\"#2a3f5f\",\"gridcolor\":\"white\",\"linecolor\":\"white\",\"minorgridcolor\":\"white\",\"startlinecolor\":\"#2a3f5f\"},\"type\":\"carpet\"}],\"table\":[{\"cells\":{\"fill\":{\"color\":\"#EBF0F8\"},\"line\":{\"color\":\"white\"}},\"header\":{\"fill\":{\"color\":\"#C8D4E3\"},\"line\":{\"color\":\"white\"}},\"type\":\"table\"}],\"barpolar\":[{\"marker\":{\"line\":{\"color\":\"#E5ECF6\",\"width\":0.5},\"pattern\":{\"fillmode\":\"overlay\",\"size\":10,\"solidity\":0.2}},\"type\":\"barpolar\"}],\"pie\":[{\"automargin\":true,\"type\":\"pie\"}]},\"layout\":{\"autotypenumbers\":\"strict\",\"colorway\":[\"#636efa\",\"#EF553B\",\"#00cc96\",\"#ab63fa\",\"#FFA15A\",\"#19d3f3\",\"#FF6692\",\"#B6E880\",\"#FF97FF\",\"#FECB52\"],\"font\":{\"color\":\"#2a3f5f\"},\"hovermode\":\"closest\",\"hoverlabel\":{\"align\":\"left\"},\"paper_bgcolor\":\"white\",\"plot_bgcolor\":\"#E5ECF6\",\"polar\":{\"bgcolor\":\"#E5ECF6\",\"angularaxis\":{\"gridcolor\":\"white\",\"linecolor\":\"white\",\"ticks\":\"\"},\"radialaxis\":{\"gridcolor\":\"white\",\"linecolor\":\"white\",\"ticks\":\"\"}},\"ternary\":{\"bgcolor\":\"#E5ECF6\",\"aaxis\":{\"gridcolor\":\"white\",\"linecolor\":\"white\",\"ticks\":\"\"},\"baxis\":{\"gridcolor\":\"white\",\"linecolor\":\"white\",\"ticks\":\"\"},\"caxis\":{\"gridcolor\":\"white\",\"linecolor\":\"white\",\"ticks\":\"\"}},\"coloraxis\":{\"colorbar\":{\"outlinewidth\":0,\"ticks\":\"\"}},\"colorscale\":{\"sequential\":[[0.0,\"#0d0887\"],[0.1111111111111111,\"#46039f\"],[0.2222222222222222,\"#7201a8\"],[0.3333333333333333,\"#9c179e\"],[0.4444444444444444,\"#bd3786\"],[0.5555555555555556,\"#d8576b\"],[0.6666666666666666,\"#ed7953\"],[0.7777777777777778,\"#fb9f3a\"],[0.8888888888888888,\"#fdca26\"],[1.0,\"#f0f921\"]],\"sequentialminus\":[[0.0,\"#0d0887\"],[0.1111111111111111,\"#46039f\"],[0.2222222222222222,\"#7201a8\"],[0.3333333333333333,\"#9c179e\"],[0.4444444444444444,\"#bd3786\"],[0.5555555555555556,\"#d8576b\"],[0.6666666666666666,\"#ed7953\"],[0.7777777777777778,\"#fb9f3a\"],[0.8888888888888888,\"#fdca26\"],[1.0,\"#f0f921\"]],\"diverging\":[[0,\"#8e0152\"],[0.1,\"#c51b7d\"],[0.2,\"#de77ae\"],[0.3,\"#f1b6da\"],[0.4,\"#fde0ef\"],[0.5,\"#f7f7f7\"],[0.6,\"#e6f5d0\"],[0.7,\"#b8e186\"],[0.8,\"#7fbc41\"],[0.9,\"#4d9221\"],[1,\"#276419\"]]},\"xaxis\":{\"gridcolor\":\"white\",\"linecolor\":\"white\",\"ticks\":\"\",\"title\":{\"standoff\":15},\"zerolinecolor\":\"white\",\"automargin\":true,\"zerolinewidth\":2},\"yaxis\":{\"gridcolor\":\"white\",\"linecolor\":\"white\",\"ticks\":\"\",\"title\":{\"standoff\":15},\"zerolinecolor\":\"white\",\"automargin\":true,\"zerolinewidth\":2},\"scene\":{\"xaxis\":{\"backgroundcolor\":\"#E5ECF6\",\"gridcolor\":\"white\",\"linecolor\":\"white\",\"showbackground\":true,\"ticks\":\"\",\"zerolinecolor\":\"white\",\"gridwidth\":2},\"yaxis\":{\"backgroundcolor\":\"#E5ECF6\",\"gridcolor\":\"white\",\"linecolor\":\"white\",\"showbackground\":true,\"ticks\":\"\",\"zerolinecolor\":\"white\",\"gridwidth\":2},\"zaxis\":{\"backgroundcolor\":\"#E5ECF6\",\"gridcolor\":\"white\",\"linecolor\":\"white\",\"showbackground\":true,\"ticks\":\"\",\"zerolinecolor\":\"white\",\"gridwidth\":2}},\"shapedefaults\":{\"line\":{\"color\":\"#2a3f5f\"}},\"annotationdefaults\":{\"arrowcolor\":\"#2a3f5f\",\"arrowhead\":0,\"arrowwidth\":1},\"geo\":{\"bgcolor\":\"white\",\"landcolor\":\"#E5ECF6\",\"subunitcolor\":\"white\",\"showland\":true,\"showlakes\":true,\"lakecolor\":\"white\"},\"title\":{\"x\":0.05},\"mapbox\":{\"style\":\"light\"}}},\"xaxis\":{\"anchor\":\"y\",\"domain\":[0.0,1.0],\"title\":{\"text\":\"pressure\"},\"showgrid\":false},\"yaxis\":{\"anchor\":\"x\",\"domain\":[0.0,1.0],\"title\":{\"text\":\"Values\"},\"showgrid\":false},\"legend\":{\"tracegroupgap\":0},\"title\":{\"text\":\"<b>PRESSURE</b>\",\"font\":{\"size\":18},\"x\":0.5},\"boxmode\":\"group\"},                        {\"responsive\": true}                    ).then(function(){\n",
       "                            \n",
       "var gd = document.getElementById('ec475d2e-4184-4b77-ac68-42ed96b4dac7');\n",
       "var x = new MutationObserver(function (mutations, observer) {{\n",
       "        var display = window.getComputedStyle(gd).display;\n",
       "        if (!display || display === 'none') {{\n",
       "            console.log([gd, 'removed!']);\n",
       "            Plotly.purge(gd);\n",
       "            observer.disconnect();\n",
       "        }}\n",
       "}});\n",
       "\n",
       "// Listen for the removal of the full notebook cells\n",
       "var notebookContainer = gd.closest('#notebook-container');\n",
       "if (notebookContainer) {{\n",
       "    x.observe(notebookContainer, {childList: true});\n",
       "}}\n",
       "\n",
       "// Listen for the clearing of the current output cell\n",
       "var outputEl = gd.closest('.output');\n",
       "if (outputEl) {{\n",
       "    x.observe(outputEl, {childList: true});\n",
       "}}\n",
       "\n",
       "                        })                };                });            </script>        </div>"
      ]
     },
     "metadata": {},
     "output_type": "display_data"
    },
    {
     "data": {
      "application/vnd.plotly.v1+json": {
       "config": {
        "plotlyServerURL": "https://plot.ly"
       },
       "data": [
        {
         "alignmentgroup": "True",
         "hovertemplate": "avg_temp=%{x}<extra></extra>",
         "legendgroup": "",
         "marker": {
          "color": "skyblue",
          "line": {
           "color": "darkblue",
           "width": 1
          }
         },
         "name": "",
         "notched": false,
         "offsetgroup": "",
         "orientation": "h",
         "showlegend": false,
         "type": "box",
         "x": [
          12,
          11.5,
          11,
          9,
          11.5,
          12.5,
          13,
          12.5,
          10.5,
          11.5,
          11,
          13,
          10.5,
          11.5,
          11,
          10.5,
          12,
          9.5,
          10.5,
          13,
          10,
          11.5,
          9.5,
          10.5,
          13,
          10,
          11.5,
          9.5,
          11,
          11.5,
          10.5,
          9.5,
          11,
          14,
          12,
          11.5,
          12.5,
          11.5,
          8.5,
          8.5,
          12,
          12.5,
          11,
          11.5,
          16.5,
          18,
          18.5,
          17,
          12,
          12,
          12.5,
          13,
          12.5,
          10.5,
          13.5,
          11.5,
          12.5,
          10.5,
          12.5,
          12,
          11.5,
          11,
          10.5,
          12,
          15,
          13,
          8,
          13,
          14,
          8.5,
          10,
          15,
          9,
          10,
          11,
          14,
          10,
          9.5,
          8.5,
          11,
          13.5,
          10.5,
          8.5,
          9.5,
          12.5,
          14,
          11.5,
          8,
          10.5,
          13.5,
          14.5,
          13.5,
          8,
          11,
          14.5,
          14,
          12.5,
          10.5,
          11.5,
          14.5,
          15.5,
          12,
          10.5,
          12,
          16,
          11,
          10,
          12,
          16,
          11,
          11.5,
          12.5,
          14.5,
          15.5,
          11,
          11,
          13,
          13.5,
          16,
          11.5,
          10.5,
          14,
          13.5,
          15,
          12,
          11,
          14,
          14,
          11.5,
          11,
          15,
          13.5,
          12,
          13,
          11.5,
          15,
          13.5,
          13,
          13,
          12,
          16,
          14.5,
          13,
          15,
          12,
          15.5,
          13.5,
          12.5,
          17,
          13.5,
          15,
          15.5,
          12.5,
          14.5,
          13.5,
          14.5,
          14.5,
          9.5,
          11.5,
          14.5,
          14.5,
          10.5,
          11,
          12,
          9,
          11.5,
          13.5,
          11,
          8.5,
          13,
          12,
          9.5,
          14,
          13.5,
          9,
          11.5,
          10.5,
          14,
          10,
          11,
          12,
          12.5,
          15,
          12.5,
          14,
          13,
          12,
          9.5,
          15.5,
          13,
          9.5,
          11.5,
          9.5,
          13,
          11,
          11,
          10.5,
          10.5,
          15,
          12,
          11.5,
          11,
          12,
          15,
          13,
          11,
          11.5,
          13.5,
          11.5,
          15.5,
          14.5,
          12,
          14,
          15.5,
          10,
          15,
          15,
          17.5,
          12,
          12,
          14,
          14.5,
          18,
          14,
          12.5,
          17.5,
          11,
          14,
          16,
          16.5,
          11.5,
          10,
          15.5,
          14.5,
          15,
          12.5,
          16,
          17,
          16.5,
          12.5,
          15,
          19.5,
          17,
          15,
          17.5,
          21,
          17.5,
          19,
          20,
          17,
          20,
          19,
          16,
          16.5,
          19.5,
          18.5,
          12,
          16.5,
          16,
          20.5,
          18.5,
          16,
          14.5,
          21,
          17,
          18,
          14.5,
          13,
          21.5,
          17.5,
          18.5,
          15.5,
          13,
          18,
          19.5,
          17,
          14,
          20,
          17,
          20,
          20,
          21.5,
          18.5,
          21.5,
          21.5,
          21.5,
          20,
          13,
          21.5,
          22,
          15,
          16,
          21.5,
          22.5,
          23,
          17,
          17,
          22,
          24,
          23.5,
          19.5,
          18.5,
          22,
          24,
          23.5,
          19.5,
          18,
          19,
          24.5,
          21,
          22,
          19,
          21,
          25,
          21,
          16.5,
          26,
          17.5,
          20.5,
          17.5,
          27,
          18,
          15,
          20.5,
          19.5,
          26.5,
          19.5,
          18,
          21,
          20.5,
          27,
          21,
          19.5,
          19,
          25.5,
          21.5,
          20.5,
          17.5,
          22.5,
          22,
          17.5,
          19,
          26,
          22.5,
          19,
          19.5,
          19.5,
          25,
          21,
          20,
          21.5,
          17.5,
          25.5,
          20.5,
          21,
          18,
          26.5,
          18,
          22,
          21,
          19,
          24,
          18.5,
          24.5,
          21.5,
          20.5,
          23.5,
          18,
          25,
          22.5,
          22.5,
          24,
          17.5,
          25,
          21,
          21,
          22.5,
          17,
          24,
          21,
          22.5,
          24,
          16,
          25,
          20,
          21,
          23.5,
          17.5,
          25.5,
          20.5,
          16,
          24.5,
          17.5,
          24,
          21.5,
          19,
          26,
          18.5,
          24,
          23.5,
          15.5,
          27,
          19.5,
          25,
          23.5,
          18,
          27.5,
          20.5,
          23.5,
          24.5,
          19.5,
          27.5,
          21,
          22.5,
          23,
          22,
          29.5,
          20,
          21,
          23.5,
          24,
          28,
          21.5,
          20.5,
          24.5,
          23,
          27.5,
          22.5,
          21.5,
          25,
          26,
          28,
          23,
          19,
          24.5,
          20,
          29.5,
          24,
          20,
          25.5,
          22.5,
          31,
          22,
          21,
          23.5,
          23,
          30.5,
          22.5,
          23,
          24.5,
          30,
          19,
          24,
          26,
          29,
          20,
          23,
          25,
          27.5,
          29,
          21,
          22.5,
          24,
          25.5,
          22,
          22.5,
          22,
          24,
          25.5,
          23.5,
          22,
          22.5,
          23.5,
          25,
          24.5,
          22.5,
          24,
          24,
          25.5,
          26.5,
          23.5,
          25,
          25,
          27.5,
          28,
          24,
          25,
          26.5,
          28.5,
          28.5,
          23,
          26,
          28,
          28,
          28.5,
          22.5,
          24,
          28,
          28,
          28,
          21,
          24,
          29,
          29,
          26,
          21.5,
          25,
          29,
          24,
          25,
          21.5,
          25.5,
          30.5,
          26.5,
          26.5,
          21.5,
          30,
          30,
          29.5,
          28.5,
          22,
          25.5,
          30,
          26.5,
          26,
          31,
          30.5,
          25.5,
          27,
          22.5,
          22.5,
          27.5,
          27,
          24,
          26.5,
          26,
          24.5,
          27,
          26.5,
          27,
          25,
          27,
          27.5,
          26,
          27.5,
          27.5,
          27.5,
          28,
          28,
          28.5,
          28,
          27,
          28,
          28.5,
          28.5,
          29.5,
          26,
          28,
          28.5,
          28.5,
          26.5,
          29,
          25.5,
          26,
          29.5,
          29,
          28,
          26,
          26,
          30,
          28,
          30,
          26.5,
          30.5,
          29,
          31,
          27.5,
          27.5,
          30.5,
          31,
          32.5,
          29,
          28,
          31,
          33.5,
          27.5,
          30.5,
          32.5,
          28.5,
          32.5,
          26,
          32,
          33.5,
          28.5,
          33,
          27.5,
          33,
          29,
          32,
          30,
          26.5,
          32,
          33,
          29,
          26.5,
          31.5,
          32.5,
          30.5,
          30.5,
          33,
          34,
          30.5,
          35.5,
          31.5,
          32,
          33.5,
          30,
          36,
          32,
          29.5,
          33.5,
          30.5,
          36,
          32.5,
          30,
          33.5,
          31,
          36.5,
          34,
          30.5,
          33.5,
          32,
          36,
          34.5,
          33,
          32.5,
          33,
          36,
          34.5,
          34.5,
          32.5,
          32.5,
          33.5,
          33,
          35,
          33.5,
          31,
          32.5,
          32.5,
          35,
          35,
          30.5,
          32.5,
          32,
          34,
          36,
          30.5,
          33,
          30,
          34.5,
          36,
          30.5,
          33.5,
          31,
          36,
          35,
          33,
          33.5,
          35.5,
          33.5,
          33,
          32.5,
          34.5,
          34.5,
          32.5,
          32.5,
          31.5,
          34.5,
          35,
          34,
          31,
          31,
          35,
          34.5,
          35.5,
          29,
          32,
          34.5,
          35.5,
          36,
          30.5,
          34,
          32.5,
          36,
          36.5,
          31,
          35,
          33,
          35,
          37.5,
          32,
          33.5,
          33.5,
          36.5,
          33.5,
          33.5,
          30,
          34.5,
          29.5,
          32,
          33,
          31,
          35.5,
          32,
          33,
          35,
          29,
          31.5,
          32.5,
          30,
          34.5,
          31,
          30.5,
          31.5,
          35,
          30.5,
          31,
          29.5,
          32.5,
          35.5,
          32,
          30,
          30,
          35.5,
          31.5,
          31.5,
          29,
          34.5,
          28.5,
          30,
          35,
          29.5,
          32,
          30.5,
          35,
          29,
          29.5,
          30.5,
          30.5,
          36,
          30,
          29.5,
          30.5,
          30.5,
          34.5,
          29.5,
          28.5,
          30,
          30,
          34.5
         ],
         "x0": " ",
         "xaxis": "x",
         "y0": " ",
         "yaxis": "y"
        }
       ],
       "layout": {
        "boxmode": "group",
        "legend": {
         "tracegroupgap": 0
        },
        "template": {
         "data": {
          "bar": [
           {
            "error_x": {
             "color": "#2a3f5f"
            },
            "error_y": {
             "color": "#2a3f5f"
            },
            "marker": {
             "line": {
              "color": "#E5ECF6",
              "width": 0.5
             },
             "pattern": {
              "fillmode": "overlay",
              "size": 10,
              "solidity": 0.2
             }
            },
            "type": "bar"
           }
          ],
          "barpolar": [
           {
            "marker": {
             "line": {
              "color": "#E5ECF6",
              "width": 0.5
             },
             "pattern": {
              "fillmode": "overlay",
              "size": 10,
              "solidity": 0.2
             }
            },
            "type": "barpolar"
           }
          ],
          "carpet": [
           {
            "aaxis": {
             "endlinecolor": "#2a3f5f",
             "gridcolor": "white",
             "linecolor": "white",
             "minorgridcolor": "white",
             "startlinecolor": "#2a3f5f"
            },
            "baxis": {
             "endlinecolor": "#2a3f5f",
             "gridcolor": "white",
             "linecolor": "white",
             "minorgridcolor": "white",
             "startlinecolor": "#2a3f5f"
            },
            "type": "carpet"
           }
          ],
          "choropleth": [
           {
            "colorbar": {
             "outlinewidth": 0,
             "ticks": ""
            },
            "type": "choropleth"
           }
          ],
          "contour": [
           {
            "colorbar": {
             "outlinewidth": 0,
             "ticks": ""
            },
            "colorscale": [
             [
              0,
              "#0d0887"
             ],
             [
              0.1111111111111111,
              "#46039f"
             ],
             [
              0.2222222222222222,
              "#7201a8"
             ],
             [
              0.3333333333333333,
              "#9c179e"
             ],
             [
              0.4444444444444444,
              "#bd3786"
             ],
             [
              0.5555555555555556,
              "#d8576b"
             ],
             [
              0.6666666666666666,
              "#ed7953"
             ],
             [
              0.7777777777777778,
              "#fb9f3a"
             ],
             [
              0.8888888888888888,
              "#fdca26"
             ],
             [
              1,
              "#f0f921"
             ]
            ],
            "type": "contour"
           }
          ],
          "contourcarpet": [
           {
            "colorbar": {
             "outlinewidth": 0,
             "ticks": ""
            },
            "type": "contourcarpet"
           }
          ],
          "heatmap": [
           {
            "colorbar": {
             "outlinewidth": 0,
             "ticks": ""
            },
            "colorscale": [
             [
              0,
              "#0d0887"
             ],
             [
              0.1111111111111111,
              "#46039f"
             ],
             [
              0.2222222222222222,
              "#7201a8"
             ],
             [
              0.3333333333333333,
              "#9c179e"
             ],
             [
              0.4444444444444444,
              "#bd3786"
             ],
             [
              0.5555555555555556,
              "#d8576b"
             ],
             [
              0.6666666666666666,
              "#ed7953"
             ],
             [
              0.7777777777777778,
              "#fb9f3a"
             ],
             [
              0.8888888888888888,
              "#fdca26"
             ],
             [
              1,
              "#f0f921"
             ]
            ],
            "type": "heatmap"
           }
          ],
          "heatmapgl": [
           {
            "colorbar": {
             "outlinewidth": 0,
             "ticks": ""
            },
            "colorscale": [
             [
              0,
              "#0d0887"
             ],
             [
              0.1111111111111111,
              "#46039f"
             ],
             [
              0.2222222222222222,
              "#7201a8"
             ],
             [
              0.3333333333333333,
              "#9c179e"
             ],
             [
              0.4444444444444444,
              "#bd3786"
             ],
             [
              0.5555555555555556,
              "#d8576b"
             ],
             [
              0.6666666666666666,
              "#ed7953"
             ],
             [
              0.7777777777777778,
              "#fb9f3a"
             ],
             [
              0.8888888888888888,
              "#fdca26"
             ],
             [
              1,
              "#f0f921"
             ]
            ],
            "type": "heatmapgl"
           }
          ],
          "histogram": [
           {
            "marker": {
             "pattern": {
              "fillmode": "overlay",
              "size": 10,
              "solidity": 0.2
             }
            },
            "type": "histogram"
           }
          ],
          "histogram2d": [
           {
            "colorbar": {
             "outlinewidth": 0,
             "ticks": ""
            },
            "colorscale": [
             [
              0,
              "#0d0887"
             ],
             [
              0.1111111111111111,
              "#46039f"
             ],
             [
              0.2222222222222222,
              "#7201a8"
             ],
             [
              0.3333333333333333,
              "#9c179e"
             ],
             [
              0.4444444444444444,
              "#bd3786"
             ],
             [
              0.5555555555555556,
              "#d8576b"
             ],
             [
              0.6666666666666666,
              "#ed7953"
             ],
             [
              0.7777777777777778,
              "#fb9f3a"
             ],
             [
              0.8888888888888888,
              "#fdca26"
             ],
             [
              1,
              "#f0f921"
             ]
            ],
            "type": "histogram2d"
           }
          ],
          "histogram2dcontour": [
           {
            "colorbar": {
             "outlinewidth": 0,
             "ticks": ""
            },
            "colorscale": [
             [
              0,
              "#0d0887"
             ],
             [
              0.1111111111111111,
              "#46039f"
             ],
             [
              0.2222222222222222,
              "#7201a8"
             ],
             [
              0.3333333333333333,
              "#9c179e"
             ],
             [
              0.4444444444444444,
              "#bd3786"
             ],
             [
              0.5555555555555556,
              "#d8576b"
             ],
             [
              0.6666666666666666,
              "#ed7953"
             ],
             [
              0.7777777777777778,
              "#fb9f3a"
             ],
             [
              0.8888888888888888,
              "#fdca26"
             ],
             [
              1,
              "#f0f921"
             ]
            ],
            "type": "histogram2dcontour"
           }
          ],
          "mesh3d": [
           {
            "colorbar": {
             "outlinewidth": 0,
             "ticks": ""
            },
            "type": "mesh3d"
           }
          ],
          "parcoords": [
           {
            "line": {
             "colorbar": {
              "outlinewidth": 0,
              "ticks": ""
             }
            },
            "type": "parcoords"
           }
          ],
          "pie": [
           {
            "automargin": true,
            "type": "pie"
           }
          ],
          "scatter": [
           {
            "fillpattern": {
             "fillmode": "overlay",
             "size": 10,
             "solidity": 0.2
            },
            "type": "scatter"
           }
          ],
          "scatter3d": [
           {
            "line": {
             "colorbar": {
              "outlinewidth": 0,
              "ticks": ""
             }
            },
            "marker": {
             "colorbar": {
              "outlinewidth": 0,
              "ticks": ""
             }
            },
            "type": "scatter3d"
           }
          ],
          "scattercarpet": [
           {
            "marker": {
             "colorbar": {
              "outlinewidth": 0,
              "ticks": ""
             }
            },
            "type": "scattercarpet"
           }
          ],
          "scattergeo": [
           {
            "marker": {
             "colorbar": {
              "outlinewidth": 0,
              "ticks": ""
             }
            },
            "type": "scattergeo"
           }
          ],
          "scattergl": [
           {
            "marker": {
             "colorbar": {
              "outlinewidth": 0,
              "ticks": ""
             }
            },
            "type": "scattergl"
           }
          ],
          "scattermapbox": [
           {
            "marker": {
             "colorbar": {
              "outlinewidth": 0,
              "ticks": ""
             }
            },
            "type": "scattermapbox"
           }
          ],
          "scatterpolar": [
           {
            "marker": {
             "colorbar": {
              "outlinewidth": 0,
              "ticks": ""
             }
            },
            "type": "scatterpolar"
           }
          ],
          "scatterpolargl": [
           {
            "marker": {
             "colorbar": {
              "outlinewidth": 0,
              "ticks": ""
             }
            },
            "type": "scatterpolargl"
           }
          ],
          "scatterternary": [
           {
            "marker": {
             "colorbar": {
              "outlinewidth": 0,
              "ticks": ""
             }
            },
            "type": "scatterternary"
           }
          ],
          "surface": [
           {
            "colorbar": {
             "outlinewidth": 0,
             "ticks": ""
            },
            "colorscale": [
             [
              0,
              "#0d0887"
             ],
             [
              0.1111111111111111,
              "#46039f"
             ],
             [
              0.2222222222222222,
              "#7201a8"
             ],
             [
              0.3333333333333333,
              "#9c179e"
             ],
             [
              0.4444444444444444,
              "#bd3786"
             ],
             [
              0.5555555555555556,
              "#d8576b"
             ],
             [
              0.6666666666666666,
              "#ed7953"
             ],
             [
              0.7777777777777778,
              "#fb9f3a"
             ],
             [
              0.8888888888888888,
              "#fdca26"
             ],
             [
              1,
              "#f0f921"
             ]
            ],
            "type": "surface"
           }
          ],
          "table": [
           {
            "cells": {
             "fill": {
              "color": "#EBF0F8"
             },
             "line": {
              "color": "white"
             }
            },
            "header": {
             "fill": {
              "color": "#C8D4E3"
             },
             "line": {
              "color": "white"
             }
            },
            "type": "table"
           }
          ]
         },
         "layout": {
          "annotationdefaults": {
           "arrowcolor": "#2a3f5f",
           "arrowhead": 0,
           "arrowwidth": 1
          },
          "autotypenumbers": "strict",
          "coloraxis": {
           "colorbar": {
            "outlinewidth": 0,
            "ticks": ""
           }
          },
          "colorscale": {
           "diverging": [
            [
             0,
             "#8e0152"
            ],
            [
             0.1,
             "#c51b7d"
            ],
            [
             0.2,
             "#de77ae"
            ],
            [
             0.3,
             "#f1b6da"
            ],
            [
             0.4,
             "#fde0ef"
            ],
            [
             0.5,
             "#f7f7f7"
            ],
            [
             0.6,
             "#e6f5d0"
            ],
            [
             0.7,
             "#b8e186"
            ],
            [
             0.8,
             "#7fbc41"
            ],
            [
             0.9,
             "#4d9221"
            ],
            [
             1,
             "#276419"
            ]
           ],
           "sequential": [
            [
             0,
             "#0d0887"
            ],
            [
             0.1111111111111111,
             "#46039f"
            ],
            [
             0.2222222222222222,
             "#7201a8"
            ],
            [
             0.3333333333333333,
             "#9c179e"
            ],
            [
             0.4444444444444444,
             "#bd3786"
            ],
            [
             0.5555555555555556,
             "#d8576b"
            ],
            [
             0.6666666666666666,
             "#ed7953"
            ],
            [
             0.7777777777777778,
             "#fb9f3a"
            ],
            [
             0.8888888888888888,
             "#fdca26"
            ],
            [
             1,
             "#f0f921"
            ]
           ],
           "sequentialminus": [
            [
             0,
             "#0d0887"
            ],
            [
             0.1111111111111111,
             "#46039f"
            ],
            [
             0.2222222222222222,
             "#7201a8"
            ],
            [
             0.3333333333333333,
             "#9c179e"
            ],
            [
             0.4444444444444444,
             "#bd3786"
            ],
            [
             0.5555555555555556,
             "#d8576b"
            ],
            [
             0.6666666666666666,
             "#ed7953"
            ],
            [
             0.7777777777777778,
             "#fb9f3a"
            ],
            [
             0.8888888888888888,
             "#fdca26"
            ],
            [
             1,
             "#f0f921"
            ]
           ]
          },
          "colorway": [
           "#636efa",
           "#EF553B",
           "#00cc96",
           "#ab63fa",
           "#FFA15A",
           "#19d3f3",
           "#FF6692",
           "#B6E880",
           "#FF97FF",
           "#FECB52"
          ],
          "font": {
           "color": "#2a3f5f"
          },
          "geo": {
           "bgcolor": "white",
           "lakecolor": "white",
           "landcolor": "#E5ECF6",
           "showlakes": true,
           "showland": true,
           "subunitcolor": "white"
          },
          "hoverlabel": {
           "align": "left"
          },
          "hovermode": "closest",
          "mapbox": {
           "style": "light"
          },
          "paper_bgcolor": "white",
          "plot_bgcolor": "#E5ECF6",
          "polar": {
           "angularaxis": {
            "gridcolor": "white",
            "linecolor": "white",
            "ticks": ""
           },
           "bgcolor": "#E5ECF6",
           "radialaxis": {
            "gridcolor": "white",
            "linecolor": "white",
            "ticks": ""
           }
          },
          "scene": {
           "xaxis": {
            "backgroundcolor": "#E5ECF6",
            "gridcolor": "white",
            "gridwidth": 2,
            "linecolor": "white",
            "showbackground": true,
            "ticks": "",
            "zerolinecolor": "white"
           },
           "yaxis": {
            "backgroundcolor": "#E5ECF6",
            "gridcolor": "white",
            "gridwidth": 2,
            "linecolor": "white",
            "showbackground": true,
            "ticks": "",
            "zerolinecolor": "white"
           },
           "zaxis": {
            "backgroundcolor": "#E5ECF6",
            "gridcolor": "white",
            "gridwidth": 2,
            "linecolor": "white",
            "showbackground": true,
            "ticks": "",
            "zerolinecolor": "white"
           }
          },
          "shapedefaults": {
           "line": {
            "color": "#2a3f5f"
           }
          },
          "ternary": {
           "aaxis": {
            "gridcolor": "white",
            "linecolor": "white",
            "ticks": ""
           },
           "baxis": {
            "gridcolor": "white",
            "linecolor": "white",
            "ticks": ""
           },
           "bgcolor": "#E5ECF6",
           "caxis": {
            "gridcolor": "white",
            "linecolor": "white",
            "ticks": ""
           }
          },
          "title": {
           "x": 0.05
          },
          "xaxis": {
           "automargin": true,
           "gridcolor": "white",
           "linecolor": "white",
           "ticks": "",
           "title": {
            "standoff": 15
           },
           "zerolinecolor": "white",
           "zerolinewidth": 2
          },
          "yaxis": {
           "automargin": true,
           "gridcolor": "white",
           "linecolor": "white",
           "ticks": "",
           "title": {
            "standoff": 15
           },
           "zerolinecolor": "white",
           "zerolinewidth": 2
          }
         }
        },
        "title": {
         "font": {
          "size": 18
         },
         "text": "<b>AVG_TEMP</b>",
         "x": 0.5
        },
        "xaxis": {
         "anchor": "y",
         "domain": [
          0,
          1
         ],
         "showgrid": false,
         "title": {
          "text": "avg_temp"
         }
        },
        "yaxis": {
         "anchor": "x",
         "domain": [
          0,
          1
         ],
         "showgrid": false,
         "title": {
          "text": "Values"
         }
        }
       }
      },
      "text/html": [
       "<div>                            <div id=\"1a7a2ea5-cd3e-4133-8875-be9570242190\" class=\"plotly-graph-div\" style=\"height:525px; width:100%;\"></div>            <script type=\"text/javascript\">                require([\"plotly\"], function(Plotly) {                    window.PLOTLYENV=window.PLOTLYENV || {};                                    if (document.getElementById(\"1a7a2ea5-cd3e-4133-8875-be9570242190\")) {                    Plotly.newPlot(                        \"1a7a2ea5-cd3e-4133-8875-be9570242190\",                        [{\"alignmentgroup\":\"True\",\"hovertemplate\":\"avg_temp=%{x}<extra></extra>\",\"legendgroup\":\"\",\"marker\":{\"color\":\"skyblue\",\"line\":{\"color\":\"darkblue\",\"width\":1}},\"name\":\"\",\"notched\":false,\"offsetgroup\":\"\",\"orientation\":\"h\",\"showlegend\":false,\"x\":[12.0,11.5,11.0,9.0,11.5,12.5,13.0,12.5,10.5,11.5,11.0,13.0,10.5,11.5,11.0,10.5,12.0,9.5,10.5,13.0,10.0,11.5,9.5,10.5,13.0,10.0,11.5,9.5,11.0,11.5,10.5,9.5,11.0,14.0,12.0,11.5,12.5,11.5,8.5,8.5,12.0,12.5,11.0,11.5,16.5,18.0,18.5,17.0,12.0,12.0,12.5,13.0,12.5,10.5,13.5,11.5,12.5,10.5,12.5,12.0,11.5,11.0,10.5,12.0,15.0,13.0,8.0,13.0,14.0,8.5,10.0,15.0,9.0,10.0,11.0,14.0,10.0,9.5,8.5,11.0,13.5,10.5,8.5,9.5,12.5,14.0,11.5,8.0,10.5,13.5,14.5,13.5,8.0,11.0,14.5,14.0,12.5,10.5,11.5,14.5,15.5,12.0,10.5,12.0,16.0,11.0,10.0,12.0,16.0,11.0,11.5,12.5,14.5,15.5,11.0,11.0,13.0,13.5,16.0,11.5,10.5,14.0,13.5,15.0,12.0,11.0,14.0,14.0,11.5,11.0,15.0,13.5,12.0,13.0,11.5,15.0,13.5,13.0,13.0,12.0,16.0,14.5,13.0,15.0,12.0,15.5,13.5,12.5,17.0,13.5,15.0,15.5,12.5,14.5,13.5,14.5,14.5,9.5,11.5,14.5,14.5,10.5,11.0,12.0,9.0,11.5,13.5,11.0,8.5,13.0,12.0,9.5,14.0,13.5,9.0,11.5,10.5,14.0,10.0,11.0,12.0,12.5,15.0,12.5,14.0,13.0,12.0,9.5,15.5,13.0,9.5,11.5,9.5,13.0,11.0,11.0,10.5,10.5,15.0,12.0,11.5,11.0,12.0,15.0,13.0,11.0,11.5,13.5,11.5,15.5,14.5,12.0,14.0,15.5,10.0,15.0,15.0,17.5,12.0,12.0,14.0,14.5,18.0,14.0,12.5,17.5,11.0,14.0,16.0,16.5,11.5,10.0,15.5,14.5,15.0,12.5,16.0,17.0,16.5,12.5,15.0,19.5,17.0,15.0,17.5,21.0,17.5,19.0,20.0,17.0,20.0,19.0,16.0,16.5,19.5,18.5,12.0,16.5,16.0,20.5,18.5,16.0,14.5,21.0,17.0,18.0,14.5,13.0,21.5,17.5,18.5,15.5,13.0,18.0,19.5,17.0,14.0,20.0,17.0,20.0,20.0,21.5,18.5,21.5,21.5,21.5,20.0,13.0,21.5,22.0,15.0,16.0,21.5,22.5,23.0,17.0,17.0,22.0,24.0,23.5,19.5,18.5,22.0,24.0,23.5,19.5,18.0,19.0,24.5,21.0,22.0,19.0,21.0,25.0,21.0,16.5,26.0,17.5,20.5,17.5,27.0,18.0,15.0,20.5,19.5,26.5,19.5,18.0,21.0,20.5,27.0,21.0,19.5,19.0,25.5,21.5,20.5,17.5,22.5,22.0,17.5,19.0,26.0,22.5,19.0,19.5,19.5,25.0,21.0,20.0,21.5,17.5,25.5,20.5,21.0,18.0,26.5,18.0,22.0,21.0,19.0,24.0,18.5,24.5,21.5,20.5,23.5,18.0,25.0,22.5,22.5,24.0,17.5,25.0,21.0,21.0,22.5,17.0,24.0,21.0,22.5,24.0,16.0,25.0,20.0,21.0,23.5,17.5,25.5,20.5,16.0,24.5,17.5,24.0,21.5,19.0,26.0,18.5,24.0,23.5,15.5,27.0,19.5,25.0,23.5,18.0,27.5,20.5,23.5,24.5,19.5,27.5,21.0,22.5,23.0,22.0,29.5,20.0,21.0,23.5,24.0,28.0,21.5,20.5,24.5,23.0,27.5,22.5,21.5,25.0,26.0,28.0,23.0,19.0,24.5,20.0,29.5,24.0,20.0,25.5,22.5,31.0,22.0,21.0,23.5,23.0,30.5,22.5,23.0,24.5,30.0,19.0,24.0,26.0,29.0,20.0,23.0,25.0,27.5,29.0,21.0,22.5,24.0,25.5,22.0,22.5,22.0,24.0,25.5,23.5,22.0,22.5,23.5,25.0,24.5,22.5,24.0,24.0,25.5,26.5,23.5,25.0,25.0,27.5,28.0,24.0,25.0,26.5,28.5,28.5,23.0,26.0,28.0,28.0,28.5,22.5,24.0,28.0,28.0,28.0,21.0,24.0,29.0,29.0,26.0,21.5,25.0,29.0,24.0,25.0,21.5,25.5,30.5,26.5,26.5,21.5,30.0,30.0,29.5,28.5,22.0,25.5,30.0,26.5,26.0,31.0,30.5,25.5,27.0,22.5,22.5,27.5,27.0,24.0,26.5,26.0,24.5,27.0,26.5,27.0,25.0,27.0,27.5,26.0,27.5,27.5,27.5,28.0,28.0,28.5,28.0,27.0,28.0,28.5,28.5,29.5,26.0,28.0,28.5,28.5,26.5,29.0,25.5,26.0,29.5,29.0,28.0,26.0,26.0,30.0,28.0,30.0,26.5,30.5,29.0,31.0,27.5,27.5,30.5,31.0,32.5,29.0,28.0,31.0,33.5,27.5,30.5,32.5,28.5,32.5,26.0,32.0,33.5,28.5,33.0,27.5,33.0,29.0,32.0,30.0,26.5,32.0,33.0,29.0,26.5,31.5,32.5,30.5,30.5,33.0,34.0,30.5,35.5,31.5,32.0,33.5,30.0,36.0,32.0,29.5,33.5,30.5,36.0,32.5,30.0,33.5,31.0,36.5,34.0,30.5,33.5,32.0,36.0,34.5,33.0,32.5,33.0,36.0,34.5,34.5,32.5,32.5,33.5,33.0,35.0,33.5,31.0,32.5,32.5,35.0,35.0,30.5,32.5,32.0,34.0,36.0,30.5,33.0,30.0,34.5,36.0,30.5,33.5,31.0,36.0,35.0,33.0,33.5,35.5,33.5,33.0,32.5,34.5,34.5,32.5,32.5,31.5,34.5,35.0,34.0,31.0,31.0,35.0,34.5,35.5,29.0,32.0,34.5,35.5,36.0,30.5,34.0,32.5,36.0,36.5,31.0,35.0,33.0,35.0,37.5,32.0,33.5,33.5,36.5,33.5,33.5,30.0,34.5,29.5,32.0,33.0,31.0,35.5,32.0,33.0,35.0,29.0,31.5,32.5,30.0,34.5,31.0,30.5,31.5,35.0,30.5,31.0,29.5,32.5,35.5,32.0,30.0,30.0,35.5,31.5,31.5,29.0,34.5,28.5,30.0,35.0,29.5,32.0,30.5,35.0,29.0,29.5,30.5,30.5,36.0,30.0,29.5,30.5,30.5,34.5,29.5,28.5,30.0,30.0,34.5],\"x0\":\" \",\"xaxis\":\"x\",\"y0\":\" \",\"yaxis\":\"y\",\"type\":\"box\"}],                        {\"template\":{\"data\":{\"histogram2dcontour\":[{\"type\":\"histogram2dcontour\",\"colorbar\":{\"outlinewidth\":0,\"ticks\":\"\"},\"colorscale\":[[0.0,\"#0d0887\"],[0.1111111111111111,\"#46039f\"],[0.2222222222222222,\"#7201a8\"],[0.3333333333333333,\"#9c179e\"],[0.4444444444444444,\"#bd3786\"],[0.5555555555555556,\"#d8576b\"],[0.6666666666666666,\"#ed7953\"],[0.7777777777777778,\"#fb9f3a\"],[0.8888888888888888,\"#fdca26\"],[1.0,\"#f0f921\"]]}],\"choropleth\":[{\"type\":\"choropleth\",\"colorbar\":{\"outlinewidth\":0,\"ticks\":\"\"}}],\"histogram2d\":[{\"type\":\"histogram2d\",\"colorbar\":{\"outlinewidth\":0,\"ticks\":\"\"},\"colorscale\":[[0.0,\"#0d0887\"],[0.1111111111111111,\"#46039f\"],[0.2222222222222222,\"#7201a8\"],[0.3333333333333333,\"#9c179e\"],[0.4444444444444444,\"#bd3786\"],[0.5555555555555556,\"#d8576b\"],[0.6666666666666666,\"#ed7953\"],[0.7777777777777778,\"#fb9f3a\"],[0.8888888888888888,\"#fdca26\"],[1.0,\"#f0f921\"]]}],\"heatmap\":[{\"type\":\"heatmap\",\"colorbar\":{\"outlinewidth\":0,\"ticks\":\"\"},\"colorscale\":[[0.0,\"#0d0887\"],[0.1111111111111111,\"#46039f\"],[0.2222222222222222,\"#7201a8\"],[0.3333333333333333,\"#9c179e\"],[0.4444444444444444,\"#bd3786\"],[0.5555555555555556,\"#d8576b\"],[0.6666666666666666,\"#ed7953\"],[0.7777777777777778,\"#fb9f3a\"],[0.8888888888888888,\"#fdca26\"],[1.0,\"#f0f921\"]]}],\"heatmapgl\":[{\"type\":\"heatmapgl\",\"colorbar\":{\"outlinewidth\":0,\"ticks\":\"\"},\"colorscale\":[[0.0,\"#0d0887\"],[0.1111111111111111,\"#46039f\"],[0.2222222222222222,\"#7201a8\"],[0.3333333333333333,\"#9c179e\"],[0.4444444444444444,\"#bd3786\"],[0.5555555555555556,\"#d8576b\"],[0.6666666666666666,\"#ed7953\"],[0.7777777777777778,\"#fb9f3a\"],[0.8888888888888888,\"#fdca26\"],[1.0,\"#f0f921\"]]}],\"contourcarpet\":[{\"type\":\"contourcarpet\",\"colorbar\":{\"outlinewidth\":0,\"ticks\":\"\"}}],\"contour\":[{\"type\":\"contour\",\"colorbar\":{\"outlinewidth\":0,\"ticks\":\"\"},\"colorscale\":[[0.0,\"#0d0887\"],[0.1111111111111111,\"#46039f\"],[0.2222222222222222,\"#7201a8\"],[0.3333333333333333,\"#9c179e\"],[0.4444444444444444,\"#bd3786\"],[0.5555555555555556,\"#d8576b\"],[0.6666666666666666,\"#ed7953\"],[0.7777777777777778,\"#fb9f3a\"],[0.8888888888888888,\"#fdca26\"],[1.0,\"#f0f921\"]]}],\"surface\":[{\"type\":\"surface\",\"colorbar\":{\"outlinewidth\":0,\"ticks\":\"\"},\"colorscale\":[[0.0,\"#0d0887\"],[0.1111111111111111,\"#46039f\"],[0.2222222222222222,\"#7201a8\"],[0.3333333333333333,\"#9c179e\"],[0.4444444444444444,\"#bd3786\"],[0.5555555555555556,\"#d8576b\"],[0.6666666666666666,\"#ed7953\"],[0.7777777777777778,\"#fb9f3a\"],[0.8888888888888888,\"#fdca26\"],[1.0,\"#f0f921\"]]}],\"mesh3d\":[{\"type\":\"mesh3d\",\"colorbar\":{\"outlinewidth\":0,\"ticks\":\"\"}}],\"scatter\":[{\"fillpattern\":{\"fillmode\":\"overlay\",\"size\":10,\"solidity\":0.2},\"type\":\"scatter\"}],\"parcoords\":[{\"type\":\"parcoords\",\"line\":{\"colorbar\":{\"outlinewidth\":0,\"ticks\":\"\"}}}],\"scatterpolargl\":[{\"type\":\"scatterpolargl\",\"marker\":{\"colorbar\":{\"outlinewidth\":0,\"ticks\":\"\"}}}],\"bar\":[{\"error_x\":{\"color\":\"#2a3f5f\"},\"error_y\":{\"color\":\"#2a3f5f\"},\"marker\":{\"line\":{\"color\":\"#E5ECF6\",\"width\":0.5},\"pattern\":{\"fillmode\":\"overlay\",\"size\":10,\"solidity\":0.2}},\"type\":\"bar\"}],\"scattergeo\":[{\"type\":\"scattergeo\",\"marker\":{\"colorbar\":{\"outlinewidth\":0,\"ticks\":\"\"}}}],\"scatterpolar\":[{\"type\":\"scatterpolar\",\"marker\":{\"colorbar\":{\"outlinewidth\":0,\"ticks\":\"\"}}}],\"histogram\":[{\"marker\":{\"pattern\":{\"fillmode\":\"overlay\",\"size\":10,\"solidity\":0.2}},\"type\":\"histogram\"}],\"scattergl\":[{\"type\":\"scattergl\",\"marker\":{\"colorbar\":{\"outlinewidth\":0,\"ticks\":\"\"}}}],\"scatter3d\":[{\"type\":\"scatter3d\",\"line\":{\"colorbar\":{\"outlinewidth\":0,\"ticks\":\"\"}},\"marker\":{\"colorbar\":{\"outlinewidth\":0,\"ticks\":\"\"}}}],\"scattermapbox\":[{\"type\":\"scattermapbox\",\"marker\":{\"colorbar\":{\"outlinewidth\":0,\"ticks\":\"\"}}}],\"scatterternary\":[{\"type\":\"scatterternary\",\"marker\":{\"colorbar\":{\"outlinewidth\":0,\"ticks\":\"\"}}}],\"scattercarpet\":[{\"type\":\"scattercarpet\",\"marker\":{\"colorbar\":{\"outlinewidth\":0,\"ticks\":\"\"}}}],\"carpet\":[{\"aaxis\":{\"endlinecolor\":\"#2a3f5f\",\"gridcolor\":\"white\",\"linecolor\":\"white\",\"minorgridcolor\":\"white\",\"startlinecolor\":\"#2a3f5f\"},\"baxis\":{\"endlinecolor\":\"#2a3f5f\",\"gridcolor\":\"white\",\"linecolor\":\"white\",\"minorgridcolor\":\"white\",\"startlinecolor\":\"#2a3f5f\"},\"type\":\"carpet\"}],\"table\":[{\"cells\":{\"fill\":{\"color\":\"#EBF0F8\"},\"line\":{\"color\":\"white\"}},\"header\":{\"fill\":{\"color\":\"#C8D4E3\"},\"line\":{\"color\":\"white\"}},\"type\":\"table\"}],\"barpolar\":[{\"marker\":{\"line\":{\"color\":\"#E5ECF6\",\"width\":0.5},\"pattern\":{\"fillmode\":\"overlay\",\"size\":10,\"solidity\":0.2}},\"type\":\"barpolar\"}],\"pie\":[{\"automargin\":true,\"type\":\"pie\"}]},\"layout\":{\"autotypenumbers\":\"strict\",\"colorway\":[\"#636efa\",\"#EF553B\",\"#00cc96\",\"#ab63fa\",\"#FFA15A\",\"#19d3f3\",\"#FF6692\",\"#B6E880\",\"#FF97FF\",\"#FECB52\"],\"font\":{\"color\":\"#2a3f5f\"},\"hovermode\":\"closest\",\"hoverlabel\":{\"align\":\"left\"},\"paper_bgcolor\":\"white\",\"plot_bgcolor\":\"#E5ECF6\",\"polar\":{\"bgcolor\":\"#E5ECF6\",\"angularaxis\":{\"gridcolor\":\"white\",\"linecolor\":\"white\",\"ticks\":\"\"},\"radialaxis\":{\"gridcolor\":\"white\",\"linecolor\":\"white\",\"ticks\":\"\"}},\"ternary\":{\"bgcolor\":\"#E5ECF6\",\"aaxis\":{\"gridcolor\":\"white\",\"linecolor\":\"white\",\"ticks\":\"\"},\"baxis\":{\"gridcolor\":\"white\",\"linecolor\":\"white\",\"ticks\":\"\"},\"caxis\":{\"gridcolor\":\"white\",\"linecolor\":\"white\",\"ticks\":\"\"}},\"coloraxis\":{\"colorbar\":{\"outlinewidth\":0,\"ticks\":\"\"}},\"colorscale\":{\"sequential\":[[0.0,\"#0d0887\"],[0.1111111111111111,\"#46039f\"],[0.2222222222222222,\"#7201a8\"],[0.3333333333333333,\"#9c179e\"],[0.4444444444444444,\"#bd3786\"],[0.5555555555555556,\"#d8576b\"],[0.6666666666666666,\"#ed7953\"],[0.7777777777777778,\"#fb9f3a\"],[0.8888888888888888,\"#fdca26\"],[1.0,\"#f0f921\"]],\"sequentialminus\":[[0.0,\"#0d0887\"],[0.1111111111111111,\"#46039f\"],[0.2222222222222222,\"#7201a8\"],[0.3333333333333333,\"#9c179e\"],[0.4444444444444444,\"#bd3786\"],[0.5555555555555556,\"#d8576b\"],[0.6666666666666666,\"#ed7953\"],[0.7777777777777778,\"#fb9f3a\"],[0.8888888888888888,\"#fdca26\"],[1.0,\"#f0f921\"]],\"diverging\":[[0,\"#8e0152\"],[0.1,\"#c51b7d\"],[0.2,\"#de77ae\"],[0.3,\"#f1b6da\"],[0.4,\"#fde0ef\"],[0.5,\"#f7f7f7\"],[0.6,\"#e6f5d0\"],[0.7,\"#b8e186\"],[0.8,\"#7fbc41\"],[0.9,\"#4d9221\"],[1,\"#276419\"]]},\"xaxis\":{\"gridcolor\":\"white\",\"linecolor\":\"white\",\"ticks\":\"\",\"title\":{\"standoff\":15},\"zerolinecolor\":\"white\",\"automargin\":true,\"zerolinewidth\":2},\"yaxis\":{\"gridcolor\":\"white\",\"linecolor\":\"white\",\"ticks\":\"\",\"title\":{\"standoff\":15},\"zerolinecolor\":\"white\",\"automargin\":true,\"zerolinewidth\":2},\"scene\":{\"xaxis\":{\"backgroundcolor\":\"#E5ECF6\",\"gridcolor\":\"white\",\"linecolor\":\"white\",\"showbackground\":true,\"ticks\":\"\",\"zerolinecolor\":\"white\",\"gridwidth\":2},\"yaxis\":{\"backgroundcolor\":\"#E5ECF6\",\"gridcolor\":\"white\",\"linecolor\":\"white\",\"showbackground\":true,\"ticks\":\"\",\"zerolinecolor\":\"white\",\"gridwidth\":2},\"zaxis\":{\"backgroundcolor\":\"#E5ECF6\",\"gridcolor\":\"white\",\"linecolor\":\"white\",\"showbackground\":true,\"ticks\":\"\",\"zerolinecolor\":\"white\",\"gridwidth\":2}},\"shapedefaults\":{\"line\":{\"color\":\"#2a3f5f\"}},\"annotationdefaults\":{\"arrowcolor\":\"#2a3f5f\",\"arrowhead\":0,\"arrowwidth\":1},\"geo\":{\"bgcolor\":\"white\",\"landcolor\":\"#E5ECF6\",\"subunitcolor\":\"white\",\"showland\":true,\"showlakes\":true,\"lakecolor\":\"white\"},\"title\":{\"x\":0.05},\"mapbox\":{\"style\":\"light\"}}},\"xaxis\":{\"anchor\":\"y\",\"domain\":[0.0,1.0],\"title\":{\"text\":\"avg_temp\"},\"showgrid\":false},\"yaxis\":{\"anchor\":\"x\",\"domain\":[0.0,1.0],\"title\":{\"text\":\"Values\"},\"showgrid\":false},\"legend\":{\"tracegroupgap\":0},\"title\":{\"text\":\"<b>AVG_TEMP</b>\",\"font\":{\"size\":18},\"x\":0.5},\"boxmode\":\"group\"},                        {\"responsive\": true}                    ).then(function(){\n",
       "                            \n",
       "var gd = document.getElementById('1a7a2ea5-cd3e-4133-8875-be9570242190');\n",
       "var x = new MutationObserver(function (mutations, observer) {{\n",
       "        var display = window.getComputedStyle(gd).display;\n",
       "        if (!display || display === 'none') {{\n",
       "            console.log([gd, 'removed!']);\n",
       "            Plotly.purge(gd);\n",
       "            observer.disconnect();\n",
       "        }}\n",
       "}});\n",
       "\n",
       "// Listen for the removal of the full notebook cells\n",
       "var notebookContainer = gd.closest('#notebook-container');\n",
       "if (notebookContainer) {{\n",
       "    x.observe(notebookContainer, {childList: true});\n",
       "}}\n",
       "\n",
       "// Listen for the clearing of the current output cell\n",
       "var outputEl = gd.closest('.output');\n",
       "if (outputEl) {{\n",
       "    x.observe(outputEl, {childList: true});\n",
       "}}\n",
       "\n",
       "                        })                };                });            </script>        </div>"
      ]
     },
     "metadata": {},
     "output_type": "display_data"
    }
   ],
   "source": [
    "float_columns = df.select_dtypes(include=['float']).columns.tolist()\n",
    "for col in float_columns:\n",
    "    fig = px.box(df, x=col, title=f'Boxplot of {col.upper()}')\n",
    "    fig.update_traces(marker=dict(color='skyblue', line=dict(color='darkblue', width=1)))\n",
    "    fig.update_layout(title=dict(text=f'<b>{col.upper()}</b>', x=0.5, font=dict(size=18)),\n",
    "                      xaxis=dict(title=col, showgrid=False),\n",
    "                      yaxis=dict(title='Values', showgrid=False))\n",
    "    fig.show()"
   ]
  },
  {
   "cell_type": "markdown",
   "id": "f2be5e78",
   "metadata": {},
   "source": [
    "<div style=\"text-align: left;\">\n",
    "    <span style=\"font-family: arial; padding: 5px; display: inline-block; border-radius: 20px 20px; background-color:#FFA500; font-size: 150%; font-weight: 150%; color: white; overflow: hidden; margin-left: 20px;\">&nbsp; 3.2 Removing Outliers  &nbsp;</span>\n",
    "</div>"
   ]
  },
  {
   "cell_type": "code",
   "execution_count": 25,
   "id": "092974f1",
   "metadata": {},
   "outputs": [],
   "source": [
    "def remove_outliers_iqr(df, column):\n",
    "    Q1 = df[column].quantile(0.25)\n",
    "    Q3 = df[column].quantile(0.75)\n",
    "    IQR = Q3 - Q1\n",
    "    \n",
    "    lower_bound = Q1 - 1.5 * IQR\n",
    "    upper_bound = Q3 + 1.5 * IQR\n",
    "    \n",
    "    return df[(df[column] >= lower_bound) & (df[column] <= upper_bound)]"
   ]
  },
  {
   "cell_type": "code",
   "execution_count": 26,
   "id": "57447278",
   "metadata": {},
   "outputs": [],
   "source": [
    "for col in float_columns:\n",
    "    df = remove_outliers_iqr(df, col)"
   ]
  },
  {
   "cell_type": "markdown",
   "id": "9c13e7c2",
   "metadata": {},
   "source": [
    "<br>"
   ]
  },
  {
   "cell_type": "markdown",
   "id": "65bac599",
   "metadata": {},
   "source": [
    "\n",
    "<div style=\"background-color: #007BFF; color: #ffffff; padding: 10px; font-family: 'Verdana', sans-serif; border-radius: 5px; box-shadow: 0px 0px 5px rgba(0, 0, 0, 0.3);\">\n",
    "    <h2 style=\"font-size: 24px; font-weight: bold; margin: 0;\"> Output column Rain Distribution</h2>\n",
    "</div>\n"
   ]
  },
  {
   "cell_type": "code",
   "execution_count": 27,
   "id": "2b053095",
   "metadata": {},
   "outputs": [
    {
     "data": {
      "image/png": "[encoded data removed]",
      "text/plain": [
       "<Figure size 1000x600 with 1 Axes>"
      ]
     },
     "metadata": {},
     "output_type": "display_data"
    }
   ],
   "source": [
    "outcome_count = df['rain'].value_counts()\n",
    "\n",
    "bar_colors = ['#FF6B6B', '#74C69D']  \n",
    "text_box_colors = ['white', 'white']  \n",
    "plt.figure(figsize=(10, 6))\n",
    "sns.barplot(x=outcome_count.index, y=outcome_count.values, palette=bar_colors)\n",
    "plt.title('Rain Distribution', fontsize=16, fontweight='bold')\n",
    "plt.xlabel('Rain', fontsize=12)\n",
    "plt.ylabel('Count', fontsize=12)\n",
    "\n",
    "for i, count in enumerate(outcome_count):\n",
    "    plt.text(i, count, str(count), ha='center', va='bottom', fontsize=14, fontweight='bold', color='white', bbox=dict(facecolor=bar_colors[i], edgecolor=text_box_colors[i], boxstyle='square'))\n",
    "\n",
    "plt.xticks(rotation=0) \n",
    "plt.grid(axis='y', linestyle='--', alpha=0.7)  \n",
    "plt.show()"
   ]
  }
 ],
 "metadata": {
  "kernelspec": {
   "display_name": "Python 3 (ipykernel)",
   "language": "python",
   "name": "python3"
  },
  "language_info": {
   "codemirror_mode": {
    "name": "ipython",
    "version": 3
   },
   "file_extension": ".py",
   "mimetype": "text/x-python",
   "name": "python",
   "nbconvert_exporter": "python",
   "pygments_lexer": "ipython3",
   "version": "3.11.5"
  }
 },
 "nbformat": 4,
 "nbformat_minor": 5
}
